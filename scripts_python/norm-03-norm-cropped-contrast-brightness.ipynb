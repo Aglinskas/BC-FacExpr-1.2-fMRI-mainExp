{
 "cells": [
  {
   "cell_type": "code",
   "execution_count": 7,
   "id": "873adb7e-eb00-494d-8df7-22740c2d196f",
   "metadata": {},
   "outputs": [
    {
     "data": {
      "text/plain": [
       "'/Users/aidasaglinskas/Desktop/BC-FacExpr-1.2-fMRI-mainExp'"
      ]
     },
     "execution_count": 7,
     "metadata": {},
     "output_type": "execute_result"
    }
   ],
   "source": [
    "pwd"
   ]
  },
  {
   "cell_type": "code",
   "execution_count": 8,
   "id": "fc602b8f-d1b9-4dc8-881b-d48a1d8ffa84",
   "metadata": {},
   "outputs": [],
   "source": [
    "#skvideo.setFFmpegPath(\"/Users/aidasaglinskas/Desktop/test/\")"
   ]
  },
  {
   "cell_type": "code",
   "execution_count": 9,
   "id": "68354615-dfae-4dfc-9125-fdb54fbe1c1f",
   "metadata": {},
   "outputs": [],
   "source": [
    "from matplotlib import pyplot as plt\n",
    "from PIL import Image, ImageEnhance,ImageStat\n",
    "import skvideo\n",
    "import skvideo.io\n",
    "import numpy as np\n",
    "import os\n",
    "from tqdm import tqdm"
   ]
  },
  {
   "cell_type": "code",
   "execution_count": 17,
   "id": "4e7cd838-5d63-4b64-8532-eae05be28e92",
   "metadata": {},
   "outputs": [],
   "source": [
    "def load_video(fn):\n",
    "    videodata = skvideo.io.vread(fn)\n",
    "    return videodata"
   ]
  },
  {
   "cell_type": "code",
   "execution_count": 18,
   "id": "0be5b33f-6719-43c1-8d7a-fe453f7e6686",
   "metadata": {},
   "outputs": [],
   "source": [
    "def safe_mkdir(dir_name):\n",
    "    if not os.path.exists(dir_name):\n",
    "        os.mkdir(dir_name)"
   ]
  },
  {
   "cell_type": "code",
   "execution_count": 19,
   "id": "045c7cb7-a35e-4739-bad7-b4657820d7da",
   "metadata": {},
   "outputs": [],
   "source": [
    "def brighten_video(videodata,factor=1):\n",
    "    return np.array([np.array(ImageEnhance.Brightness(Image.fromarray(videodata[frame,:,:,:])).enhance(factor)) for frame in range(videodata.shape[0])])"
   ]
  },
  {
   "cell_type": "code",
   "execution_count": 20,
   "id": "415ebe5d-d9a5-4e10-b584-b3499151b692",
   "metadata": {},
   "outputs": [],
   "source": [
    "def contrast_video(videodata,factor=1):\n",
    "    return np.array([np.array(ImageEnhance.Contrast(Image.fromarray(videodata[frame,:,:,:])).enhance(factor)) for frame in range(videodata.shape[0])])"
   ]
  },
  {
   "cell_type": "code",
   "execution_count": 21,
   "id": "b2dbd7fa-ca3a-4e83-822d-9d828a0867b2",
   "metadata": {},
   "outputs": [],
   "source": [
    "def save_video(videodata,ofn='outvideo.mp4'):\n",
    "    skvideo.io.vwrite(ofn, videodata.astype(np.uint8),outputdict={'-codec': 'h264', '-filter:v' : 'fps=29.97'})"
   ]
  },
  {
   "cell_type": "code",
   "execution_count": 22,
   "id": "206c7cb4-9990-40b4-b9d0-b6ac97636efe",
   "metadata": {},
   "outputs": [],
   "source": [
    "def make_ref(ctargets):\n",
    "    ref = np.ones((10,10,3))\n",
    "    for i in range(3):\n",
    "        ref[:,:,i] = ref[:,:,i] * ctargets[i]\n",
    "    return ref.astype(np.uint8)"
   ]
  },
  {
   "cell_type": "code",
   "execution_count": 23,
   "id": "19f2bbea-f35f-48fa-b26b-f73407470373",
   "metadata": {},
   "outputs": [],
   "source": [
    "def get_face(frame,l=50):\n",
    "    return frame[256-l:256+l,256-l:256+l,:]"
   ]
  },
  {
   "cell_type": "code",
   "execution_count": 24,
   "id": "804615aa-6fc0-40ee-9bc1-2fb857b336d0",
   "metadata": {},
   "outputs": [],
   "source": [
    "def get_mean_rbg(frame):\n",
    "    return frame.mean(axis=0).mean(axis=0)"
   ]
  },
  {
   "cell_type": "code",
   "execution_count": 25,
   "id": "bd5f9e23-2ec6-453a-8001-01c73281667f",
   "metadata": {},
   "outputs": [],
   "source": [
    "def tint_frame_face(frame,ctargets):\n",
    "    \n",
    "    face_square = get_face(frame)\n",
    "    diff = get_mean_rbg(face_square)-ctargets\n",
    "    frame_copy = frame.astype(np.float64)\n",
    "    for i in range(3):\n",
    "        frame_copy[:,:,i] = frame_copy[:,:,i] - diff[i]\n",
    "        frame_copy[frame_copy<0]=0\n",
    "        frame_copy[frame_copy>255]=255\n",
    "        \n",
    "    frame_copy = frame_copy.astype(np.uint8)\n",
    "    return frame_copy"
   ]
  },
  {
   "cell_type": "code",
   "execution_count": 26,
   "id": "e3df7f7e-e192-4c33-b411-93710d2bef03",
   "metadata": {},
   "outputs": [],
   "source": [
    "def tint_video_face(videodata,ctargets):\n",
    "    nframes = videodata.shape[0]\n",
    "    tinted_video = np.array([tint_frame_face(videodata[i,:,:,:],ctargets) for i in range(nframes)])\n",
    "    return tinted_video"
   ]
  },
  {
   "cell_type": "code",
   "execution_count": 72,
   "id": "6abd79a7-859d-49e3-a455-3d69fda37a9a",
   "metadata": {},
   "outputs": [],
   "source": [
    "def tint_frame(frame,ctargets):\n",
    "    \n",
    "    #face_square = get_face(frame)\n",
    "    diff = get_mean_rbg(frame)-ctargets\n",
    "    frame_copy = frame.astype(np.float64)\n",
    "    for i in range(3):\n",
    "        frame_copy[:,:,i] = frame_copy[:,:,i] - diff[i]\n",
    "        frame_copy[frame_copy<0]=0\n",
    "        frame_copy[frame_copy>255]=255\n",
    "        \n",
    "    frame_copy = frame_copy.astype(np.uint8)\n",
    "    return frame_copy"
   ]
  },
  {
   "cell_type": "code",
   "execution_count": 73,
   "id": "5948fe6c-8579-41c4-b16c-01d92e7cea8a",
   "metadata": {},
   "outputs": [],
   "source": [
    "def tint_video(videodata,ctargets):\n",
    "    nframes = videodata.shape[0]\n",
    "    tinted_video = np.array([tint_frame(videodata[i,:,:,:],ctargets) for i in range(nframes)])\n",
    "    return tinted_video"
   ]
  },
  {
   "cell_type": "code",
   "execution_count": null,
   "id": "0971b970-20ab-4572-8baa-af59b9090efe",
   "metadata": {},
   "outputs": [],
   "source": []
  },
  {
   "cell_type": "code",
   "execution_count": null,
   "id": "a5026eb6-e2b9-4026-bce8-7fc6f9db5367",
   "metadata": {},
   "outputs": [],
   "source": []
  },
  {
   "cell_type": "code",
   "execution_count": null,
   "id": "a0bcd3ea-9a0f-4bc6-9f24-3e36d496b674",
   "metadata": {},
   "outputs": [],
   "source": []
  },
  {
   "cell_type": "code",
   "execution_count": null,
   "id": "dfa6b84f-6c04-484e-a6c0-016ba76c0bb5",
   "metadata": {},
   "outputs": [],
   "source": []
  },
  {
   "cell_type": "code",
   "execution_count": 27,
   "id": "8a16b111-fc35-46dc-9439-0db9d61a9a2d",
   "metadata": {},
   "outputs": [
    {
     "data": {
      "text/plain": [
       "['./stimuli_cropped/id1d1.mp4',\n",
       " './stimuli_cropped/id1d2.mp4',\n",
       " './stimuli_cropped/id1f1.mp4',\n",
       " './stimuli_cropped/id1f2.mp4',\n",
       " './stimuli_cropped/id1h1.mp4']"
      ]
     },
     "execution_count": 27,
     "metadata": {},
     "output_type": "execute_result"
    }
   ],
   "source": [
    "indir = './stimuli_cropped/'\n",
    "files = [os.path.join(indir,file) for file in os.listdir(indir) if file.endswith('.mp4')]\n",
    "files.sort()\n",
    "files[0:5]"
   ]
  },
  {
   "cell_type": "code",
   "execution_count": 28,
   "id": "ea381da3-7ad7-46e3-ae0d-0cce6874e4b7",
   "metadata": {},
   "outputs": [
    {
     "data": {
      "text/plain": [
       "68"
      ]
     },
     "execution_count": 28,
     "metadata": {},
     "output_type": "execute_result"
    }
   ],
   "source": [
    "len(files)"
   ]
  },
  {
   "cell_type": "code",
   "execution_count": 29,
   "id": "559d4486-16b3-4e4f-8113-580bca32e8ca",
   "metadata": {},
   "outputs": [
    {
     "name": "stderr",
     "output_type": "stream",
     "text": [
      "100%|███████████████████████████████████████████| 68/68 [00:06<00:00, 11.31it/s]\n",
      "100%|███████████████████████████████████████████| 68/68 [00:05<00:00, 12.64it/s]\n"
     ]
    },
    {
     "data": {
      "image/png": "[encoded data removed]",
      "text/plain": [
       "<Figure size 1440x360 with 4 Axes>"
      ]
     },
     "metadata": {
      "needs_background": "light"
     },
     "output_type": "display_data"
    }
   ],
   "source": [
    "##### CALCULATE\n",
    "\n",
    "hist_brightness = []\n",
    "hist_contrast = []\n",
    "hist_r = []\n",
    "hist_g = []\n",
    "hist_b = []\n",
    "for file in tqdm(files):\n",
    "    vid = load_video(file)\n",
    "    \n",
    "    #hist_brightness.append(  vid[0,:,:,:].mean()  )\n",
    "    #hist_contrast.append(  vid[0,:,:,:].mean(axis=-1).std() )\n",
    "    \n",
    "    hist_brightness.append(  get_face(vid[0,:,:,:]).mean()  )\n",
    "    hist_contrast.append(  get_face(vid[0,:,:,:]).mean(axis=-1).std() )\n",
    "    \n",
    "    hist_r.append( vid[:,:,:,0].mean() )\n",
    "    hist_g.append( vid[:,:,:,1].mean() )\n",
    "    hist_b.append( vid[:,:,:,2].mean() )\n",
    "    \n",
    "    \n",
    "l = 50\n",
    "face_squares = np.array([load_video(files[i])[0,:,:,:][256-l:256+l,256-l:256+l,:] for i in tqdm(range(len(files))) ])\n",
    "\n",
    "##### PLOT\n",
    "\n",
    "brightness_target = np.array(hist_brightness).mean().round(3)\n",
    "\n",
    "contrast_target = np.array(hist_contrast).mean().round(3)\n",
    "\n",
    "target_r = np.array(hist_r).mean().round(3)\n",
    "target_g = np.array(hist_g).mean().round(3)\n",
    "target_b = np.array(hist_b).mean().round(3)\n",
    "\n",
    "ctargets = face_squares.mean(axis=0).mean(axis=0).mean(axis=0)\n",
    "ctargets\n",
    "\n",
    "\n",
    "plt.figure(figsize=(20,5))\n",
    "plt.subplot(1,4,1)\n",
    "plt.hist(hist_brightness);\n",
    "plt.title(f'brightness M = {brightness_target.astype(int)}');\n",
    "plt.subplot(1,4,2)\n",
    "plt.hist(hist_contrast);\n",
    "plt.title(f'contrast M = {contrast_target.astype(int)}');\n",
    "plt.subplot(1,4,3)\n",
    "plt.hist(hist_r,color='r',alpha=.5);\n",
    "plt.hist(hist_g,color='g',alpha=.5);\n",
    "plt.hist(hist_b,color='b',alpha=.5);\n",
    "plt.title(f'frame hist M = {target_r.astype(int)} {target_g.astype(int)} {target_b.astype(int)}');\n",
    "\n",
    "plt.subplot(1,4,4)\n",
    "plt.hist( face_squares.mean(axis=1).mean(axis=1)[:,0],color='r',alpha=.5)\n",
    "plt.hist( face_squares.mean(axis=1).mean(axis=1)[:,1],color='g',alpha=.5)\n",
    "plt.hist( face_squares.mean(axis=1).mean(axis=1)[:,2],color='b',alpha=.5)\n",
    "plt.title(f'Faces hist M = {ctargets[0].astype(int)} {ctargets[1].astype(int)} {ctargets[2].astype(int)}');"
   ]
  },
  {
   "cell_type": "code",
   "execution_count": null,
   "id": "385f5cf7-19fe-4a16-a7b9-5ab2489c48b5",
   "metadata": {},
   "outputs": [],
   "source": [
    "# contrast_target = 50\n",
    "# brightness_target = 75\n",
    "# for i in range(25):\n",
    "#     contrast = get_face(videodata[0,:,:,:]).mean(axis=-1).std()\n",
    "#     brightness = get_face(videodata[0,:,:,:]).mean()\n",
    "\n",
    "#     videodata = contrast_video(videodata,contrast_target/contrast)\n",
    "#     videodata = brighten_video(videodata,brightness_target/brightness)"
   ]
  },
  {
   "cell_type": "code",
   "execution_count": null,
   "id": "596eff0e-e26b-4910-a143-50bd48c1cd0e",
   "metadata": {},
   "outputs": [],
   "source": [
    "# contrast_target = 50\n",
    "# brightness_target = 75"
   ]
  },
  {
   "cell_type": "code",
   "execution_count": 30,
   "id": "33de6786-5503-406e-8e76-f87dfa470192",
   "metadata": {},
   "outputs": [],
   "source": [
    "def get_contrast(frame):\n",
    "    return frame.mean(axis=-1).std().round(2)"
   ]
  },
  {
   "cell_type": "code",
   "execution_count": 31,
   "id": "115be41d-0c43-4a81-a770-c5201f3eef0b",
   "metadata": {},
   "outputs": [],
   "source": [
    "def get_brightness(frame):\n",
    "    return frame.mean().round(2)"
   ]
  },
  {
   "cell_type": "code",
   "execution_count": null,
   "id": "837d5612-2c4c-46b2-b0b3-cbd4aafbf60a",
   "metadata": {},
   "outputs": [],
   "source": []
  },
  {
   "cell_type": "code",
   "execution_count": null,
   "id": "297cb72b-3601-4070-8c40-5491b97c4c30",
   "metadata": {},
   "outputs": [],
   "source": []
  },
  {
   "cell_type": "code",
   "execution_count": 47,
   "id": "d2d17b28-8b37-4077-bf92-6cee6c783610",
   "metadata": {},
   "outputs": [],
   "source": [
    "contrast_target = 50\n",
    "brightness_target = 80\n",
    "ctargets = np.array([100,80,80])"
   ]
  },
  {
   "cell_type": "code",
   "execution_count": 79,
   "id": "902d7eb4-1c68-4ddb-9245-9e156bb390ef",
   "metadata": {},
   "outputs": [],
   "source": [
    "contrast_target = 40\n",
    "brightness_target = 60\n",
    "ctargets = np.array([100,80,80])"
   ]
  },
  {
   "cell_type": "code",
   "execution_count": 81,
   "id": "ebd4f431-b3e6-49b0-81de-84b8d2798769",
   "metadata": {},
   "outputs": [],
   "source": []
  },
  {
   "cell_type": "code",
   "execution_count": 83,
   "id": "afe09e57-d242-483b-aeb6-527d8c094256",
   "metadata": {
    "tags": []
   },
   "outputs": [
    {
     "name": "stderr",
     "output_type": "stream",
     "text": [
      "100%|███████████████████████████████████████████| 68/68 [02:09<00:00,  1.91s/it]\n"
     ]
    }
   ],
   "source": [
    "ofdir = './stimuli_normed_cb/'\n",
    "safe_mkdir(ofdir)\n",
    "\n",
    "#for f in np.arange(0,70,10):\n",
    "#for f in [0]:\n",
    "for f in tqdm(range(len(files))):\n",
    "    fn = files[f]\n",
    "    videodata = load_video(fn)\n",
    "    frame = videodata[0,:,:,:]\n",
    "    face_square = get_face(frame)\n",
    "    face_ref = make_ref(get_mean_rbg(face_square))\n",
    "    \n",
    "    for i in range(25):\n",
    "        #contrast = get_face(videodata[0,:,:,:]).mean(axis=-1).std()\n",
    "        #brightness = get_face(videodata[0,:,:,:]).mean()\n",
    "        \n",
    "        contrast = videodata[0,:,:,:].mean(axis=-1).std()\n",
    "        brightness = videodata[0,:,:,:].mean()\n",
    "\n",
    "        videodata = contrast_video(videodata,contrast_target/contrast)\n",
    "        videodata = brighten_video(videodata,brightness_target/brightness)\n",
    "\n",
    "    \n",
    "    videodata = tint_video(videodata,ctargets)\n",
    "    save_video(videodata,fn.replace(indir,ofdir))\n",
    "    #videodata = tint_video_face(videodata,ctargets)\n",
    "    \n",
    "    #save_video(videodata,fn.replace(indir,ofdir))\n",
    "    \n",
    "    frame_copy = videodata[0,:,:,:]\n",
    "    \n",
    "    #frame_copy = tint_frame_face(frame,ctargets)\n",
    "    new_face = get_face(frame_copy)\n",
    "    new_face_ref = make_ref(get_mean_rbg(new_face))\n",
    "    \n",
    "    do_plot = False\n",
    "    if do_plot:\n",
    "        ncols = 7\n",
    "        plt.figure(figsize=(5*ncols,ncols));i=0;\n",
    "        i+=1;plt.subplot(1,ncols,i);plt.imshow(frame);plt.xticks([]);plt.yticks([]);plt.title('Orig Frame');\n",
    "        i+=1;plt.subplot(1,ncols,i);plt.imshow(frame_copy);plt.xticks([]);plt.yticks([]);plt.title('new frame');\n",
    "\n",
    "        #i+=1;plt.subplot(1,ncols,i);plt.imshow(face_square);plt.xticks([]);plt.yticks([]);plt.title('Orig Face');\n",
    "        #i+=1;plt.subplot(1,ncols,i);plt.imshow(new_face);plt.xticks([]);plt.yticks([]);plt.title('New Face');\n",
    "        \n",
    "        \n",
    "        fontsize=40\n",
    "        i+=1;plt.subplot(1,ncols,i);\n",
    "        plt.text(.5,1,f'C| {get_contrast(get_face(frame))}',fontsize=fontsize);plt.xlim(0,3);plt.ylim(0,3);plt.xticks([]);plt.yticks([]);\n",
    "        plt.text(.5,2,f'B| {get_brightness(get_face(frame))}',fontsize=fontsize);plt.xlim(0,3);plt.ylim(0,3);plt.xticks([]);plt.yticks([]);\n",
    "        #plt.text(.5,1,f'C| {get_contrast(frame)}',fontsize=fontsize);plt.xlim(0,3);plt.ylim(0,3);plt.xticks([]);plt.yticks([]);\n",
    "        #plt.text(.5,2,f'B| {get_brightness(frame)}',fontsize=fontsize);plt.xlim(0,3);plt.ylim(0,3);plt.xticks([]);plt.yticks([]);\n",
    "        plt.title('Original frame')\n",
    "        \n",
    "        \n",
    "        i+=1;plt.subplot(1,ncols,i);\n",
    "        plt.text(.5,1,f'C| {get_contrast(get_face(videodata[0,:,:,:]))}',fontsize=fontsize);plt.xlim(0,3);plt.ylim(0,3);plt.xticks([]);plt.yticks([]);\n",
    "        plt.text(.5,2,f'B| {get_brightness(get_face(videodata[0,:,:,:]))}',fontsize=fontsize);plt.xlim(0,3);plt.ylim(0,3);plt.xticks([]);plt.yticks([]);\n",
    "        #plt.text(.5,1,f'C| {get_contrast(videodata[0,:,:,:])}',fontsize=fontsize);plt.xlim(0,3);plt.ylim(0,3);plt.xticks([]);plt.yticks([]);\n",
    "        #plt.text(.5,2,f'B| {get_brightness(videodata[0,:,:,:])}',fontsize=fontsize);plt.xlim(0,3);plt.ylim(0,3);plt.xticks([]);plt.yticks([]);\n",
    "        plt.title('New frame')\n",
    "        \n",
    "        i+=1;plt.subplot(1,ncols,i);\n",
    "        plt.text(.5,1,f'C| {contrast_target}',fontsize=fontsize);plt.xlim(0,3);plt.ylim(0,3);plt.xticks([]);plt.yticks([]);\n",
    "        plt.text(.5,2,f'B| {brightness_target}',fontsize=fontsize);plt.xlim(0,3);plt.ylim(0,3);plt.xticks([]);plt.yticks([]);\n",
    "        plt.title('Target values')\n",
    "        \n",
    "        i+=1;plt.subplot(1,ncols,i);\n",
    "        delta_c = (abs(contrast_target-contrast)/contrast_target*100).round(2)\n",
    "        delta_b = (abs(brightness_target-brightness)/brightness_target*100).round(2)\n",
    "        plt.text(.5,1,f'C| {delta_c}%',fontsize=fontsize);plt.xlim(0,3);plt.ylim(0,3);plt.xticks([]);plt.yticks([]);\n",
    "        plt.text(.5,2,f'B| {delta_b}%',fontsize=fontsize);plt.xlim(0,3);plt.ylim(0,3);plt.xticks([]);plt.yticks([]);\n",
    "        plt.title('Delta')\n",
    "        \n",
    "        plt.tight_layout()"
   ]
  },
  {
   "cell_type": "code",
   "execution_count": null,
   "id": "1eade909-d29e-4f43-a2b1-880a810eeca0",
   "metadata": {},
   "outputs": [],
   "source": []
  },
  {
   "cell_type": "code",
   "execution_count": null,
   "id": "7d41654b-29a9-4ad1-a8cc-e8e8354fe3ff",
   "metadata": {},
   "outputs": [],
   "source": []
  },
  {
   "cell_type": "code",
   "execution_count": null,
   "id": "36bf1fd9-54f0-41da-8415-242682c53045",
   "metadata": {},
   "outputs": [],
   "source": []
  },
  {
   "cell_type": "code",
   "execution_count": null,
   "id": "a90fb618-21ff-411e-9e1e-2c3d76a84913",
   "metadata": {},
   "outputs": [],
   "source": []
  },
  {
   "cell_type": "code",
   "execution_count": 84,
   "id": "cf76e962-fbde-41d2-8647-b008ed8d5468",
   "metadata": {},
   "outputs": [
    {
     "name": "stderr",
     "output_type": "stream",
     "text": [
      "100%|███████████████████████████████████████████| 68/68 [00:07<00:00,  9.25it/s]\n",
      "100%|███████████████████████████████████████████| 68/68 [00:05<00:00, 11.95it/s]\n"
     ]
    },
    {
     "data": {
      "image/png": "[encoded data removed]",
      "text/plain": [
       "<Figure size 1440x720 with 6 Axes>"
      ]
     },
     "metadata": {
      "needs_background": "light"
     },
     "output_type": "display_data"
    }
   ],
   "source": [
    "#### DEFINE \n",
    "\n",
    "indir = './stimuli_normed_cb/'\n",
    "files = [os.path.join(indir,file) for file in os.listdir(indir) if file.endswith('.mp4')]\n",
    "files.sort()\n",
    "files[0:5]\n",
    "\n",
    "##### CALCULATE\n",
    "\n",
    "hist_brightness = []\n",
    "hist_contrast = []\n",
    "hist_r = []\n",
    "hist_g = []\n",
    "hist_b = []\n",
    "for file in tqdm(files):\n",
    "    vid = load_video(file)\n",
    "    \n",
    "    hist_brightness.append(  vid[0,:,:,:].mean()  )\n",
    "    hist_contrast.append(  vid[0,:,:,:].mean(axis=-1).std() )\n",
    "    \n",
    "    hist_r.append( vid[:,:,:,0].mean() )\n",
    "    hist_g.append( vid[:,:,:,1].mean() )\n",
    "    hist_b.append( vid[:,:,:,2].mean() )\n",
    "    \n",
    "    \n",
    "l = 50\n",
    "face_squares = np.array([load_video(files[i])[0,:,:,:][256-l:256+l,256-l:256+l,:] for i in tqdm(range(len(files))) ])\n",
    "\n",
    "##### PLOT\n",
    "\n",
    "brightness_target = np.array(hist_brightness).mean().round(3)\n",
    "\n",
    "contrast_target = np.array(hist_contrast).mean().round(3)\n",
    "\n",
    "target_r = np.array(hist_r).mean().round(3)\n",
    "target_g = np.array(hist_g).mean().round(3)\n",
    "target_b = np.array(hist_b).mean().round(3)\n",
    "\n",
    "ctargets = face_squares.mean(axis=0).mean(axis=0).mean(axis=0)\n",
    "ctargets\n",
    "\n",
    "\n",
    "plt.figure(figsize=(20,10))\n",
    "plt.subplot(2,3,1)\n",
    "plt.hist(hist_brightness);\n",
    "plt.title(f'brightness M = {brightness_target.astype(int)}');\n",
    "plt.subplot(2,3,2)\n",
    "plt.hist(hist_contrast);\n",
    "plt.title(f'contrast M = {contrast_target.astype(int)}');\n",
    "plt.subplot(2,3,3)\n",
    "plt.hist(hist_r,color='r',alpha=.5);\n",
    "plt.hist(hist_g,color='g',alpha=.5);\n",
    "plt.hist(hist_b,color='b',alpha=.5);\n",
    "plt.title(f'frame hist M = {target_r.astype(int)} {target_g.astype(int)} {target_b.astype(int)}');\n",
    "\n",
    "\n",
    "plt.subplot(2,3,4)\n",
    "face_brightness = np.array([face_squares[i,:,:,:].mean() for i in range(face_squares.shape[0])])\n",
    "plt.hist(face_brightness)\n",
    "plt.title(f'face brightness M = {face_brightness.mean().astype(int)}');\n",
    "\n",
    "plt.subplot(2,3,5)\n",
    "face_contrast = np.array([face_squares[i,:,:,:].mean(axis=-1).std() for i in range(face_squares.shape[0])])\n",
    "plt.hist(face_contrast)\n",
    "plt.title(f'face contrast M = {face_contrast.mean().astype(int)}');\n",
    "\n",
    "\n",
    "plt.subplot(2,3,6)\n",
    "plt.hist( face_squares.mean(axis=1).mean(axis=1)[:,0],color='r',alpha=.5)\n",
    "plt.hist( face_squares.mean(axis=1).mean(axis=1)[:,1],color='g',alpha=.5)\n",
    "plt.hist( face_squares.mean(axis=1).mean(axis=1)[:,2],color='b',alpha=.5)\n",
    "plt.title(f'Faces hist M = {ctargets[0].astype(int)} {ctargets[1].astype(int)} {ctargets[2].astype(int)}');"
   ]
  },
  {
   "cell_type": "code",
   "execution_count": null,
   "id": "2ec78ffc-63d9-4846-b07a-4ae83009306e",
   "metadata": {},
   "outputs": [],
   "source": []
  },
  {
   "cell_type": "code",
   "execution_count": 87,
   "id": "d933050d-42b6-4b1b-a24d-5ceaf582f7c9",
   "metadata": {},
   "outputs": [],
   "source": [
    "indir = './stimuli_normed_cb/'"
   ]
  },
  {
   "cell_type": "code",
   "execution_count": 88,
   "id": "e30c31ad-4ecb-4a84-a392-211ea93c3040",
   "metadata": {},
   "outputs": [
    {
     "data": {
      "text/plain": [
       "<matplotlib.colorbar.Colorbar at 0x1677b9be0>"
      ]
     },
     "execution_count": 88,
     "metadata": {},
     "output_type": "execute_result"
    },
    {
     "data": {
      "image/png": "[encoded data removed]",
      "text/plain": [
       "<Figure size 432x288 with 2 Axes>"
      ]
     },
     "metadata": {
      "needs_background": "light"
     },
     "output_type": "display_data"
    }
   ],
   "source": [
    "#indir = './stimuli_normed_cb_tint_1/'\n",
    "files = [os.path.join(indir,file) for file in os.listdir(indir) if file.endswith('.mp4')]\n",
    "files.sort()\n",
    "mat = np.array([load_video(file)[0,:,:,:].flatten() for file in files])\n",
    "plt.imshow(np.corrcoef(mat))\n",
    "plt.title(indir)\n",
    "plt.colorbar()"
   ]
  },
  {
   "cell_type": "code",
   "execution_count": 89,
   "id": "23886fcd-4404-4192-85a5-fe4c277c2cae",
   "metadata": {},
   "outputs": [],
   "source": [
    "from scipy.cluster.hierarchy import linkage,dendrogram\n",
    "\n",
    "def get_triu(inMat):\n",
    "    #inMat = rdm_bg\n",
    "\n",
    "    assert np.ndim(inMat)==2, 'not 2 dim, wtf'\n",
    "    assert inMat.shape[0]==inMat.shape[1], 'not a square'\n",
    "\n",
    "    n = inMat.shape[0]\n",
    "    triu_vec = inMat[np.triu_indices(n=n,k=1)]\n",
    "\n",
    "    #assert (squareform(triu_vec)==inMat).sum()/(n**2)>.9, 'unfaithful triu'\n",
    "    return triu_vec"
   ]
  },
  {
   "cell_type": "code",
   "execution_count": 90,
   "id": "28673b85-7779-4493-85b4-84453470981d",
   "metadata": {},
   "outputs": [
    {
     "data": {
      "image/png": "[encoded data removed]",
      "text/plain": [
       "<Figure size 1080x360 with 1 Axes>"
      ]
     },
     "metadata": {
      "needs_background": "light"
     },
     "output_type": "display_data"
    }
   ],
   "source": [
    "from scipy.cluster.hierarchy import linkage,dendrogram\n",
    "Y = 1-get_triu(np.corrcoef(mat))\n",
    "Z = linkage(Y,'ward')\n",
    "lbls = [file.split('/')[-1].replace('.mp4','')[2] for file in files]\n",
    "plt.figure(figsize=(15,5))\n",
    "dendrogram(Z,0,labels=lbls,orientation='top',leaf_font_size=12,color_threshold=.5,leaf_rotation=0);"
   ]
  },
  {
   "cell_type": "code",
   "execution_count": 91,
   "id": "a912e73c-ebb9-4b1b-8f5e-0bf910c84a53",
   "metadata": {},
   "outputs": [],
   "source": []
  },
  {
   "cell_type": "code",
   "execution_count": 143,
   "id": "7e761a33-5cdb-4570-bc15-80e8e6f4b588",
   "metadata": {},
   "outputs": [],
   "source": [
    "def get_flows(videodata):\n",
    "    \n",
    "    import cv2\n",
    "    \n",
    "    nframes = videodata.shape[0]\n",
    "    nframes = videodata.shape[0]\n",
    "    flows = []\n",
    "    idx_i = np.arange(0,nframes-1)\n",
    "    idx_j = np.arange(1,nframes)\n",
    "    for i in range(len(idx_i)):\n",
    "            frame1 = videodata[idx_i[i],:,:,:].mean(axis=-1).astype(np.int8)\n",
    "            frame2 = videodata[idx_j[j],:,:,:].mean(axis=-1).astype(np.int8)\n",
    "            flow = cv2.calcOpticalFlowFarneback(frame1, frame2, None, pyr_scale = 0.5, levels = 5, winsize = 11, iterations = 5, poly_n = 5, poly_sigma = 1.1, flags = 0)\n",
    "            flows.append(flow)\n",
    "            \n",
    "    return np.array(flows)"
   ]
  },
  {
   "cell_type": "code",
   "execution_count": 157,
   "id": "09983873-43c6-4a27-b60d-c1f7eead90ee",
   "metadata": {},
   "outputs": [],
   "source": [
    "def get_flow_SS(flows):\n",
    "    return ((flows-flows.mean(axis=0))**2).sum(axis=0).mean(axis=-1)"
   ]
  },
  {
   "cell_type": "code",
   "execution_count": 234,
   "id": "921a1093-63ac-4b65-b810-f14b1d0da25e",
   "metadata": {},
   "outputs": [],
   "source": [
    "def get_magnitude(flows):\n",
    "    mags = np.array([cv2.cartToPolar(flows[i,:,:,0],flows[i,:,:,1])[0] for i in range(flows.shape[0])])\n",
    "    return mags.mean(axis=0)"
   ]
  },
  {
   "cell_type": "code",
   "execution_count": 144,
   "id": "25e19ff2-6835-4593-891a-7d2dab609b9b",
   "metadata": {},
   "outputs": [],
   "source": [
    "files = [os.path.join(indir,file) for file in os.listdir(indir) if file.endswith('.mp4')]\n",
    "file = files[0]\n",
    "videodata = load_video(file)"
   ]
  },
  {
   "cell_type": "code",
   "execution_count": 240,
   "id": "b430093c-e325-4cd5-b474-218be3b9b48c",
   "metadata": {},
   "outputs": [
    {
     "name": "stderr",
     "output_type": "stream",
     "text": [
      "100%|███████████████████████████████████████████| 68/68 [01:13<00:00,  1.08s/it]\n"
     ]
    }
   ],
   "source": [
    "#flows_SS = [get_magnitude(get_flows(load_video(file))) for file in tqdm(files)]\n",
    "flows_SS = [get_flow_SS(get_flows(load_video(file))) for file in tqdm(files)]"
   ]
  },
  {
   "cell_type": "code",
   "execution_count": 241,
   "id": "4383ff92-5d73-474c-b527-bfde4cf0023d",
   "metadata": {},
   "outputs": [
    {
     "data": {
      "text/plain": [
       "(256, 256)"
      ]
     },
     "execution_count": 241,
     "metadata": {},
     "output_type": "execute_result"
    }
   ],
   "source": [
    "flows_SS[0].shape"
   ]
  },
  {
   "cell_type": "code",
   "execution_count": 242,
   "id": "e2a49a9c-db77-45d7-a32f-8e8929588b35",
   "metadata": {},
   "outputs": [
    {
     "data": {
      "text/plain": [
       "(68, 65536)"
      ]
     },
     "execution_count": 242,
     "metadata": {},
     "output_type": "execute_result"
    }
   ],
   "source": [
    "flows_flat = np.array([np.array(flows_SS)[i,:,:].flatten() for i in range(np.array(flows_SS).shape[0])])\n",
    "flows_flat.shape"
   ]
  },
  {
   "cell_type": "code",
   "execution_count": 243,
   "id": "7583ef00-5760-403a-b655-bc8da073ffc2",
   "metadata": {},
   "outputs": [
    {
     "data": {
      "text/plain": [
       "<matplotlib.image.AxesImage at 0x162364f40>"
      ]
     },
     "execution_count": 243,
     "metadata": {},
     "output_type": "execute_result"
    },
    {
     "data": {
      "image/png": "[encoded data removed]",
      "text/plain": [
       "<Figure size 432x288 with 1 Axes>"
      ]
     },
     "metadata": {
      "needs_background": "light"
     },
     "output_type": "display_data"
    }
   ],
   "source": [
    "plt.imshow(np.corrcoef(flows_flat))"
   ]
  },
  {
   "cell_type": "code",
   "execution_count": 244,
   "id": "02cbbdf5-f912-4af8-87ec-3472363374d2",
   "metadata": {},
   "outputs": [
    {
     "data": {
      "image/png": "[encoded data removed]",
      "text/plain": [
       "<Figure size 1800x360 with 1 Axes>"
      ]
     },
     "metadata": {
      "needs_background": "light"
     },
     "output_type": "display_data"
    }
   ],
   "source": [
    "Y = 1-get_triu(np.corrcoef(flows_flat))\n",
    "Z = linkage(Y,'ward')\n",
    "lbls = [file.split('/')[-1].replace('.mp4','')[2:4] for file in files]\n",
    "plt.figure(figsize=(25,5))\n",
    "dendrogram(Z,0,labels=lbls,orientation='top',leaf_font_size=12,color_threshold=.5,leaf_rotation=0);"
   ]
  },
  {
   "cell_type": "code",
   "execution_count": null,
   "id": "392b8411-6ed6-45c3-863c-2c217936e611",
   "metadata": {},
   "outputs": [],
   "source": []
  },
  {
   "cell_type": "code",
   "execution_count": null,
   "id": "778fb1d6-08c2-4be6-8584-2a12d78a3f0c",
   "metadata": {},
   "outputs": [],
   "source": []
  },
  {
   "cell_type": "code",
   "execution_count": null,
   "id": "5da0eb5f-6e2c-4c3c-88aa-e62be16a36dd",
   "metadata": {},
   "outputs": [],
   "source": []
  },
  {
   "cell_type": "code",
   "execution_count": null,
   "id": "3c36031b-c622-4177-ad9c-afd3a5181870",
   "metadata": {},
   "outputs": [],
   "source": []
  },
  {
   "cell_type": "code",
   "execution_count": null,
   "id": "072e3417-173f-482a-94d4-f66102a6435d",
   "metadata": {},
   "outputs": [],
   "source": []
  },
  {
   "cell_type": "code",
   "execution_count": null,
   "id": "8ea2c49e-dc22-4fbd-8c9d-1e2b03343cf1",
   "metadata": {},
   "outputs": [],
   "source": []
  },
  {
   "cell_type": "code",
   "execution_count": null,
   "id": "93056e9c-70d9-4c25-8713-4625951c7f70",
   "metadata": {},
   "outputs": [],
   "source": []
  },
  {
   "cell_type": "code",
   "execution_count": null,
   "id": "0224dfa2-4589-4926-a1e0-2d212e4339e7",
   "metadata": {},
   "outputs": [],
   "source": []
  },
  {
   "cell_type": "code",
   "execution_count": null,
   "id": "82a6371c-fb39-4b92-b4c3-d4f037b987f0",
   "metadata": {},
   "outputs": [],
   "source": []
  },
  {
   "cell_type": "code",
   "execution_count": null,
   "id": "ff31236a-b334-4ea7-aeee-6c1f3f02afcc",
   "metadata": {},
   "outputs": [],
   "source": []
  },
  {
   "cell_type": "code",
   "execution_count": null,
   "id": "e02854dd-7d6a-4024-a2ac-e658742c3928",
   "metadata": {},
   "outputs": [],
   "source": []
  },
  {
   "cell_type": "code",
   "execution_count": null,
   "id": "73c9bb6c-03df-4823-a42c-74e0dc7c1001",
   "metadata": {},
   "outputs": [],
   "source": []
  }
 ],
 "metadata": {
  "kernelspec": {
   "display_name": "Python 3 (ipykernel)",
   "language": "python",
   "name": "python3"
  },
  "language_info": {
   "codemirror_mode": {
    "name": "ipython",
    "version": 3
   },
   "file_extension": ".py",
   "mimetype": "text/x-python",
   "name": "python",
   "nbconvert_exporter": "python",
   "pygments_lexer": "ipython3",
   "version": "3.9.7"
  }
 },
 "nbformat": 4,
 "nbformat_minor": 5
}
