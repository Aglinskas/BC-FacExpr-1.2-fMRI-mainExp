{
 "cells": [
  {
   "cell_type": "code",
   "execution_count": 1,
   "id": "401e2b34-2a98-4e6a-ab5f-c11a6434355a",
   "metadata": {},
   "outputs": [
    {
     "data": {
      "text/plain": [
       "'/Users/aidasaglinskas/Desktop/BC-FacExpr-1.2-fMRI-mainExp'"
      ]
     },
     "execution_count": 1,
     "metadata": {},
     "output_type": "execute_result"
    }
   ],
   "source": [
    "pwd"
   ]
  },
  {
   "cell_type": "code",
   "execution_count": 22,
   "id": "30d31485-02f9-455d-b50f-1e2ecb255dc7",
   "metadata": {},
   "outputs": [],
   "source": [
    "from matplotlib import pyplot as plt\n",
    "from PIL import Image, ImageEnhance,ImageStat\n",
    "import skvideo\n",
    "import skvideo.io\n",
    "import numpy as np\n",
    "import os\n",
    "from tqdm import tqdm\n",
    "import alignfaces as afa\n",
    "import cv2"
   ]
  },
  {
   "cell_type": "code",
   "execution_count": 23,
   "id": "21d8349b-da2b-4df2-907e-c8427bab5f62",
   "metadata": {},
   "outputs": [],
   "source": [
    "def safe_mkdir(dir_name):\n",
    "    if not os.path.exists(dir_name):\n",
    "        os.mkdir(dir_name)"
   ]
  },
  {
   "cell_type": "code",
   "execution_count": 24,
   "id": "25a53c9a-db04-45f4-ad84-8dcfb7960051",
   "metadata": {},
   "outputs": [],
   "source": [
    "def load_video(fn):\n",
    "    #fn = 'ID4_h1_1.mp4'\n",
    "    videodata = skvideo.io.vread(fn)\n",
    "    return videodata"
   ]
  },
  {
   "cell_type": "code",
   "execution_count": 25,
   "id": "b7347e00-ea9b-470e-89c3-2f4983f216d6",
   "metadata": {},
   "outputs": [],
   "source": [
    "def save_video(videodata,ofn='outvideo.mp4'):\n",
    "    skvideo.io.vwrite(ofn, videodata.astype(np.uint8),outputdict={'-codec': 'h264', '-filter:v' : 'fps=29.97'})"
   ]
  },
  {
   "cell_type": "code",
   "execution_count": 26,
   "id": "96607699-1f13-4540-ac96-ba89530dace8",
   "metadata": {},
   "outputs": [
    {
     "data": {
      "text/plain": [
       "['./stimuli/id1d1.mp4',\n",
       " './stimuli/id1d2.mp4',\n",
       " './stimuli/id1f1.mp4',\n",
       " './stimuli/id1f2.mp4',\n",
       " './stimuli/id1h1.mp4']"
      ]
     },
     "execution_count": 26,
     "metadata": {},
     "output_type": "execute_result"
    }
   ],
   "source": [
    "files = [os.path.join('./stimuli/',file) for file in os.listdir('./stimuli/') if file.endswith('.mp4')]\n",
    "files.sort()\n",
    "files[0:5]"
   ]
  },
  {
   "cell_type": "code",
   "execution_count": 7,
   "id": "305d54c4-a0ed-4a9e-acd1-32c5afb4af95",
   "metadata": {},
   "outputs": [],
   "source": [
    "def split_into_frames(vid_fn):\n",
    "    videodata = load_video(vid_fn)\n",
    "    nframes = videodata.shape[0]\n",
    "    frame_filenames = []\n",
    "    for f in range(nframes):\n",
    "        frame = videodata[f,:,:,:]\n",
    "        frame_ofn = vid_fn.replace('.mp4','').replace('./stimuli/','./stimuli_pics/')+f'frame-{f}.png'\n",
    "        frame_filenames.append(frame_ofn)\n",
    "        Image.fromarray(frame).save(frame_ofn)\n",
    "    return frame_filenames,videodata"
   ]
  },
  {
   "cell_type": "code",
   "execution_count": 8,
   "id": "64e9fa23-1b48-450b-a88d-62445d55fadf",
   "metadata": {},
   "outputs": [],
   "source": [
    "def get_video_frames(vid_fn):\n",
    "    vid_name = vid_fn.split('/')[-1].replace('.mp4','')\n",
    "    frames_bad = [i for i in os.listdir('./stimuli_pics/') if i.startswith(vid_name)]\n",
    "    frames = [f'./stimuli_pics/{vid_name}frame-{i:01d}.png' for i in range(len(frames_bad))]\n",
    "    return frames"
   ]
  },
  {
   "cell_type": "code",
   "execution_count": 9,
   "id": "f1d5ac80-78c2-41fe-91ed-0ce16276c6f6",
   "metadata": {},
   "outputs": [],
   "source": [
    "def return_frame(image_fn,enlarge=0):\n",
    "    \n",
    "    trained_data = cv2.CascadeClassifier('haarcascade_frontalface_default.xml')\n",
    "    img = cv2.imread(image_fn)\n",
    "    gray_img = cv2.cvtColor(img, cv2.COLOR_BGR2GRAY)\n",
    "    face_cordinates = trained_data.detectMultiScale(gray_img)\n",
    "    face_cordinates = face_cordinates + [-enlarge,-enlarge,enlarge*2,enlarge*2]\n",
    "    \n",
    "    return face_cordinates"
   ]
  },
  {
   "cell_type": "code",
   "execution_count": 10,
   "id": "ebd14452-62f4-432a-814d-1107e89f2f45",
   "metadata": {},
   "outputs": [],
   "source": [
    " def crop_frame_to_rect(image_fn,rect,debug=False):\n",
    "    img = cv2.imread(image_fn)\n",
    "    img2 = cv2.imread(image_fn)\n",
    "    for (x, y, w, h) in rect:\n",
    "        cv2.rectangle(img, (x, y), (x+w, y+h), (0, 0, 0), -2)\n",
    "        \n",
    "    img2[img!=0]=0\n",
    "\n",
    "    if debug==False:\n",
    "        return img2\n",
    "    else:\n",
    "        return img2,img"
   ]
  },
  {
   "cell_type": "code",
   "execution_count": 11,
   "id": "9a7c3fa6-fb7e-41bd-844a-a58795f5c9a5",
   "metadata": {},
   "outputs": [],
   "source": [
    "def rect_size(mean_frame):\n",
    "    for (x, y, w, h) in rect:\n",
    "        size = w*h\n",
    "    return size"
   ]
  },
  {
   "cell_type": "code",
   "execution_count": 12,
   "id": "04fde738-28ca-44ad-83a0-6f917b5c9d96",
   "metadata": {},
   "outputs": [],
   "source": [
    "def save_cropped(frame_filenames,videodata,vid_ofn):\n",
    "    mask = np.array([crop_frame(frame_filename)[1] for frame_filename in frame_filenames])\n",
    "    vid_mask = ((mask==0).sum(-1)==3).sum(axis=0)>1    \n",
    "    videodata_cropped = videodata.copy()\n",
    "    nframes = videodata_cropped.shape[0]\n",
    "    for f in range(nframes):\n",
    "        for c in range(3):\n",
    "            videodata_cropped[f,:,:,c][~vid_mask]=0\n",
    "            \n",
    "    save_video(videodata_cropped,ofn=vid_ofn)"
   ]
  },
  {
   "cell_type": "code",
   "execution_count": 13,
   "id": "d574f199-d3e6-4daf-96d6-69290cde0770",
   "metadata": {},
   "outputs": [],
   "source": [
    "def resize_video(video_data,vid_size_target=(512,512)):\n",
    "    from PIL import Image, ImageEnhance,ImageStat\n",
    "    import numpy as np\n",
    "    \n",
    "    #vid_size_target = np.array((512,512))\n",
    "    vid_size_target = np.array(vid_size_target)\n",
    "    vid_size = np.array((video_data.shape[1],video_data.shape[2]))\n",
    "    nframes = video_data.shape[0]\n",
    "    nchannels = video_data.shape[-1]\n",
    "    video_data_new = np.zeros((nframes,vid_size_target[0],vid_size_target[1],nchannels))\n",
    "    for f in range(nframes):\n",
    "        video_data_new[f,:,:,:] = np.array(Image.fromarray(video_data[f,:,:,:]).resize(vid_size_target,Image.ANTIALIAS))\n",
    "\n",
    "    return video_data_new"
   ]
  },
  {
   "cell_type": "code",
   "execution_count": 14,
   "id": "8156f75c-6d0f-4515-85e3-aa57af2dd100",
   "metadata": {},
   "outputs": [],
   "source": [
    "def resize_video(video_data,vid_size_target=(512,512)):\n",
    "    from PIL import Image, ImageEnhance,ImageStat\n",
    "    import numpy as np\n",
    "    \n",
    "    #vid_size_target = np.array((512,512))\n",
    "    vid_size_target = np.array(vid_size_target)\n",
    "    vid_size = np.array((video_data.shape[1],video_data.shape[2]))\n",
    "    nframes = video_data.shape[0]\n",
    "    nchannels = video_data.shape[-1]\n",
    "    video_data_new = np.zeros((nframes,vid_size_target[0],vid_size_target[1],nchannels))\n",
    "    for f in range(nframes):\n",
    "        video_data_new[f,:,:,:] = np.array(Image.fromarray(video_data[f,:,:,:]).resize(vid_size_target[-1::-1],Image.ANTIALIAS))\n",
    "        \n",
    "    return video_data_new"
   ]
  },
  {
   "cell_type": "code",
   "execution_count": null,
   "id": "ee74ce27-102a-4cf3-a79b-77885288eeee",
   "metadata": {},
   "outputs": [],
   "source": []
  },
  {
   "cell_type": "code",
   "execution_count": null,
   "id": "113188bc-81bf-453f-8d30-d1bad489e4cb",
   "metadata": {},
   "outputs": [],
   "source": []
  },
  {
   "cell_type": "code",
   "execution_count": null,
   "id": "c720bdfb-615c-48a2-864d-8329ede2e2f1",
   "metadata": {},
   "outputs": [],
   "source": []
  },
  {
   "cell_type": "code",
   "execution_count": null,
   "id": "a9e467e1-fb8a-4d09-ad5f-c942af00c8e3",
   "metadata": {},
   "outputs": [],
   "source": []
  },
  {
   "cell_type": "code",
   "execution_count": null,
   "id": "7e4c39a1-e758-4b73-8097-0a11bb8f4c9a",
   "metadata": {},
   "outputs": [],
   "source": []
  },
  {
   "cell_type": "code",
   "execution_count": 15,
   "id": "5a1ce3d7-e557-43ff-8c47-2513b3c5334a",
   "metadata": {},
   "outputs": [],
   "source": [
    "# plt.figure(figsize=(15,15))\n",
    "# for i,file in tqdm(enumerate(files[0::10])):\n",
    "#     vid_fn = file\n",
    "#     frame_filenames,video_data = split_into_frames(vid_fn)\n",
    "\n",
    "#     frame_rects = np.array([return_frame(frame_filename,enlarge=0)[0] for frame_filename in frame_filenames])\n",
    "#     mean_frame = frame_rects.mean(axis=0).astype(int)\n",
    "\n",
    "#     print(mean_frame)\n",
    "\n",
    "#     c = [[mean_frame[0],mean_frame[1],256,256]]\n",
    "#     print(c)\n",
    "\n",
    "#     x = c[0][0] - int(mean_frame[3]*.1)\n",
    "#     y = c[0][1] - int(mean_frame[3]*.15)\n",
    "#     w = c[0][2] + int(mean_frame[3]*.4)\n",
    "#     h = c[0][3] + int(mean_frame[3]*.4)\n",
    "\n",
    "\n",
    "#     nframes = video_data.shape[0]\n",
    "#     video_data_cropped = np.array([video_data[f,y:y+h,x:x+w,:] for f in range(nframes)])\n",
    "#     #video_data_cropped = resize_video(video_data_cropped,vid_size_target=(384,256))\n",
    "#     print(video_data_cropped.shape)\n",
    "#     #save_video(video_data_cropped,vid_fn.replace('./stimuli/','./stimuli_cropped/'))\n",
    "\n",
    "#     print(print(np.array((video_data_cropped.shape[1]/video_data_cropped.shape[2])).round(4)))\n",
    "    \n",
    "#     plt.subplot(4,4,i+1)\n",
    "#     plt.imshow(video_data_cropped[0,:,:,:].astype(np.uint8))\n",
    "\n",
    "#     #Image.fromarray(video_data_cropped[0,:,:,:].astype(np.uint8))"
   ]
  },
  {
   "cell_type": "code",
   "execution_count": 16,
   "id": "c48eb7bb-5856-4f7e-83fc-0a2b8becf8f1",
   "metadata": {},
   "outputs": [],
   "source": [
    "# for vid_fn in tqdm(files):\n",
    "    \n",
    "#     frame_filenames = get_video_frames(vid_fn)\n",
    "#     video_data = load_video(vid_fn)\n",
    "    \n",
    "#     #frame_filenames,video_data = split_into_frames(vid_fn)\n",
    "    \n",
    "#     frame_rects = np.array([return_frame(frame_filename,enlarge=100)[0] for frame_filename in frame_filenames])\n",
    "#     mean_frame = frame_rects.mean(axis=0).astype(int)\n",
    "\n",
    "#     c = [[mean_frame[0],mean_frame[1],512,512]]\n",
    "\n",
    "#     x = c[0][0]\n",
    "#     y = c[0][1]\n",
    "#     w = c[0][2]\n",
    "#     h = c[0][3]\n",
    "\n",
    "    \n",
    "#     nframes = video_data.shape[0]\n",
    "#     video_data_cropped = np.array([video_data[f,y:y+h,x:x+w,:] for f in range(nframes)])\n",
    "#     video_data_cropped = resize_video(video_data_cropped,vid_size_target=(512,512))\n",
    "#     save_video(video_data_cropped,vid_fn.replace('./stimuli/','./stimuli_cropped/'))"
   ]
  },
  {
   "cell_type": "code",
   "execution_count": 27,
   "id": "e9c4ddf9-df38-4b43-bcdc-796565df27e0",
   "metadata": {},
   "outputs": [
    {
     "name": "stderr",
     "output_type": "stream",
     "text": [
      "100%|███████████████████████████████████████████| 19/19 [01:15<00:00,  3.99s/it]\n"
     ]
    }
   ],
   "source": [
    "safe_mkdir('./stimuli_cropped')\n",
    "\n",
    "for vid_fn in tqdm(files[50::]):\n",
    "    \n",
    "    frame_filenames = get_video_frames(vid_fn)\n",
    "    video_data = load_video(vid_fn)\n",
    "    \n",
    "    #frame_filenames,video_data = split_into_frames(vid_fn)\n",
    "    \n",
    "    frame_rects = np.array([return_frame(frame_filename,enlarge=0)[0] for frame_filename in frame_filenames])\n",
    "    mean_frame = frame_rects.mean(axis=0).astype(int)\n",
    "\n",
    "    c = [[mean_frame[0],mean_frame[1],256,256]]\n",
    "\n",
    "    x = c[0][0] - int(mean_frame[3]*.1)\n",
    "    y = c[0][1] - int(mean_frame[3]*.15)\n",
    "    w = c[0][2] + int(mean_frame[3]*.4)\n",
    "    h = c[0][3] + int(mean_frame[3]*.4)\n",
    "    \n",
    "    nframes = video_data.shape[0]\n",
    "    video_data_cropped = np.array([video_data[f,y:y+h,x:x+w,:] for f in range(nframes)])\n",
    "    video_data_cropped = resize_video(video_data_cropped,vid_size_target=(256,256))\n",
    "    save_video(video_data_cropped,vid_fn.replace('./stimuli/','./stimuli_cropped/'))"
   ]
  },
  {
   "cell_type": "code",
   "execution_count": null,
   "id": "b915283d-27f7-4c8f-9baa-ec6b3c12a043",
   "metadata": {},
   "outputs": [],
   "source": []
  },
  {
   "cell_type": "code",
   "execution_count": null,
   "id": "1f6a2dcc-f000-438c-bd3a-e4e5cb26508d",
   "metadata": {},
   "outputs": [],
   "source": []
  },
  {
   "cell_type": "code",
   "execution_count": null,
   "id": "b1429f91-705c-4137-b363-4ff37110ca52",
   "metadata": {},
   "outputs": [],
   "source": []
  },
  {
   "cell_type": "code",
   "execution_count": null,
   "id": "eb0e7f3d-ab00-427e-850b-7df04d025a2d",
   "metadata": {},
   "outputs": [],
   "source": []
  }
 ],
 "metadata": {
  "kernelspec": {
   "display_name": "Python 3 (ipykernel)",
   "language": "python",
   "name": "python3"
  },
  "language_info": {
   "codemirror_mode": {
    "name": "ipython",
    "version": 3
   },
   "file_extension": ".py",
   "mimetype": "text/x-python",
   "name": "python",
   "nbconvert_exporter": "python",
   "pygments_lexer": "ipython3",
   "version": "3.9.7"
  }
 },
 "nbformat": 4,
 "nbformat_minor": 5
}
