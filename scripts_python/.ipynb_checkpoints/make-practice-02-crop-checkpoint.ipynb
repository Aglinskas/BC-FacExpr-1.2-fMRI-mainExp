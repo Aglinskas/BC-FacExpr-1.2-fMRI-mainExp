{
 "cells": [
  {
   "cell_type": "code",
   "execution_count": 1,
   "id": "e3ef1bf6-cedc-457e-ab74-d288c4038419",
   "metadata": {},
   "outputs": [
    {
     "data": {
      "text/plain": [
       "'/Users/aidasaglinskas/Desktop/BC-FacExpr-1.2-fMRI-mainExp/scripts_python'"
      ]
     },
     "execution_count": 1,
     "metadata": {},
     "output_type": "execute_result"
    }
   ],
   "source": [
    "pwd"
   ]
  },
  {
   "cell_type": "code",
   "execution_count": 3,
   "id": "a26352be-43d8-4f73-9100-f7bebda0ba3d",
   "metadata": {},
   "outputs": [],
   "source": [
    "from matplotlib import pyplot as plt\n",
    "from PIL import Image, ImageEnhance,ImageStat\n",
    "import skvideo\n",
    "import skvideo.io\n",
    "import numpy as np\n",
    "import os\n",
    "from tqdm import tqdm\n",
    "import cv2"
   ]
  },
  {
   "cell_type": "code",
   "execution_count": 5,
   "id": "d233eaf4-fd9d-4f1c-a759-8e732629e50a",
   "metadata": {},
   "outputs": [],
   "source": [
    "def safe_mkdir(dir_name):\n",
    "    if not os.path.exists(dir_name):\n",
    "        os.mkdir(dir_name)"
   ]
  },
  {
   "cell_type": "code",
   "execution_count": 6,
   "id": "0963a89b-da22-4217-bdff-b493f14f4303",
   "metadata": {},
   "outputs": [],
   "source": [
    "def load_video(fn):\n",
    "    #fn = 'ID4_h1_1.mp4'\n",
    "    videodata = skvideo.io.vread(fn)\n",
    "    return videodata"
   ]
  },
  {
   "cell_type": "code",
   "execution_count": 53,
   "id": "15fa339d-f110-41d9-aee9-334c690c791b",
   "metadata": {},
   "outputs": [],
   "source": [
    "def save_video(videodata,ofn='outvideo.mp4'):\n",
    "    # 20FPS, opens in quicktime\n",
    "    skvideo.io.vwrite(ofn, videodata.astype(np.uint8),outputdict={'-pix_fmt' : 'yuv420p','-codec': 'h264', '-filter:v' : 'fps=20'})\n",
    "    #skvideo.io.vwrite(ofn, videodata.astype(np.uint8),outputdict={'-codec': 'h264', '-filter:v' : 'fps=20'})\n",
    "    #skvideo.io.vwrite(ofn, videodata.astype(np.uint8))"
   ]
  },
  {
   "cell_type": "code",
   "execution_count": null,
   "id": "8a1e5c8e-7c93-463b-a527-f8961638f544",
   "metadata": {},
   "outputs": [],
   "source": [
    "def return_frame2(img,enlarge=0):\n",
    "    \n",
    "    trained_data = cv2.CascadeClassifier('haarcascade_frontalface_default.xml')\n",
    "    #img = cv2.imread(image_fn)\n",
    "    gray_img = cv2.cvtColor(img, cv2.COLOR_BGR2GRAY)\n",
    "    face_cordinates = trained_data.detectMultiScale(gray_img)\n",
    "    face_cordinates = face_cordinates + [-enlarge,-enlarge,enlarge*2,enlarge*2]\n",
    "    \n",
    "    return face_cordinates\n",
    "\n",
    "def crop_video_to_rect2(video_data,x,y,h,w):\n",
    "    return np.array([crop_frame_to_rect2(video_data[i,:,:,:],x, y, w, h) for i in range(video_data.shape[0])])\n",
    "\n",
    "def crop_frame_to_rect2(img,x,y,h,w):\n",
    "    return img[np.arange(y,y+h),:,:][:,np.arange(x,x+w),:]\n",
    "\n",
    "def resize_video(video_data,vid_size_target=(512,512)):\n",
    "    from PIL import Image, ImageEnhance,ImageStat\n",
    "    import numpy as np\n",
    "    \n",
    "    #vid_size_target = np.array((512,512))\n",
    "    vid_size_target = np.array(vid_size_target)\n",
    "    vid_size = np.array((video_data.shape[1],video_data.shape[2]))\n",
    "    nframes = video_data.shape[0]\n",
    "    nchannels = video_data.shape[-1]\n",
    "    video_data_new = np.zeros((nframes,vid_size_target[0],vid_size_target[1],nchannels))\n",
    "    for f in range(nframes):\n",
    "        video_data_new[f,:,:,:] = np.array(Image.fromarray(video_data[f,:,:,:]).resize(vid_size_target[-1::-1],Image.ANTIALIAS))\n",
    "        \n",
    "    return video_data_new"
   ]
  },
  {
   "cell_type": "code",
   "execution_count": 39,
   "id": "70f19030-4f04-4ca3-928d-243f86b7c570",
   "metadata": {},
   "outputs": [
    {
     "data": {
      "text/plain": [
       "['../disfa/Video_RightCamera_cut/RightVideoSN001_Comp_disgust_1.mp4',\n",
       " '../disfa/Video_RightCamera_cut/RightVideoSN001_Comp_fear_1.mp4',\n",
       " '../disfa/Video_RightCamera_cut/RightVideoSN001_Comp_happiness_1.mp4',\n",
       " '../disfa/Video_RightCamera_cut/RightVideoSN001_Comp_happiness_2.mp4',\n",
       " '../disfa/Video_RightCamera_cut/RightVideoSN001_Comp_sadness_1.mp4']"
      ]
     },
     "execution_count": 39,
     "metadata": {},
     "output_type": "execute_result"
    }
   ],
   "source": [
    "indir = '../disfa/Video_RightCamera_cut/'\n",
    "files = [os.path.join(indir,file) for file in os.listdir(indir) if file.endswith('.mp4')]\n",
    "files.sort()\n",
    "files[0:5]"
   ]
  },
  {
   "cell_type": "code",
   "execution_count": 9,
   "id": "7bece3d8-be0f-4f12-b052-6dce0de96a8a",
   "metadata": {},
   "outputs": [],
   "source": [
    "outdir = '../disfa/Video_RightCamera_cut_cropped/'\n",
    "safe_mkdir(outdir)"
   ]
  },
  {
   "cell_type": "code",
   "execution_count": null,
   "id": "b30abeb1-f72f-4b1a-bdc1-05145bc8e20b",
   "metadata": {},
   "outputs": [
    {
     "name": "stderr",
     "output_type": "stream",
     "text": [
      "  2%|▉                                          | 4/189 [00:51<47:44, 15.48s/it]"
     ]
    }
   ],
   "source": [
    "for vid_fn in tqdm(files): \n",
    "    ofn = os.path.join(outdir,vid_fn.split('/')[-1])\n",
    "    if not os.path.exists(ofn):\n",
    "        \n",
    "        video_data = load_video(vid_fn)\n",
    "\n",
    "        frame_rects = np.array([return_frame2(video_data[i,:,:,:],enlarge=0)[0] for i in range(video_data.shape[0])])\n",
    "        mean_frame = frame_rects.mean(axis=0).astype(int)\n",
    "        x, y, w, h = mean_frame\n",
    "        video_data_cropped = crop_video_to_rect2(video_data,x,y,h,w)\n",
    "        video_data_cropped = resize_video(video_data_cropped,vid_size_target=(512,512))\n",
    "        \n",
    "        save_video(video_data_cropped,ofn)"
   ]
  },
  {
   "cell_type": "code",
   "execution_count": null,
   "id": "3bc33ac5-cbf7-4ee2-99ae-d50ecdb4c8a2",
   "metadata": {},
   "outputs": [],
   "source": []
  },
  {
   "cell_type": "code",
   "execution_count": null,
   "id": "58604b62-7236-44e0-b0db-170b9d96b93f",
   "metadata": {},
   "outputs": [],
   "source": []
  },
  {
   "cell_type": "code",
   "execution_count": null,
   "id": "74766eaa-d7d6-4d9e-a0cd-aa9cd3c0336f",
   "metadata": {},
   "outputs": [],
   "source": []
  }
 ],
 "metadata": {
  "kernelspec": {
   "display_name": "Python 3 (ipykernel)",
   "language": "python",
   "name": "python3"
  },
  "language_info": {
   "codemirror_mode": {
    "name": "ipython",
    "version": 3
   },
   "file_extension": ".py",
   "mimetype": "text/x-python",
   "name": "python",
   "nbconvert_exporter": "python",
   "pygments_lexer": "ipython3",
   "version": "3.9.7"
  }
 },
 "nbformat": 4,
 "nbformat_minor": 5
}
