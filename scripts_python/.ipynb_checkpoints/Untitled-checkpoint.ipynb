{
 "cells": [
  {
   "cell_type": "code",
   "execution_count": 5,
   "id": "9ec85d79-0440-484f-8533-020d601dab97",
   "metadata": {},
   "outputs": [
    {
     "data": {
      "text/plain": [
       "'/Users/aidasaglinskas/Desktop/BC-FacExpr-1.2-fMRI-mainExp/scripts_python'"
      ]
     },
     "execution_count": 5,
     "metadata": {},
     "output_type": "execute_result"
    }
   ],
   "source": [
    "pwd"
   ]
  },
  {
   "cell_type": "code",
   "execution_count": 2,
   "id": "1717b8a3-9880-4004-be93-28b054c70012",
   "metadata": {},
   "outputs": [],
   "source": [
    "from matplotlib import pyplot as plt\n",
    "from PIL import Image, ImageEnhance,ImageStat\n",
    "import skvideo\n",
    "import skvideo.io\n",
    "import numpy as np\n",
    "import os\n",
    "from tqdm import tqdm\n",
    "import cv2"
   ]
  },
  {
   "cell_type": "code",
   "execution_count": 3,
   "id": "cf150293-621b-43b0-87b8-e8a47f2a1274",
   "metadata": {},
   "outputs": [],
   "source": [
    "def load_video(fn):\n",
    "    #fn = 'ID4_h1_1.mp4'\n",
    "    videodata = skvideo.io.vread(fn)\n",
    "    return videodata"
   ]
  },
  {
   "cell_type": "code",
   "execution_count": 4,
   "id": "d493a8c3-3c26-4c0b-8cc2-6cd3d8be94e6",
   "metadata": {},
   "outputs": [],
   "source": [
    "def save_video(videodata,ofn='outvideo.mp4'):\n",
    "    #skvideo.io.vwrite(ofn, videodata.astype(np.uint8),outputdict={'-pix_fmt' : 'yuv420p','-codec': 'h264', '-filter:v' : 'fps=20'})\n",
    "    #skvideo.io.vwrite(ofn, videodata.astype(np.uint8),outputdict={'-pix_fmt' : 'yuv420p','-codec': 'h264','-filter:v' : 'fps=20'})\n",
    "    skvideo.io.vwrite(ofn, videodata.astype(np.uint8),outputdict={'-pix_fmt' : 'yuv420p','-codec': 'h264','-filter:v' : 'fps=20'})"
   ]
  },
  {
   "cell_type": "code",
   "execution_count": 7,
   "id": "b6767922-c45f-4af6-aaf7-cf4327e72aaa",
   "metadata": {},
   "outputs": [],
   "source": [
    "fn1 = '..//stimuli/stimuli_raw/id1d1.mp4'\n",
    "fn2 = '../stimuli/stimuli_experiment/stimuli_cropped_normed_crop_000/id1d1.mp4'"
   ]
  },
  {
   "cell_type": "code",
   "execution_count": null,
   "id": "2ba50abf-662e-4b64-a29c-7ddd4897fd38",
   "metadata": {},
   "outputs": [],
   "source": [
    "fn1 = '..//stimuli/stimuli_raw/id1d1.mp4'\n",
    "fn2 = '../stimuli/stimuli_experiment/stimuli_cropped_normed_crop_000/id1d1.mp4'"
   ]
  },
  {
   "cell_type": "code",
   "execution_count": 11,
   "id": "aa90b1bb-7a40-41ca-9253-2ad69229e9c6",
   "metadata": {},
   "outputs": [
    {
     "name": "stdout",
     "output_type": "stream",
     "text": [
      "2.002000\n",
      "2.400000\n"
     ]
    }
   ],
   "source": [
    "print(skvideo.io.ffprobe(fn1)['video']['@duration'])\n",
    "print(skvideo.io.ffprobe(fn2)['video']['@duration'])"
   ]
  },
  {
   "cell_type": "code",
   "execution_count": null,
   "id": "c5300377-dec7-4d42-a0d8-a7c467e3fa8c",
   "metadata": {},
   "outputs": [],
   "source": []
  },
  {
   "cell_type": "code",
   "execution_count": null,
   "id": "bd2f3d7a-7bab-41db-a46f-0b977c80696e",
   "metadata": {},
   "outputs": [],
   "source": []
  }
 ],
 "metadata": {
  "kernelspec": {
   "display_name": "Python 3 (ipykernel)",
   "language": "python",
   "name": "python3"
  },
  "language_info": {
   "codemirror_mode": {
    "name": "ipython",
    "version": 3
   },
   "file_extension": ".py",
   "mimetype": "text/x-python",
   "name": "python",
   "nbconvert_exporter": "python",
   "pygments_lexer": "ipython3",
   "version": "3.9.7"
  }
 },
 "nbformat": 4,
 "nbformat_minor": 5
}
