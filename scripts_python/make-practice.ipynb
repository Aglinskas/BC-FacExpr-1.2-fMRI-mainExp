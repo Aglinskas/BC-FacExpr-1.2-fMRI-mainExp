{
 "cells": [
  {
   "cell_type": "code",
   "execution_count": 1,
   "id": "58165142-7a0d-4242-a81c-86de05149524",
   "metadata": {},
   "outputs": [
    {
     "data": {
      "text/plain": [
       "'/Users/aidasaglinskas/Desktop/BC-FacExpr-1.2-fMRI-mainExp/scripts_python'"
      ]
     },
     "execution_count": 1,
     "metadata": {},
     "output_type": "execute_result"
    }
   ],
   "source": [
    "pwd"
   ]
  },
  {
   "cell_type": "code",
   "execution_count": 2,
   "id": "20e27b57-6ae9-4995-9a7a-8acb5764092d",
   "metadata": {},
   "outputs": [
    {
     "name": "stderr",
     "output_type": "stream",
     "text": [
      "<frozen importlib._bootstrap>:228: RuntimeWarning: scipy._lib.messagestream.MessageStream size changed, may indicate binary incompatibility. Expected 56 from C header, got 64 from PyObject\n"
     ]
    }
   ],
   "source": [
    "from matplotlib import pyplot as plt\n",
    "from PIL import Image, ImageEnhance,ImageStat\n",
    "import skvideo\n",
    "import skvideo.io\n",
    "import numpy as np\n",
    "import os\n",
    "from tqdm import tqdm\n",
    "import alignfaces as afa\n",
    "import cv2"
   ]
  },
  {
   "cell_type": "code",
   "execution_count": 3,
   "id": "e41c6b20-bda1-428e-86cf-cebc9d2d80f6",
   "metadata": {},
   "outputs": [],
   "source": [
    "def load_video(fn):\n",
    "    #fn = 'ID4_h1_1.mp4'\n",
    "    videodata = skvideo.io.vread(fn)\n",
    "    return videodata"
   ]
  },
  {
   "cell_type": "code",
   "execution_count": 4,
   "id": "ce00c683-6624-4980-817a-cb5dbe686ab9",
   "metadata": {},
   "outputs": [],
   "source": [
    "def save_video(videodata,ofn='outvideo.mp4'):\n",
    "    #skvideo.io.vwrite(ofn, videodata.astype(np.uint8),outputdict={'-codec': 'h264', '-filter:v' : 'fps=29.97'})\n",
    "    skvideo.io.vwrite(ofn, videodata.astype(np.uint8),outputdict={'-codec': 'h264', '-filter:v' : 'fps=20'})"
   ]
  },
  {
   "cell_type": "code",
   "execution_count": 10,
   "id": "89d881c2-e3e8-421b-909b-0d1db40c64a5",
   "metadata": {},
   "outputs": [
    {
     "name": "stdout",
     "output_type": "stream",
     "text": [
      "27\n"
     ]
    },
    {
     "data": {
      "text/plain": [
       "['LeftVideoSN001_comp.avi',\n",
       " 'LeftVideoSN002_comp.avi',\n",
       " 'LeftVideoSN003_comp.avi',\n",
       " 'LeftVideoSN004_comp.avi',\n",
       " 'LeftVideoSN005_comp.avi']"
      ]
     },
     "execution_count": 10,
     "metadata": {},
     "output_type": "execute_result"
    }
   ],
   "source": [
    "#disfa_dir = '/Volumes/Samsung_T5/disfa/Video_RightCamera'\n",
    "#out_dir = '/Volumes/Samsung_T5/disfa/Video_RightCamera_cut'\n",
    "\n",
    "disfa_dir = '/Volumes/Samsung_T5/disfa/Videos_LeftCamera'\n",
    "out_dir = '/Volumes/Samsung_T5/disfa/Videos_LeftCamera_cut'\n",
    "\n",
    "files = [f for f in os.listdir(disfa_dir) if all((not f.startswith('.'),f.endswith('.avi')))]\n",
    "files.sort()\n",
    "n = len(files)\n",
    "print(n)\n",
    "files[0:5]"
   ]
  },
  {
   "cell_type": "code",
   "execution_count": 11,
   "id": "2a82a959-ba5c-4acb-bd42-e089da6c6333",
   "metadata": {},
   "outputs": [],
   "source": [
    "# plt.figure(figsize=(15,5))\n",
    "# plt.imshow(video_data[0,:,:,:]);\n",
    "# plt.axis('off');"
   ]
  },
  {
   "cell_type": "code",
   "execution_count": 12,
   "id": "6d97c8fe-56dc-4f05-b2bf-b898f25867d1",
   "metadata": {},
   "outputs": [],
   "source": [
    "# TIMEPOINTS IN SECONDS\n",
    "time_points = {}\n",
    "time_points['happiness_1'] = (3,14)\n",
    "time_points['happiness_2'] = (17,37)\n",
    "time_points['surprise 1'] = (40,57)\n",
    "time_points['fear_1'] = (60,68)\n",
    "time_points['disgust_1'] = (60+11,60+33)\n",
    "time_points['disgust_1'] = (60+36,60*2+3)\n",
    "time_points['sadness_1'] = (60*2+6,60*2+40)\n",
    "time_points['sadness_2'] = (60*2+43,60*3+16)\n",
    "emotions = list(time_points.keys())\n",
    "#time_points[''] = (,)"
   ]
  },
  {
   "cell_type": "code",
   "execution_count": 13,
   "id": "4abfa0d7-e16a-4342-be93-5b0785228e7f",
   "metadata": {},
   "outputs": [],
   "source": [
    "n_emo = len(time_points)"
   ]
  },
  {
   "cell_type": "code",
   "execution_count": 14,
   "id": "7ae912cc-530c-420d-a08e-ae0b66907ebc",
   "metadata": {},
   "outputs": [
    {
     "name": "stderr",
     "output_type": "stream",
     "text": [
      "100%|███████████████████████████████████████████| 27/27 [25:13<00:00, 56.04s/it]\n"
     ]
    }
   ],
   "source": [
    "for f in tqdm(range(n)):\n",
    "    fn = os.path.join(disfa_dir,files[f])\n",
    "    video_data = load_video(fn)\n",
    "    video_data.shape\n",
    "    for emo in range(n_emo):\n",
    "        start_frame = time_points[emotions[emo]][0]*20\n",
    "        end_frame = time_points[emotions[emo]][1]*20\n",
    "\n",
    "        video_cut = video_data[start_frame:end_frame,:,:,:]\n",
    "        ofn = os.path.join(out_dir,files[f].replace('.avi',f'_{emotions[emo]}.mp4'))\n",
    "        save_video(video_cut,ofn=ofn)"
   ]
  },
  {
   "cell_type": "code",
   "execution_count": null,
   "id": "0806da5b-7bd9-4c1b-b1fb-77123cf15a9b",
   "metadata": {},
   "outputs": [],
   "source": []
  },
  {
   "cell_type": "code",
   "execution_count": null,
   "id": "690bef54-fc4c-4499-907f-7692383c7f37",
   "metadata": {},
   "outputs": [],
   "source": []
  },
  {
   "cell_type": "code",
   "execution_count": null,
   "id": "ccd43f29-54fe-46e3-b0e0-0da55f84bcc2",
   "metadata": {},
   "outputs": [],
   "source": []
  },
  {
   "cell_type": "code",
   "execution_count": null,
   "id": "997ee9b9-4307-4dbd-b08e-17355e16706d",
   "metadata": {},
   "outputs": [],
   "source": []
  },
  {
   "cell_type": "code",
   "execution_count": null,
   "id": "cf0830cf-efd2-4d86-aa82-c7aac40fbde2",
   "metadata": {},
   "outputs": [],
   "source": []
  }
 ],
 "metadata": {
  "kernelspec": {
   "display_name": "Python 3 (ipykernel)",
   "language": "python",
   "name": "python3"
  },
  "language_info": {
   "codemirror_mode": {
    "name": "ipython",
    "version": 3
   },
   "file_extension": ".py",
   "mimetype": "text/x-python",
   "name": "python",
   "nbconvert_exporter": "python",
   "pygments_lexer": "ipython3",
   "version": "3.9.7"
  }
 },
 "nbformat": 4,
 "nbformat_minor": 5
}
