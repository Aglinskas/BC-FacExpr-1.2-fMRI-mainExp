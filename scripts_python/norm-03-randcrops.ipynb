{
 "cells": [
  {
   "cell_type": "code",
   "execution_count": 1,
   "id": "742ce71d-d16e-47c7-a207-9e690186537e",
   "metadata": {},
   "outputs": [
    {
     "data": {
      "text/plain": [
       "'/Users/aidasaglinskas/Desktop/BC-FacExpr-1.2-fMRI-mainExp/scripts_python'"
      ]
     },
     "execution_count": 1,
     "metadata": {},
     "output_type": "execute_result"
    }
   ],
   "source": [
    "pwd"
   ]
  },
  {
   "cell_type": "code",
   "execution_count": null,
   "id": "ca59fb95-4f7f-4be5-885f-3a54b42e8c13",
   "metadata": {},
   "outputs": [],
   "source": [
    "from matplotlib import pyplot as plt\n",
    "from PIL import Image, ImageEnhance,ImageStat\n",
    "import skvideo\n",
    "import skvideo.io\n",
    "import numpy as np\n",
    "import os\n",
    "from tqdm import tqdm"
   ]
  },
  {
   "cell_type": "code",
   "execution_count": null,
   "id": "be3f1aec-4044-404d-8455-dc5be0cb70cb",
   "metadata": {},
   "outputs": [],
   "source": [
    "def load_video(fn):\n",
    "    videodata = skvideo.io.vread(fn)\n",
    "    return videodata"
   ]
  },
  {
   "cell_type": "code",
   "execution_count": null,
   "id": "d51f53f9-4e39-4ffb-8067-6c87c6a1b6f8",
   "metadata": {},
   "outputs": [],
   "source": [
    "def safe_mkdir(dir_name):\n",
    "    if not os.path.exists(dir_name):\n",
    "        os.mkdir(dir_name)"
   ]
  },
  {
   "cell_type": "code",
   "execution_count": null,
   "id": "6d062a27-87e7-4539-8354-ad0bc14041e4",
   "metadata": {},
   "outputs": [],
   "source": [
    "def save_video(videodata,ofn='outvideo.mp4'):\n",
    "    #skvideo.io.vwrite(ofn, videodata.astype(np.uint8),outputdict={'-codec': 'h264', '-filter:v' : 'fps=29.97'})\n",
    "    skvideo.io.vwrite(ofn, videodata.astype(np.uint8))"
   ]
  },
  {
   "cell_type": "code",
   "execution_count": null,
   "id": "224e9bca-bda0-4c95-b44b-61fb9f9cacc4",
   "metadata": {},
   "outputs": [],
   "source": [
    "def pad_frame(img_face,pad_amount=100):\n",
    "    arr = np.array([np.pad(img_face[:,:,0], (pad_amount, pad_amount), mode='constant'),\n",
    "    np.pad(img_face[:,:,1], (pad_amount, pad_amount), mode='constant'),\n",
    "    np.pad(img_face[:,:,2], (pad_amount, pad_amount), mode='constant'),])\n",
    "    arr = np.swapaxes(arr,0,1)\n",
    "    arr = np.swapaxes(arr,1,2)\n",
    "    return arr"
   ]
  },
  {
   "cell_type": "code",
   "execution_count": null,
   "id": "cff00102-7aa5-4681-be32-e06563d455d3",
   "metadata": {},
   "outputs": [],
   "source": [
    "def resize_video(video_data,vid_size_target=(512,512)):\n",
    "    from PIL import Image, ImageEnhance,ImageStat\n",
    "    import numpy as np\n",
    "    \n",
    "    #vid_size_target = np.array((512,512))\n",
    "    vid_size_target = np.array(vid_size_target)\n",
    "    vid_size = np.array((video_data.shape[1],video_data.shape[2]))\n",
    "    nframes = video_data.shape[0]\n",
    "    nchannels = video_data.shape[-1]\n",
    "    video_data_new = np.zeros((nframes,vid_size_target[0],vid_size_target[1],nchannels))\n",
    "    for f in range(nframes):\n",
    "        video_data_new[f,:,:,:] = np.array(Image.fromarray(video_data[f,:,:,:]).resize(vid_size_target,Image.ANTIALIAS))\n",
    "\n",
    "    return video_data_new"
   ]
  },
  {
   "cell_type": "code",
   "execution_count": null,
   "id": "320fbdbb-1264-4790-9121-4cf3ef08fffc",
   "metadata": {},
   "outputs": [],
   "source": [
    "def pad_video(video_data,pad_amount=250,vid_size_target=(512,512)):\n",
    "    video_data_padded = np.array([pad_frame(video_data[f,:,:,:],pad_amount=pad_amount) for f in range(video_data.shape[0])])\n",
    "    video_data_padded_resized = resize_video(video_data_padded,vid_size_target=vid_size_target)\n",
    "    return video_data_padded_resized"
   ]
  },
  {
   "cell_type": "code",
   "execution_count": null,
   "id": "bfb6ac50-8112-4838-a07d-238c2258144a",
   "metadata": {},
   "outputs": [],
   "source": [
    "indir = '../stimuli/stimuli_working_dir/stimuli_normed_cb_hue/'\n",
    "files = [os.path.join(indir,file) for file in os.listdir(indir) if file.endswith('.mp4')]\n",
    "files.sort()\n",
    "n = len(files)\n",
    "print(n)\n",
    "files[0:5]"
   ]
  },
  {
   "cell_type": "code",
   "execution_count": null,
   "id": "2cd7594f-9abb-4db6-bee0-8bb2ffeed46e",
   "metadata": {},
   "outputs": [],
   "source": [
    "for infn in tqdm(files):\n",
    "    video_data = load_video(infn)\n",
    "    for pad in np.arange(0,251,50):\n",
    "        \n",
    "        ofdir = f'../stimuli/stimuli_working_dir/stimuli_cropped_normed_crop_{pad}/'\n",
    "        safe_mkdir(ofdir)\n",
    "        \n",
    "        #ofn = infn.replace(indir,ofdir).replace('.mp4',f'_c{pad}.mp4')\n",
    "        ofn = infn.replace(indir,ofdir)\n",
    "        video_data_padded = pad_video(video_data,pad_amount=pad,vid_size_target=(512,512))\n",
    "        save_video(video_data_padded,ofn)"
   ]
  },
  {
   "cell_type": "code",
   "execution_count": null,
   "id": "72995be9-fdc6-4ee0-8d7c-fe7da648643c",
   "metadata": {},
   "outputs": [],
   "source": []
  },
  {
   "cell_type": "code",
   "execution_count": null,
   "id": "f8ee931a-24d4-4616-b172-812d28240e26",
   "metadata": {},
   "outputs": [],
   "source": []
  },
  {
   "cell_type": "code",
   "execution_count": null,
   "id": "ccf127b7-9899-42f3-8582-5895bc4cc875",
   "metadata": {},
   "outputs": [],
   "source": []
  },
  {
   "cell_type": "code",
   "execution_count": null,
   "id": "6fc1ff31-5a67-4255-a6af-0e20c13112c4",
   "metadata": {},
   "outputs": [],
   "source": []
  }
 ],
 "metadata": {
  "kernelspec": {
   "display_name": "Python 3 (ipykernel)",
   "language": "python",
   "name": "python3"
  },
  "language_info": {
   "codemirror_mode": {
    "name": "ipython",
    "version": 3
   },
   "file_extension": ".py",
   "mimetype": "text/x-python",
   "name": "python",
   "nbconvert_exporter": "python",
   "pygments_lexer": "ipython3",
   "version": "3.9.7"
  }
 },
 "nbformat": 4,
 "nbformat_minor": 5
}
