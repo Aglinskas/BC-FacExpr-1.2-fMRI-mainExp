{
 "cells": [
  {
   "cell_type": "code",
   "execution_count": 105,
   "id": "873adb7e-eb00-494d-8df7-22740c2d196f",
   "metadata": {},
   "outputs": [
    {
     "data": {
      "text/plain": [
       "'/Users/aidasaglinskas/Desktop/BC-FacExpr-1.2-fMRI-mainExp'"
      ]
     },
     "execution_count": 105,
     "metadata": {},
     "output_type": "execute_result"
    }
   ],
   "source": [
    "pwd"
   ]
  },
  {
   "cell_type": "code",
   "execution_count": 106,
   "id": "68354615-dfae-4dfc-9125-fdb54fbe1c1f",
   "metadata": {},
   "outputs": [],
   "source": [
    "from matplotlib import pyplot as plt\n",
    "from PIL import Image, ImageEnhance,ImageStat\n",
    "import skvideo\n",
    "import skvideo.io\n",
    "import numpy as np\n",
    "import os\n",
    "from tqdm import tqdm"
   ]
  },
  {
   "cell_type": "code",
   "execution_count": 107,
   "id": "4e7cd838-5d63-4b64-8532-eae05be28e92",
   "metadata": {},
   "outputs": [],
   "source": [
    "def load_video(fn):\n",
    "    import skvideo\n",
    "    videodata = skvideo.io.vread(fn)\n",
    "    return videodata"
   ]
  },
  {
   "cell_type": "code",
   "execution_count": 108,
   "id": "ed2e126f-094f-4656-8067-b48348cd455f",
   "metadata": {},
   "outputs": [
    {
     "data": {
      "text/plain": [
       "['./stimuli_normed_cb/id1d1.mp4',\n",
       " './stimuli_normed_cb/id1d2.mp4',\n",
       " './stimuli_normed_cb/id1f1.mp4',\n",
       " './stimuli_normed_cb/id1f2.mp4',\n",
       " './stimuli_normed_cb/id1h1.mp4']"
      ]
     },
     "execution_count": 108,
     "metadata": {},
     "output_type": "execute_result"
    }
   ],
   "source": [
    "indir = './stimuli_normed_cb/'\n",
    "files = [os.path.join(indir,file) for file in os.listdir(indir) if file.endswith('.mp4')]\n",
    "files.sort()\n",
    "files[0:5]"
   ]
  },
  {
   "cell_type": "code",
   "execution_count": 109,
   "id": "216a67ff-4b98-4326-b703-70fd16c85000",
   "metadata": {},
   "outputs": [
    {
     "data": {
      "text/plain": [
       "70"
      ]
     },
     "execution_count": 109,
     "metadata": {},
     "output_type": "execute_result"
    }
   ],
   "source": [
    "len(files)"
   ]
  },
  {
   "cell_type": "code",
   "execution_count": 110,
   "id": "1336d6ae-a013-49b5-b976-d7912d5d4dd7",
   "metadata": {},
   "outputs": [
    {
     "name": "stderr",
     "output_type": "stream",
     "text": [
      "100%|███████████████████████████████████████████| 70/70 [00:11<00:00,  5.92it/s]\n",
      "100%|███████████████████████████████████████████| 70/70 [00:09<00:00,  7.26it/s]\n"
     ]
    },
    {
     "data": {
      "image/png": "[encoded data removed]",
      "text/plain": [
       "<Figure size 1440x360 with 4 Axes>"
      ]
     },
     "metadata": {
      "needs_background": "light"
     },
     "output_type": "display_data"
    }
   ],
   "source": [
    "##### CALCULATE\n",
    "\n",
    "hist_brightness = []\n",
    "hist_contrast = []\n",
    "hist_r = []\n",
    "hist_g = []\n",
    "hist_b = []\n",
    "for file in tqdm(files):\n",
    "    vid = load_video(file)\n",
    "    \n",
    "    hist_brightness.append(  vid[0,:,:,:].mean()  )\n",
    "    hist_contrast.append(  vid[0,:,:,:].mean(axis=-1).std() )\n",
    "    \n",
    "    hist_r.append( vid[:,:,:,0].mean() )\n",
    "    hist_g.append( vid[:,:,:,1].mean() )\n",
    "    hist_b.append( vid[:,:,:,2].mean() )\n",
    "    \n",
    "    \n",
    "l = 50\n",
    "face_squares = np.array([load_video(files[i])[0,:,:,:][256-l:256+l,256-l:256+l,:] for i in tqdm(range(len(files))) ])\n",
    "\n",
    "##### PLOT\n",
    "\n",
    "brightness_target = np.array(hist_brightness).mean().round(3)\n",
    "\n",
    "contrast_target = np.array(hist_contrast).mean().round(3)\n",
    "\n",
    "target_r = np.array(hist_r).mean().round(3)\n",
    "target_g = np.array(hist_g).mean().round(3)\n",
    "target_b = np.array(hist_b).mean().round(3)\n",
    "\n",
    "ctargets = face_squares.mean(axis=0).mean(axis=0).mean(axis=0)\n",
    "ctargets\n",
    "\n",
    "\n",
    "plt.figure(figsize=(20,5))\n",
    "plt.subplot(1,4,1)\n",
    "plt.hist(hist_brightness);\n",
    "plt.title(f'brightness M = {brightness_target.astype(int)}');\n",
    "plt.subplot(1,4,2)\n",
    "plt.hist(hist_contrast);\n",
    "plt.title(f'contrast M = {contrast_target.astype(int)}');\n",
    "plt.subplot(1,4,3)\n",
    "plt.hist(hist_r,color='r',alpha=.5);\n",
    "plt.hist(hist_g,color='g',alpha=.5);\n",
    "plt.hist(hist_b,color='b',alpha=.5);\n",
    "plt.title(f'frame hist M = {target_r.astype(int)} {target_g.astype(int)} {target_b.astype(int)}');\n",
    "\n",
    "plt.subplot(1,4,4)\n",
    "plt.hist( face_squares.mean(axis=1).mean(axis=1)[:,0],color='r',alpha=.5)\n",
    "plt.hist( face_squares.mean(axis=1).mean(axis=1)[:,1],color='g',alpha=.5)\n",
    "plt.hist( face_squares.mean(axis=1).mean(axis=1)[:,2],color='b',alpha=.5)\n",
    "plt.title(f'Faces hist M = {ctargets[0].astype(int)} {ctargets[1].astype(int)} {ctargets[2].astype(int)}');"
   ]
  },
  {
   "cell_type": "code",
   "execution_count": 111,
   "id": "045c7cb7-a35e-4739-bad7-b4657820d7da",
   "metadata": {},
   "outputs": [],
   "source": [
    "def brighten_video(videodata,factor=1):\n",
    "    return np.array([np.array(ImageEnhance.Brightness(Image.fromarray(videodata[frame,:,:,:])).enhance(factor)) for frame in range(videodata.shape[0])])"
   ]
  },
  {
   "cell_type": "code",
   "execution_count": 112,
   "id": "415ebe5d-d9a5-4e10-b584-b3499151b692",
   "metadata": {},
   "outputs": [],
   "source": [
    "def contrast_video(videodata,factor=1):\n",
    "    return np.array([np.array(ImageEnhance.Contrast(Image.fromarray(videodata[frame,:,:,:])).enhance(factor)) for frame in range(videodata.shape[0])])"
   ]
  },
  {
   "cell_type": "code",
   "execution_count": 113,
   "id": "b2dbd7fa-ca3a-4e83-822d-9d828a0867b2",
   "metadata": {},
   "outputs": [],
   "source": [
    "def save_video(videodata,ofn='outvideo.mp4'):\n",
    "    skvideo.io.vwrite(ofn, videodata.astype(np.uint8),outputdict={'-codec': 'h264', '-filter:v' : 'fps=29.97'})"
   ]
  },
  {
   "cell_type": "code",
   "execution_count": 114,
   "id": "206c7cb4-9990-40b4-b9d0-b6ac97636efe",
   "metadata": {},
   "outputs": [],
   "source": [
    "def make_ref(ctargets):\n",
    "    ref = np.ones((10,10,3))\n",
    "    for i in range(3):\n",
    "        ref[:,:,i] = ref[:,:,i] * ctargets[i]\n",
    "    return ref.astype(np.uint8)"
   ]
  },
  {
   "cell_type": "code",
   "execution_count": 115,
   "id": "19f2bbea-f35f-48fa-b26b-f73407470373",
   "metadata": {},
   "outputs": [],
   "source": [
    "def get_face(frame,l=50):\n",
    "    return frame[256-l:256+l,256-l:256+l,:]"
   ]
  },
  {
   "cell_type": "code",
   "execution_count": 116,
   "id": "804615aa-6fc0-40ee-9bc1-2fb857b336d0",
   "metadata": {},
   "outputs": [],
   "source": [
    "def get_mean_rbg(frame):\n",
    "    return frame.mean(axis=0).mean(axis=0)"
   ]
  },
  {
   "cell_type": "code",
   "execution_count": 117,
   "id": "bd5f9e23-2ec6-453a-8001-01c73281667f",
   "metadata": {},
   "outputs": [],
   "source": [
    "def tint_frame_face(frame,ctargets):\n",
    "    \n",
    "    face_square = get_face(frame)\n",
    "    diff = get_mean_rbg(face_square)-ctargets\n",
    "    frame_copy = frame.astype(np.float64)\n",
    "    for i in range(3):\n",
    "        frame_copy[:,:,i] = frame_copy[:,:,i] - diff[i]\n",
    "        frame_copy[frame_copy<0]=0\n",
    "        frame_copy[frame_copy>255]=255\n",
    "        \n",
    "    frame_copy = frame_copy.astype(np.uint8)\n",
    "    return frame_copy"
   ]
  },
  {
   "cell_type": "code",
   "execution_count": 118,
   "id": "e3df7f7e-e192-4c33-b411-93710d2bef03",
   "metadata": {},
   "outputs": [],
   "source": [
    "def tint_video_face(videodata,ctargets):\n",
    "    nframes = videodata.shape[0]\n",
    "    tinted_video = np.array([tint_frame_face(videodata[i,:,:,:],ctargets) for i in range(nframes)])\n",
    "    return tinted_video"
   ]
  },
  {
   "cell_type": "code",
   "execution_count": 119,
   "id": "385f5cf7-19fe-4a16-a7b9-5ab2489c48b5",
   "metadata": {},
   "outputs": [],
   "source": [
    "# contrast_target = 50\n",
    "# brightness_target = 75\n",
    "# for i in range(25):\n",
    "#     contrast = get_face(videodata[0,:,:,:]).mean(axis=-1).std()\n",
    "#     brightness = get_face(videodata[0,:,:,:]).mean()\n",
    "\n",
    "#     videodata = contrast_video(videodata,contrast_target/contrast)\n",
    "#     videodata = brighten_video(videodata,brightness_target/brightness)"
   ]
  },
  {
   "cell_type": "code",
   "execution_count": 120,
   "id": "e1e038b7-344a-4b41-9f49-680ee520410f",
   "metadata": {},
   "outputs": [
    {
     "data": {
      "text/plain": [
       "array([165.61743   , 109.19266143,  94.23938143])"
      ]
     },
     "execution_count": 120,
     "metadata": {},
     "output_type": "execute_result"
    }
   ],
   "source": [
    "face_squares.mean(axis=0).mean(axis=0).mean(axis=0)"
   ]
  },
  {
   "cell_type": "code",
   "execution_count": 121,
   "id": "b9410104-cfe5-486d-b068-bd6fff7413e9",
   "metadata": {},
   "outputs": [
    {
     "data": {
      "text/plain": [
       "array([165.65472, 109.3102 ,  94.28742])"
      ]
     },
     "execution_count": 121,
     "metadata": {},
     "output_type": "execute_result"
    }
   ],
   "source": [
    "ctargets = face_squares[0:10].mean(axis=0).mean(axis=0).mean(axis=0)\n",
    "ctargets"
   ]
  },
  {
   "cell_type": "code",
   "execution_count": 84,
   "id": "0391b977-5a9e-4dcb-b1ba-05c3725a3bba",
   "metadata": {},
   "outputs": [],
   "source": [
    "ctargets = np.array([125,100,100])"
   ]
  },
  {
   "cell_type": "code",
   "execution_count": 86,
   "id": "afe09e57-d242-483b-aeb6-527d8c094256",
   "metadata": {},
   "outputs": [
    {
     "name": "stderr",
     "output_type": "stream",
     "text": [
      "100%|███████████████████████████████████████████| 70/70 [01:16<00:00,  1.09s/it]\n"
     ]
    }
   ],
   "source": [
    "ofdir = './stimuli_normed_cb_tint/'\n",
    "\n",
    "#for f in np.arange(0,70,10):\n",
    "for f in tqdm(range(len(files))):\n",
    "    fn = files[f]\n",
    "    videodata = load_video(fn)\n",
    "    frame = videodata[0,:,:,:]\n",
    "    face_square = get_face(frame)\n",
    "    face_ref = make_ref(get_mean_rbg(face_square))\n",
    "    \n",
    "    \n",
    "    frame_copy = tint_frame_face(frame,ctargets)\n",
    "    tinted_video = tint_video_face(videodata,ctargets)\n",
    "    frame_copy = tinted_video[0,:,:,:]\n",
    "    save_video(tinted_video,fn.replace(indir,ofdir))\n",
    "\n",
    "    \n",
    "    new_face = get_face(frame_copy)\n",
    "    new_face_ref = make_ref(get_mean_rbg(new_face))\n",
    "    \n",
    "    do_plot = False\n",
    "    if do_plot:\n",
    "        ncols = 7\n",
    "        plt.figure(figsize=(5*ncols,ncols));i=0;\n",
    "        i+=1;plt.subplot(1,ncols,i);plt.imshow(frame);plt.xticks([]);plt.yticks([]);plt.title('Orig Frame');\n",
    "        i+=1;plt.subplot(1,ncols,i);plt.imshow(frame_copy);plt.xticks([]);plt.yticks([]);plt.title('new frame');\n",
    "\n",
    "        i+=1;plt.subplot(1,ncols,i);plt.imshow(face_square);plt.xticks([]);plt.yticks([]);plt.title('Orig Face');\n",
    "        i+=1;plt.subplot(1,ncols,i);plt.imshow(new_face);plt.xticks([]);plt.yticks([]);plt.title('New Face');\n",
    "\n",
    "        i+=1;plt.subplot(1,ncols,i);plt.imshow(face_ref);plt.xticks([]);plt.yticks([]);plt.title('Orig Face mean');\n",
    "        i+=1;plt.subplot(1,ncols,i);plt.imshow(new_face_ref);plt.xticks([]);plt.yticks([]);plt.title('New Face mean');\n",
    "        i+=1;plt.subplot(1,ncols,i);plt.imshow(make_ref(ctargets));plt.xticks([]);plt.yticks([]);plt.title('Target mean');"
   ]
  },
  {
   "cell_type": "code",
   "execution_count": 87,
   "id": "cf76e962-fbde-41d2-8647-b008ed8d5468",
   "metadata": {},
   "outputs": [
    {
     "name": "stderr",
     "output_type": "stream",
     "text": [
      "100%|███████████████████████████████████████████| 70/70 [00:13<00:00,  5.16it/s]\n",
      "100%|███████████████████████████████████████████| 70/70 [00:10<00:00,  6.81it/s]\n"
     ]
    },
    {
     "data": {
      "image/png": "[encoded data removed]",
      "text/plain": [
       "<Figure size 1440x720 with 6 Axes>"
      ]
     },
     "metadata": {
      "needs_background": "light"
     },
     "output_type": "display_data"
    }
   ],
   "source": [
    "#### DEFINE \n",
    "\n",
    "indir = './stimuli_normed_cb_tint/'\n",
    "files = [os.path.join(indir,file) for file in os.listdir(indir) if file.endswith('.mp4')]\n",
    "files.sort()\n",
    "files[0:5]\n",
    "\n",
    "##### CALCULATE\n",
    "\n",
    "hist_brightness = []\n",
    "hist_contrast = []\n",
    "hist_r = []\n",
    "hist_g = []\n",
    "hist_b = []\n",
    "for file in tqdm(files):\n",
    "    vid = load_video(file)\n",
    "    \n",
    "    hist_brightness.append(  vid[0,:,:,:].mean()  )\n",
    "    hist_contrast.append(  vid[0,:,:,:].mean(axis=-1).std() )\n",
    "    \n",
    "    hist_r.append( vid[:,:,:,0].mean() )\n",
    "    hist_g.append( vid[:,:,:,1].mean() )\n",
    "    hist_b.append( vid[:,:,:,2].mean() )\n",
    "    \n",
    "    \n",
    "l = 50\n",
    "face_squares = np.array([load_video(files[i])[0,:,:,:][256-l:256+l,256-l:256+l,:] for i in tqdm(range(len(files))) ])\n",
    "\n",
    "##### PLOT\n",
    "\n",
    "brightness_target = np.array(hist_brightness).mean().round(3)\n",
    "\n",
    "contrast_target = np.array(hist_contrast).mean().round(3)\n",
    "\n",
    "target_r = np.array(hist_r).mean().round(3)\n",
    "target_g = np.array(hist_g).mean().round(3)\n",
    "target_b = np.array(hist_b).mean().round(3)\n",
    "\n",
    "ctargets = face_squares.mean(axis=0).mean(axis=0).mean(axis=0)\n",
    "ctargets\n",
    "\n",
    "\n",
    "plt.figure(figsize=(20,10))\n",
    "plt.subplot(2,3,1)\n",
    "plt.hist(hist_brightness);\n",
    "plt.title(f'brightness M = {brightness_target.astype(int)}');\n",
    "plt.subplot(2,3,2)\n",
    "plt.hist(hist_contrast);\n",
    "plt.title(f'contrast M = {contrast_target.astype(int)}');\n",
    "plt.subplot(2,3,3)\n",
    "plt.hist(hist_r,color='r',alpha=.5);\n",
    "plt.hist(hist_g,color='g',alpha=.5);\n",
    "plt.hist(hist_b,color='b',alpha=.5);\n",
    "plt.title(f'frame hist M = {target_r.astype(int)} {target_g.astype(int)} {target_b.astype(int)}');\n",
    "\n",
    "\n",
    "plt.subplot(2,3,4)\n",
    "face_brightness = np.array([face_squares[i,:,:,:].mean() for i in range(face_squares.shape[0])])\n",
    "plt.hist(face_brightness)\n",
    "plt.title(f'face brightness M = {face_brightness.mean().astype(int)}');\n",
    "\n",
    "plt.subplot(2,3,5)\n",
    "face_contrast = np.array([face_squares[i,:,:,:].mean(axis=-1).std() for i in range(face_squares.shape[0])])\n",
    "plt.hist(face_contrast)\n",
    "plt.title(f'face contrast M = {face_contrast.mean().astype(int)}');\n",
    "\n",
    "\n",
    "plt.subplot(2,3,6)\n",
    "plt.hist( face_squares.mean(axis=1).mean(axis=1)[:,0],color='r',alpha=.5)\n",
    "plt.hist( face_squares.mean(axis=1).mean(axis=1)[:,1],color='g',alpha=.5)\n",
    "plt.hist( face_squares.mean(axis=1).mean(axis=1)[:,2],color='b',alpha=.5)\n",
    "plt.title(f'Faces hist M = {ctargets[0].astype(int)} {ctargets[1].astype(int)} {ctargets[2].astype(int)}');"
   ]
  },
  {
   "cell_type": "code",
   "execution_count": null,
   "id": "2ec78ffc-63d9-4846-b07a-4ae83009306e",
   "metadata": {},
   "outputs": [],
   "source": []
  },
  {
   "cell_type": "code",
   "execution_count": null,
   "id": "339c56e8-a006-43ae-be88-93c5b185ec08",
   "metadata": {},
   "outputs": [],
   "source": []
  },
  {
   "cell_type": "code",
   "execution_count": null,
   "id": "cbbae5b5-a5bd-4c8f-9190-c4e86bae543f",
   "metadata": {},
   "outputs": [],
   "source": []
  },
  {
   "cell_type": "code",
   "execution_count": null,
   "id": "bb2b2a48-eadc-4b79-8d20-08eca625630e",
   "metadata": {},
   "outputs": [],
   "source": []
  },
  {
   "cell_type": "code",
   "execution_count": null,
   "id": "ffa16b5e-3f33-4180-a1aa-d10d6be02652",
   "metadata": {},
   "outputs": [],
   "source": []
  },
  {
   "cell_type": "code",
   "execution_count": null,
   "id": "e30c31ad-4ecb-4a84-a392-211ea93c3040",
   "metadata": {},
   "outputs": [],
   "source": []
  },
  {
   "cell_type": "code",
   "execution_count": null,
   "id": "23886fcd-4404-4192-85a5-fe4c277c2cae",
   "metadata": {},
   "outputs": [],
   "source": []
  },
  {
   "cell_type": "code",
   "execution_count": null,
   "id": "217e01bd-663b-438d-8c99-c5759d31f9e2",
   "metadata": {},
   "outputs": [],
   "source": []
  },
  {
   "cell_type": "code",
   "execution_count": null,
   "id": "28673b85-7779-4493-85b4-84453470981d",
   "metadata": {},
   "outputs": [],
   "source": []
  },
  {
   "cell_type": "code",
   "execution_count": null,
   "id": "0e6f440b-03c6-4f50-8168-f4dd61170cf1",
   "metadata": {},
   "outputs": [],
   "source": []
  },
  {
   "cell_type": "code",
   "execution_count": null,
   "id": "e170719a-0e51-4697-ae7d-bc7ba04a0e40",
   "metadata": {},
   "outputs": [],
   "source": []
  },
  {
   "cell_type": "code",
   "execution_count": null,
   "id": "a912e73c-ebb9-4b1b-8f5e-0bf910c84a53",
   "metadata": {},
   "outputs": [],
   "source": []
  }
 ],
 "metadata": {
  "kernelspec": {
   "display_name": "Python 3 (ipykernel)",
   "language": "python",
   "name": "python3"
  },
  "language_info": {
   "codemirror_mode": {
    "name": "ipython",
    "version": 3
   },
   "file_extension": ".py",
   "mimetype": "text/x-python",
   "name": "python",
   "nbconvert_exporter": "python",
   "pygments_lexer": "ipython3",
   "version": "3.9.7"
  }
 },
 "nbformat": 4,
 "nbformat_minor": 5
}
