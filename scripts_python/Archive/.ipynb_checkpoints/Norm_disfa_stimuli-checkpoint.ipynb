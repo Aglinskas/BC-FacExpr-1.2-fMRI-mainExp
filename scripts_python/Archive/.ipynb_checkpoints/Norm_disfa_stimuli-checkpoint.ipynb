{
 "cells": [
  {
   "cell_type": "code",
   "execution_count": 63,
   "id": "a14978f9-54a2-4694-b3d1-e1a9dd6790bf",
   "metadata": {},
   "outputs": [
    {
     "data": {
      "text/plain": [
       "'/Users/aidasaglinskas/Desktop/BC-FacExpr-1.2-fMRI-mainExp'"
      ]
     },
     "execution_count": 63,
     "metadata": {},
     "output_type": "execute_result"
    }
   ],
   "source": [
    "pwd"
   ]
  },
  {
   "cell_type": "code",
   "execution_count": 277,
   "id": "31fd2ba5-e985-40eb-8dfb-b2f3e7943851",
   "metadata": {},
   "outputs": [],
   "source": [
    "from matplotlib import pyplot as plt\n",
    "from PIL import Image, ImageEnhance,ImageStat\n",
    "import skvideo\n",
    "import skvideo.io\n",
    "import numpy as np\n",
    "import os\n",
    "from tqdm import tqdm"
   ]
  },
  {
   "cell_type": "code",
   "execution_count": 383,
   "id": "7dd11e28-c4f7-44da-9f7f-39ff40ced537",
   "metadata": {},
   "outputs": [],
   "source": [
    "import alignfaces as afa"
   ]
  },
  {
   "cell_type": "code",
   "execution_count": 283,
   "id": "0942ca52-809d-4ec9-876f-b8e3440dd3f5",
   "metadata": {},
   "outputs": [],
   "source": [
    "def load_video(fn):\n",
    "    #fn = 'ID4_h1_1.mp4'\n",
    "    videodata = skvideo.io.vread(fn)\n",
    "    return videodata"
   ]
  },
  {
   "cell_type": "code",
   "execution_count": null,
   "id": "b9f1fc63-d659-4dfa-b769-0cab6ca39ec3",
   "metadata": {},
   "outputs": [],
   "source": [
    "# EXPORTING\n",
    "# MUST BE .astype(np.uint8) for export\n",
    "# Vid is 1280x720"
   ]
  },
  {
   "cell_type": "code",
   "execution_count": 265,
   "id": "51559259-b71a-4f91-a115-d3d18447e4a1",
   "metadata": {},
   "outputs": [
    {
     "data": {
      "text/plain": [
       "['./stimuli/ID1_d1_1.mp4',\n",
       " './stimuli/ID1_d1_2.mp4',\n",
       " './stimuli/ID1_d1_3.mp4',\n",
       " './stimuli/ID1_d1_4.mp4',\n",
       " './stimuli/ID1_f_1.mp4']"
      ]
     },
     "execution_count": 265,
     "metadata": {},
     "output_type": "execute_result"
    }
   ],
   "source": [
    "files = [os.path.join('./stimuli/',file) for file in os.listdir('./stimuli/') if file.endswith('.mp4')]\n",
    "files.sort()\n",
    "files[0:5]"
   ]
  },
  {
   "cell_type": "code",
   "execution_count": 289,
   "id": "e0b7b848-e4d3-4c7e-8b16-12804b411638",
   "metadata": {},
   "outputs": [
    {
     "name": "stderr",
     "output_type": "stream",
     "text": [
      "100%|██████████████████████████████████████████████████████████████████████████████████████████| 145/145 [00:28<00:00,  5.09it/s]\n"
     ]
    }
   ],
   "source": [
    "hist_brightness = []\n",
    "hist_contrast = []\n",
    "for file in tqdm(files):\n",
    "    vid = load_video(file)\n",
    "    hist_brightness.append(  vid[0,:,:,:].mean()  )\n",
    "    hist_contrast.append(  vid[0,:,:,:].mean(axis=-1).std() )"
   ]
  },
  {
   "cell_type": "code",
   "execution_count": 290,
   "id": "4f7a7249-2660-4235-a1ed-98961ba8a950",
   "metadata": {},
   "outputs": [
    {
     "data": {
      "image/png": "[encoded data removed]",
      "text/plain": [
       "<Figure size 1080x360 with 2 Axes>"
      ]
     },
     "metadata": {
      "needs_background": "light"
     },
     "output_type": "display_data"
    }
   ],
   "source": [
    "plt.figure(figsize=(15,5))\n",
    "plt.subplot(1,2,1)\n",
    "plt.hist(hist_brightness);\n",
    "plt.title('brightness');\n",
    "plt.subplot(1,2,2)\n",
    "plt.hist(hist_contrast);\n",
    "plt.title('contrast');"
   ]
  },
  {
   "cell_type": "code",
   "execution_count": 314,
   "id": "d4ad6ebe-ea03-495e-8f5e-2ceb3573b302",
   "metadata": {},
   "outputs": [
    {
     "data": {
      "text/plain": [
       "48.091"
      ]
     },
     "execution_count": 314,
     "metadata": {},
     "output_type": "execute_result"
    }
   ],
   "source": [
    "brightness_target = np.array(hist_brightness).mean()\n",
    "brightness_target.round(3)"
   ]
  },
  {
   "cell_type": "code",
   "execution_count": 315,
   "id": "c74dbf7c-eb3a-49aa-8397-f12276e6450c",
   "metadata": {},
   "outputs": [
    {
     "data": {
      "text/plain": [
       "51.28"
      ]
     },
     "execution_count": 315,
     "metadata": {},
     "output_type": "execute_result"
    }
   ],
   "source": [
    "contrast_target = np.array(hist_contrast).mean()\n",
    "contrast_target.round(3)"
   ]
  },
  {
   "cell_type": "code",
   "execution_count": 375,
   "id": "87c37864-3444-4564-9e26-a6202ffcd5ec",
   "metadata": {},
   "outputs": [],
   "source": [
    "files = np.random.permutation(files)"
   ]
  },
  {
   "cell_type": "code",
   "execution_count": 380,
   "id": "1b2bf1f6-f6df-475e-b7d4-418d651e7982",
   "metadata": {},
   "outputs": [
    {
     "name": "stderr",
     "output_type": "stream",
     "text": [
      "100%|██████████████████████████████████████████████████████████████████████████████████████████| 145/145 [21:04<00:00,  8.72s/it]\n"
     ]
    }
   ],
   "source": [
    "# NORMALIZE TO TARGET VALUES\n",
    "#for f in range(len(files)):\n",
    "for f in tqdm(range(len(files))):\n",
    "    fn = files[f]\n",
    "    #print(fn)\n",
    "    videodata = load_video(fn)\n",
    "    for i in range(10):\n",
    "        contrast = videodata[0,:,:,:].mean(axis=-1).std()\n",
    "        brightness = videodata[0,:,:,:].mean()\n",
    "        #print(f'{contrast:.2f}|{brightness:2f}')\n",
    "        videodata = contrast_video(videodata,contrast_target/contrast)\n",
    "        videodata = brighten_video(videodata,brightness_target/brightness)\n",
    "\n",
    "    save_video(videodata,ofn=fn.replace('./stimuli/','./stimuli_normed/'))"
   ]
  },
  {
   "cell_type": "code",
   "execution_count": 381,
   "id": "964db7e5-abc9-41b8-9558-0fa1baa0e76e",
   "metadata": {},
   "outputs": [
    {
     "name": "stderr",
     "output_type": "stream",
     "text": [
      "100%|██████████████████████████████████████████████████████████████████████████████████████████| 145/145 [00:38<00:00,  3.81it/s]\n"
     ]
    },
    {
     "data": {
      "image/png": "[encoded data removed]",
      "text/plain": [
       "<Figure size 1080x360 with 2 Axes>"
      ]
     },
     "metadata": {
      "needs_background": "light"
     },
     "output_type": "display_data"
    }
   ],
   "source": [
    "files = [os.path.join('./stimuli_normed/',file) for file in os.listdir('./stimuli_normed/') if file.endswith('.mp4')]\n",
    "files.sort()\n",
    "files[0:5]\n",
    "\n",
    "hist_brightness = []\n",
    "hist_contrast = []\n",
    "for file in tqdm(files):\n",
    "    vid = load_video(file)\n",
    "    hist_brightness.append(  vid[0,:,:,:].mean()  )\n",
    "    hist_contrast.append(  vid[0,:,:,:].mean(axis=-1).std() )\n",
    "    \n",
    "plt.figure(figsize=(15,5))\n",
    "plt.subplot(1,2,1)\n",
    "plt.hist(hist_brightness);\n",
    "plt.title('brightness');\n",
    "plt.subplot(1,2,2)\n",
    "plt.hist(hist_contrast);\n",
    "plt.title('contrast');"
   ]
  },
  {
   "cell_type": "code",
   "execution_count": null,
   "id": "56d0ec20-6b66-405d-8e35-17f83dbc9db9",
   "metadata": {},
   "outputs": [],
   "source": []
  },
  {
   "cell_type": "code",
   "execution_count": null,
   "id": "217c54c8-8a66-4aa4-83fb-9bdc7a30c2bd",
   "metadata": {},
   "outputs": [],
   "source": []
  },
  {
   "cell_type": "code",
   "execution_count": null,
   "id": "25d8a11d-c125-4cfd-9dab-da79a31e56fc",
   "metadata": {},
   "outputs": [],
   "source": []
  },
  {
   "cell_type": "code",
   "execution_count": null,
   "id": "d7231205-8a8e-48d9-9650-cc2b0875d591",
   "metadata": {},
   "outputs": [],
   "source": []
  },
  {
   "cell_type": "code",
   "execution_count": 70,
   "id": "1f61b049-769e-4e03-8de6-804198a198d4",
   "metadata": {},
   "outputs": [],
   "source": [
    "def show_frame(videodata,frame=0,scale=.75):\n",
    "    plt.figure(figsize=np.array((15,20))*scale)\n",
    "    plt.imshow(videodata[frame,:,:,:])\n",
    "    plt.xticks([]);\n",
    "    plt.yticks([]);"
   ]
  },
  {
   "cell_type": "code",
   "execution_count": 249,
   "id": "6f3edbb4-89e5-4893-b45a-83d5b85e23da",
   "metadata": {},
   "outputs": [],
   "source": [
    "def brighten_video(videodata,factor=1):\n",
    "    return np.array([np.array(ImageEnhance.Brightness(Image.fromarray(videodata[frame,:,:,:])).enhance(factor)) for frame in range(videodata.shape[0])])"
   ]
  },
  {
   "cell_type": "code",
   "execution_count": 250,
   "id": "a8548aa8-e6d6-434c-9879-752db3c52543",
   "metadata": {},
   "outputs": [],
   "source": [
    "def contrast_video(videodata,factor=1):\n",
    "    return np.array([np.array(ImageEnhance.Contrast(Image.fromarray(videodata[frame,:,:,:])).enhance(factor)) for frame in range(videodata.shape[0])])"
   ]
  },
  {
   "cell_type": "code",
   "execution_count": 244,
   "id": "c75e58f0-035e-463b-95f3-6e59c2f0150a",
   "metadata": {},
   "outputs": [],
   "source": [
    "def save_video(videodata,ofn='outvideo.mp4'):\n",
    "    skvideo.io.vwrite(ofn, videodata.astype(np.uint8),outputdict={'-codec': 'h264', '-filter:v' : 'fps=29.97'})"
   ]
  },
  {
   "cell_type": "code",
   "execution_count": 254,
   "id": "ed85fa42-9d56-4068-976b-63dbf7bb9db6",
   "metadata": {},
   "outputs": [],
   "source": [
    "new_video = videodata\n",
    "new_video = contrast_video(new_video,factor=.2)\n",
    "new_video = brighten_video(new_video,factor=5)\n",
    "\n",
    "save_video(new_video,ofn='testbright.mp4')"
   ]
  },
  {
   "cell_type": "code",
   "execution_count": 196,
   "id": "483c36c6-b8bf-4ed0-a8cf-183a8e43df53",
   "metadata": {},
   "outputs": [
    {
     "name": "stdout",
     "output_type": "stream",
     "text": [
      "22.04\n",
      "27.61\n"
     ]
    }
   ],
   "source": [
    "#stat = ImageStat.Stat(ImageEnhance.Brightness(im).enhance(2))\n",
    "stat = ImageStat.Stat(ImageEnhance.Contrast(im).enhance(1))\n",
    "\n",
    "#print(stat.extrema)\n",
    "print(np.array(stat.mean).mean().round(3))\n",
    "#print(stat.rms)\n",
    "#print(stat.var)\n",
    "print(np.array(stat.stddev).mean().round(3))"
   ]
  },
  {
   "cell_type": "code",
   "execution_count": 197,
   "id": "bc1e3339-8a84-4083-b358-e26768e47b2b",
   "metadata": {},
   "outputs": [
    {
     "name": "stdout",
     "output_type": "stream",
     "text": [
      "Object `enhance` not found.\n"
     ]
    }
   ],
   "source": [
    "ImageEnhance.Contrast(im).enhance?"
   ]
  },
  {
   "cell_type": "code",
   "execution_count": 211,
   "id": "bc6a2090-e1d9-4af4-bebf-414534794496",
   "metadata": {},
   "outputs": [
    {
     "name": "stdout",
     "output_type": "stream",
     "text": [
      "Object `enhance` not found.\n"
     ]
    }
   ],
   "source": [
    "a = ImageEnhance.Contrast(im).enhance??"
   ]
  },
  {
   "cell_type": "code",
   "execution_count": 216,
   "id": "aefd2a12-4c74-46fb-a772-59cb809edb49",
   "metadata": {},
   "outputs": [],
   "source": [
    "#(max-min)/(max+min)"
   ]
  },
  {
   "cell_type": "code",
   "execution_count": null,
   "id": "90425813-b7d1-4c01-beb2-1deeed31de56",
   "metadata": {},
   "outputs": [],
   "source": [
    "a = ImageEnhance.Contrast(im).enhance"
   ]
  },
  {
   "cell_type": "code",
   "execution_count": 210,
   "id": "ed0ab717-0552-4609-b708-74fab2497197",
   "metadata": {},
   "outputs": [
    {
     "data": {
      "text/plain": [
       "<module 'math' from '/Users/aidasaglinskas/miniforge3/lib/python3.9/lib-dynload/math.cpython-39-darwin.so'>"
      ]
     },
     "execution_count": 210,
     "metadata": {},
     "output_type": "execute_result"
    }
   ],
   "source": [
    "ImageEnhance.ImageStat.math."
   ]
  },
  {
   "cell_type": "code",
   "execution_count": null,
   "id": "92bb97c7-6587-4840-aca2-db39a203347c",
   "metadata": {},
   "outputs": [],
   "source": []
  },
  {
   "cell_type": "code",
   "execution_count": null,
   "id": "8101ac89-6bf9-40a0-8a7f-c3adaf457add",
   "metadata": {},
   "outputs": [],
   "source": []
  },
  {
   "cell_type": "code",
   "execution_count": null,
   "id": "2f1e8d40-6dcb-4176-9c35-919cdc90e31e",
   "metadata": {},
   "outputs": [],
   "source": []
  },
  {
   "cell_type": "code",
   "execution_count": 93,
   "id": "61c19e4d-badb-4d9b-bc6a-99776f4aa72b",
   "metadata": {},
   "outputs": [],
   "source": [
    "#skvideo.io.vwrite(\"luma.mp4\", out_video.astype(np.uint8),outputdict={'-codec': 'h264', '-filter:v' : 'fps=29.97'})"
   ]
  },
  {
   "cell_type": "code",
   "execution_count": 47,
   "id": "ef1eef84-249e-4dea-8abf-0c9448aa0301",
   "metadata": {},
   "outputs": [],
   "source": [
    "# writer = skvideo.io.FFmpegWriter(\"outputvideo.mp4\")\n",
    "# for i in range(out_video.shape[0]):\n",
    "#         writer.writeFrame(out_video[i, :, :, :].astype(np.uint8))\n",
    "# writer.close()"
   ]
  },
  {
   "cell_type": "code",
   "execution_count": null,
   "id": "4a80d904-0ac2-4652-bd06-00f1f713c7c4",
   "metadata": {},
   "outputs": [],
   "source": []
  }
 ],
 "metadata": {
  "kernelspec": {
   "display_name": "Python 3 (ipykernel)",
   "language": "python",
   "name": "python3"
  },
  "language_info": {
   "codemirror_mode": {
    "name": "ipython",
    "version": 3
   },
   "file_extension": ".py",
   "mimetype": "text/x-python",
   "name": "python",
   "nbconvert_exporter": "python",
   "pygments_lexer": "ipython3",
   "version": "3.9.7"
  }
 },
 "nbformat": 4,
 "nbformat_minor": 5
}
