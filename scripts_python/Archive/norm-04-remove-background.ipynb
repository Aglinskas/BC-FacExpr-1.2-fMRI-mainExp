{
 "cells": [
  {
   "cell_type": "code",
   "execution_count": 1,
   "id": "72e504c1-a5fc-4234-818d-cd20125b7739",
   "metadata": {},
   "outputs": [],
   "source": [
    "from torchvision import models\n",
    "fcn = models.segmentation.fcn_resnet101(weights=\"FCN_ResNet101_Weights.DEFAULT\").eval()"
   ]
  },
  {
   "cell_type": "code",
   "execution_count": 2,
   "id": "a357fb9c-0d9b-4c3a-af04-0d0cbc96ba1d",
   "metadata": {},
   "outputs": [
    {
     "data": {
      "text/plain": [
       "'/Users/aidasaglinskas/Desktop/BC-FacExpr-1.2-fMRI-mainExp'"
      ]
     },
     "execution_count": 2,
     "metadata": {},
     "output_type": "execute_result"
    }
   ],
   "source": [
    "pwd"
   ]
  },
  {
   "cell_type": "code",
   "execution_count": 3,
   "id": "f42e67a4-0350-4cd2-983f-f967e02414f5",
   "metadata": {},
   "outputs": [
    {
     "name": "stderr",
     "output_type": "stream",
     "text": [
      "/var/folders/vq/3kk0fzh5509g0jkz5rt3zzsh0000gn/T/ipykernel_4002/3007012044.py:8: DeprecationWarning: Please use `gaussian_filter` from the `scipy.ndimage` namespace, the `scipy.ndimage.filters` namespace is deprecated.\n",
      "  from scipy.ndimage.filters import gaussian_filter\n"
     ]
    }
   ],
   "source": [
    "import PIL\n",
    "from PIL import Image\n",
    "import matplotlib.pyplot as plt\n",
    "import torch\n",
    "import numpy as np\n",
    "import torchvision.transforms as T\n",
    "from tqdm import tqdm\n",
    "from scipy.ndimage.filters import gaussian_filter"
   ]
  },
  {
   "cell_type": "code",
   "execution_count": 4,
   "id": "88c74f07-af78-46af-afb7-8633a9de7046",
   "metadata": {},
   "outputs": [],
   "source": [
    "# Define the helper function\n",
    "def decode_segmap(image, nc=21):\n",
    "  \n",
    "  label_colors = np.array([(0, 0, 0),  # 0=background\n",
    "               # 1=aeroplane, 2=bicycle, 3=bird, 4=boat, 5=bottle\n",
    "               (128, 0, 0), (0, 128, 0), (128, 128, 0), (0, 0, 128), (128, 0, 128),\n",
    "               # 6=bus, 7=car, 8=cat, 9=chair, 10=cow\n",
    "               (0, 128, 128), (128, 128, 128), (64, 0, 0), (192, 0, 0), (64, 128, 0),\n",
    "               # 11=dining table, 12=dog, 13=horse, 14=motorbike, 15=person\n",
    "               (192, 128, 0), (64, 0, 128), (192, 0, 128), (64, 128, 128), (192, 128, 128),\n",
    "               # 16=potted plant, 17=sheep, 18=sofa, 19=train, 20=tv/monitor\n",
    "               (0, 64, 0), (128, 64, 0), (0, 192, 0), (128, 192, 0), (0, 64, 128)])\n",
    "\n",
    "  r = np.zeros_like(image).astype(np.uint8)\n",
    "  g = np.zeros_like(image).astype(np.uint8)\n",
    "  b = np.zeros_like(image).astype(np.uint8)\n",
    "  \n",
    "  for l in range(0, nc):\n",
    "    idx = image == l\n",
    "    r[idx] = label_colors[l, 0]\n",
    "    g[idx] = label_colors[l, 1]\n",
    "    b[idx] = label_colors[l, 2]\n",
    "    \n",
    "  rgb = np.stack([r, g, b], axis=2)\n",
    "  return rgb"
   ]
  },
  {
   "cell_type": "code",
   "execution_count": 5,
   "id": "9ef88582-c0b9-465e-bfa2-75d1caf5088b",
   "metadata": {},
   "outputs": [],
   "source": [
    "def get_bg(net, img, show=True, dev='cpu'):\n",
    "    \n",
    "    if not type(img)==PIL.Image.Image:\n",
    "        img = Image.fromarray(img)\n",
    "    \n",
    "    \n",
    "    if show: plt.figure(figsize=(15,5))\n",
    "    \n",
    "    if show: plt.subplot(1,3,1);plt.imshow(img); plt.axis('off');\n",
    "    \n",
    "    \n",
    "    # Comment the Resize and CenterCrop for better inference results\n",
    "    trf = T.Compose([T.Resize(640), \n",
    "                   #T.CenterCrop(224), \n",
    "                   T.ToTensor(), \n",
    "                   T.Normalize(mean = [0.485, 0.456, 0.406], \n",
    "                               std = [0.229, 0.224, 0.225])])\n",
    "    inp = trf(img).unsqueeze(0).to(dev)\n",
    "    out = net.to(dev)(inp)['out']\n",
    "    om = torch.argmax(out.squeeze(), dim=0).detach().cpu().numpy()\n",
    "    rgb = decode_segmap(om)\n",
    "    #plt.imshow(rgb); plt.axis('off'); plt.show()\n",
    "    \n",
    "    \n",
    "    seg_resized = Image.fromarray(rgb).resize((512,512),resample=PIL.Image.NEAREST)\n",
    "    bg = (np.array(seg_resized)==0).sum(axis=-1)==3\n",
    "    img_copy = np.array(img).copy()\n",
    "    img_copy[:,:,0][bg] = 0\n",
    "    img_copy[:,:,1][bg] = 0\n",
    "    img_copy[:,:,2][bg] = 0\n",
    "    #Image.fromarray(img_copy)\n",
    "    \n",
    "    if show: plt.subplot(1,3,2);plt.imshow(rgb); plt.axis('off');\n",
    "    \n",
    "    if show: plt.subplot(1,3,3);plt.imshow(img_copy); plt.axis('off');\n",
    "    \n",
    "    \n",
    "    if show: plt.show()\n",
    "    \n",
    "    return bg"
   ]
  },
  {
   "cell_type": "code",
   "execution_count": 6,
   "id": "f3f2023c-acba-4327-82f0-0f5b46b7c5ba",
   "metadata": {},
   "outputs": [],
   "source": [
    "def load_video(fn):\n",
    "    import skvideo\n",
    "    import skvideo.io\n",
    "    videodata = skvideo.io.vread(fn)\n",
    "    return videodata"
   ]
  },
  {
   "cell_type": "code",
   "execution_count": 7,
   "id": "d39ccbcd-0c07-4af6-8ec1-cc6a267d6f6b",
   "metadata": {},
   "outputs": [],
   "source": [
    "def save_video(videodata,ofn='outvideo.mp4'):\n",
    "    import skvideo\n",
    "    import skvideo.io\n",
    "    skvideo.io.vwrite(ofn, videodata.astype(np.uint8),outputdict={'-codec': 'h264', '-filter:v' : 'fps=29.97'})"
   ]
  },
  {
   "cell_type": "code",
   "execution_count": 8,
   "id": "49cda893-352d-4f71-bc44-c5886749cfeb",
   "metadata": {},
   "outputs": [
    {
     "data": {
      "text/plain": [
       "['id1d1.mp4', 'id1d2.mp4', 'id1f1.mp4', 'id1f2.mp4', 'id1h1.mp4']"
      ]
     },
     "execution_count": 8,
     "metadata": {},
     "output_type": "execute_result"
    }
   ],
   "source": [
    "import os\n",
    "indir = '/Users/aidasaglinskas/Desktop/BC-FacExpr-1.2-fMRI-mainExp/stimuli_cropped/'\n",
    "indir2 = '/Users/aidasaglinskas/Desktop/BC-FacExpr-1.2-fMRI-mainExp/stimuli_normed_cb_tint_1/'\n",
    "files = [file for file in os.listdir(indir) if file.endswith('.mp4')]\n",
    "files.sort()\n",
    "files[0:5]"
   ]
  },
  {
   "cell_type": "code",
   "execution_count": 34,
   "id": "f290d4bf-ab12-4f1f-aea8-6a19176836dc",
   "metadata": {},
   "outputs": [
    {
     "name": "stderr",
     "output_type": "stream",
     "text": [
      "100%|███████████████████████████████████████████| 70/70 [00:09<00:00,  7.04it/s]\n"
     ]
    }
   ],
   "source": [
    "mean_bg_colors = np.array([load_video(os.path.join(indir2,file))[:,0:10,:,:][:,:,0:10,:].mean(axis=0).mean(axis=0).mean(axis=0) for file in tqdm(files)])\n",
    "\n"
   ]
  },
  {
   "cell_type": "code",
   "execution_count": 39,
   "id": "f2cb70fe-c7f5-45f7-aa90-826257b64638",
   "metadata": {},
   "outputs": [
    {
     "data": {
      "text/plain": [
       "array([24, 48, 80], dtype=uint8)"
      ]
     },
     "execution_count": 39,
     "metadata": {},
     "output_type": "execute_result"
    }
   ],
   "source": [
    "mean_bg_colors.mean(axis=0).astype(np.uint8)"
   ]
  },
  {
   "cell_type": "code",
   "execution_count": 9,
   "id": "18a049ba-6f41-476c-8256-912a44160db8",
   "metadata": {},
   "outputs": [
    {
     "name": "stderr",
     "output_type": "stream",
     "text": [
      "<frozen importlib._bootstrap>:228: RuntimeWarning: scipy._lib.messagestream.MessageStream size changed, may indicate binary incompatibility. Expected 56 from C header, got 64 from PyObject\n"
     ]
    },
    {
     "data": {
      "text/plain": [
       "(72, 512, 512, 3)"
      ]
     },
     "execution_count": 9,
     "metadata": {},
     "output_type": "execute_result"
    }
   ],
   "source": [
    "file = files[0]\n",
    "file = 'id7f2.mp4'\n",
    "video_data = load_video(os.path.join(indir,file))\n",
    "video_data.shape"
   ]
  },
  {
   "cell_type": "code",
   "execution_count": 40,
   "id": "20be05ba-890e-4f2e-85ef-56098437da28",
   "metadata": {},
   "outputs": [],
   "source": [
    "def remove_bg(video_data,bg_r=24,bg_b=48,bg_g=80):\n",
    "    \n",
    "    bgs = [get_bg(fcn,video_data[i,:,:,:],show=False) for i in range(video_data.shape[0])]\n",
    "    bgs = np.array(bgs)\n",
    "    bgs.shape\n",
    "    \n",
    "    use_bg = bgs.mean(axis=0)>.8\n",
    "\n",
    "    video_data = load_video(os.path.join(indir2,file)) # load new video\n",
    "    video_data_copy = video_data.copy()\n",
    "    video_data_copy.shape\n",
    "\n",
    "    for f in range(video_data_copy.shape[0]):\n",
    "        video_data_copy[f,:,:,0][use_bg]=bg_r #20\n",
    "        video_data_copy[f,:,:,1][use_bg]=bg_b #50\n",
    "        video_data_copy[f,:,:,2][use_bg]=bg_g #80\n",
    "\n",
    "    return video_data_copy"
   ]
  },
  {
   "cell_type": "code",
   "execution_count": 41,
   "id": "71654d42-7532-49c2-b88e-73e2548661d6",
   "metadata": {},
   "outputs": [
    {
     "name": "stderr",
     "output_type": "stream",
     "text": [
      "100%|████████████████████████████████████████| 70/70 [2:54:07<00:00, 149.25s/it]\n"
     ]
    }
   ],
   "source": [
    "for file in tqdm(files):\n",
    "    video_data = load_video(os.path.join(indir,file))\n",
    "    video_data_copy = remove_bg(video_data,bg_r=20,bg_b=50,bg_g=80)\n",
    "    filename = file.replace('.mp4','')\n",
    "    save_video(video_data_copy,ofn=f'./stimuli_bg_removed/{filename}_bg_removed_fixed_max_outline.mp4')"
   ]
  },
  {
   "cell_type": "code",
   "execution_count": null,
   "id": "e7f1bb53-1d9c-44e6-be11-f184c72cfffa",
   "metadata": {},
   "outputs": [],
   "source": []
  },
  {
   "cell_type": "code",
   "execution_count": null,
   "id": "fc4c32f7-3dcd-47d8-8ee9-67331078db5e",
   "metadata": {},
   "outputs": [],
   "source": []
  },
  {
   "cell_type": "code",
   "execution_count": null,
   "id": "da00305b-3528-463b-a34d-71207eeb829c",
   "metadata": {},
   "outputs": [],
   "source": []
  },
  {
   "cell_type": "code",
   "execution_count": null,
   "id": "73bad6d1-6e73-4f51-8c86-15f26826c372",
   "metadata": {},
   "outputs": [],
   "source": []
  },
  {
   "cell_type": "code",
   "execution_count": null,
   "id": "e5ede20c-33a8-4d53-b94d-5b05f2ea9ecf",
   "metadata": {},
   "outputs": [],
   "source": []
  },
  {
   "cell_type": "code",
   "execution_count": null,
   "id": "0e4b4d12-e168-45d5-9a2b-d4b41d2848e0",
   "metadata": {},
   "outputs": [],
   "source": []
  },
  {
   "cell_type": "code",
   "execution_count": null,
   "id": "eafcfa51-17f4-4dfa-815d-72d5df2dd178",
   "metadata": {},
   "outputs": [],
   "source": []
  },
  {
   "cell_type": "code",
   "execution_count": null,
   "id": "204c62cc-7b78-428f-a462-325c345d8d95",
   "metadata": {},
   "outputs": [],
   "source": []
  },
  {
   "cell_type": "code",
   "execution_count": null,
   "id": "ef514cc8-eca3-4a9f-a473-dfbaa068558e",
   "metadata": {},
   "outputs": [],
   "source": []
  },
  {
   "cell_type": "code",
   "execution_count": null,
   "id": "dca267bf-e9d5-4dca-88f5-c8656648d8fd",
   "metadata": {},
   "outputs": [],
   "source": []
  }
 ],
 "metadata": {
  "kernelspec": {
   "display_name": "Python 3 (ipykernel)",
   "language": "python",
   "name": "python3"
  },
  "language_info": {
   "codemirror_mode": {
    "name": "ipython",
    "version": 3
   },
   "file_extension": ".py",
   "mimetype": "text/x-python",
   "name": "python",
   "nbconvert_exporter": "python",
   "pygments_lexer": "ipython3",
   "version": "3.9.7"
  }
 },
 "nbformat": 4,
 "nbformat_minor": 5
}
