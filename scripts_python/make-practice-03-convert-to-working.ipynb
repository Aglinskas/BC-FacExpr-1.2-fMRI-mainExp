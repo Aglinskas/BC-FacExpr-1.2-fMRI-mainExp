{
 "cells": [
  {
   "cell_type": "code",
   "execution_count": 3,
   "id": "ecd955fe-df50-4a21-aa65-47236f6aeb96",
   "metadata": {},
   "outputs": [
    {
     "data": {
      "text/plain": [
       "'/Users/aidasaglinskas/Desktop/BC-FacExpr-1.2-fMRI-mainExp/scripts_python'"
      ]
     },
     "execution_count": 3,
     "metadata": {},
     "output_type": "execute_result"
    }
   ],
   "source": [
    "pwd\n"
   ]
  },
  {
   "cell_type": "code",
   "execution_count": 4,
   "id": "1947806d-af54-45e1-a425-e9ac5884956e",
   "metadata": {},
   "outputs": [],
   "source": [
    "from matplotlib import pyplot as plt\n",
    "from PIL import Image, ImageEnhance,ImageStat\n",
    "import skvideo\n",
    "import skvideo.io\n",
    "import numpy as np\n",
    "import os\n",
    "from tqdm import tqdm\n",
    "import cv2"
   ]
  },
  {
   "cell_type": "code",
   "execution_count": 5,
   "id": "b6c31e28-bf47-462d-89d4-f5eebf72fe91",
   "metadata": {},
   "outputs": [],
   "source": [
    "def safe_mkdir(dir_name):\n",
    "    if not os.path.exists(dir_name):\n",
    "        os.mkdir(dir_name)"
   ]
  },
  {
   "cell_type": "code",
   "execution_count": 6,
   "id": "cafd2fe3-b6d4-4adb-be19-1cec6cbcd214",
   "metadata": {},
   "outputs": [],
   "source": [
    "def load_video(fn):\n",
    "    #fn = 'ID4_h1_1.mp4'\n",
    "    videodata = skvideo.io.vread(fn)\n",
    "    return videodata"
   ]
  },
  {
   "cell_type": "code",
   "execution_count": 37,
   "id": "598ad16f-0d09-48d4-a4ec-d36f5f484b55",
   "metadata": {},
   "outputs": [],
   "source": [
    "def save_video(videodata,ofn='outvideo.mp4'):\n",
    "    # 20FPS, opens in quicktime\n",
    "    #skvideo.io.vwrite(ofn, videodata.astype(np.uint8),outputdict={'-pix_fmt' : 'yuv420p','-codec': 'h264', '-filter:v' : 'fps=20'})\n",
    "    skvideo.io.vwrite(ofn, videodata.astype(np.uint8),outputdict={'-codec': 'h264', '-filter:v' : 'fps=20'})"
   ]
  },
  {
   "cell_type": "code",
   "execution_count": 2,
   "id": "010d84bb-cab2-4b1c-9b28-c9dbab8262f9",
   "metadata": {},
   "outputs": [],
   "source": [
    "indir = '/Users/aidasaglinskas/Desktop/BC-FacExpr-1.2-fMRI-mainExp/stimuli/stimuli_practice/'\n",
    "outdir = '/Users/aidasaglinskas/Desktop/BC-FacExpr-1.2-fMRI-mainExp/stimuli/stimuli_practice2/'"
   ]
  },
  {
   "cell_type": "code",
   "execution_count": null,
   "id": "e5759d88-6dbc-47a8-a7cf-7f78d12aab47",
   "metadata": {},
   "outputs": [],
   "source": [
    "assert os.path.exists(indir)"
   ]
  },
  {
   "cell_type": "code",
   "execution_count": 12,
   "id": "0a02a540-09f5-40bc-9d39-723aceaf9963",
   "metadata": {},
   "outputs": [],
   "source": [
    "safe_mkdir(outdir)"
   ]
  },
  {
   "cell_type": "code",
   "execution_count": 16,
   "id": "03664fc6-7c0a-4bf1-a88e-ec1eb57c1dc4",
   "metadata": {},
   "outputs": [
    {
     "data": {
      "text/plain": [
       "['sadness', 'neutral', 'happiness', 'fearsurprise', 'disgust']"
      ]
     },
     "execution_count": 16,
     "metadata": {},
     "output_type": "execute_result"
    }
   ],
   "source": [
    "folders = [f for f in os.listdir(indir) if not f.startswith('.')]\n",
    "folders"
   ]
  },
  {
   "cell_type": "code",
   "execution_count": 45,
   "id": "db83aad0-c01f-4426-b288-c3f1e6410f99",
   "metadata": {},
   "outputs": [
    {
     "name": "stderr",
     "output_type": "stream",
     "text": [
      "100%|█████████████████████████████████████████████| 5/5 [00:23<00:00,  4.68s/it]\n"
     ]
    }
   ],
   "source": [
    "for f in tqdm(range(len(folders))):\n",
    "    safe_mkdir(os.path.join(outdir,folders[f]))\n",
    "\n",
    "    files = [c for c in os.listdir(os.path.join(indir,folders[f])) if not c.startswith('.')]\n",
    "    files.sort()\n",
    "\n",
    "    for c in range(len(files)):\n",
    "        videodata = load_video(os.path.join(indir,folders[f],files[c]))\n",
    "        videodata = videodata[0:40,:,:,:]\n",
    "        save_video(videodata,os.path.join(outdir,folders[f],files[c]))"
   ]
  },
  {
   "cell_type": "code",
   "execution_count": 40,
   "id": "016ecf0a-12b2-4063-830d-920fe77cf210",
   "metadata": {},
   "outputs": [],
   "source": []
  },
  {
   "cell_type": "code",
   "execution_count": 41,
   "id": "6e05fb0b-8c5c-45fc-a364-afc366ffb90c",
   "metadata": {},
   "outputs": [],
   "source": []
  },
  {
   "cell_type": "code",
   "execution_count": null,
   "id": "463e1037-c531-4d57-942a-ec1c77c42e89",
   "metadata": {},
   "outputs": [],
   "source": []
  }
 ],
 "metadata": {
  "kernelspec": {
   "display_name": "Python 3 (ipykernel)",
   "language": "python",
   "name": "python3"
  },
  "language_info": {
   "codemirror_mode": {
    "name": "ipython",
    "version": 3
   },
   "file_extension": ".py",
   "mimetype": "text/x-python",
   "name": "python",
   "nbconvert_exporter": "python",
   "pygments_lexer": "ipython3",
   "version": "3.9.7"
  }
 },
 "nbformat": 4,
 "nbformat_minor": 5
}
