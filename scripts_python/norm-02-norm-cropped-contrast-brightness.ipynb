{
 "cells": [
  {
   "cell_type": "code",
   "execution_count": 1,
   "id": "873adb7e-eb00-494d-8df7-22740c2d196f",
   "metadata": {},
   "outputs": [
    {
     "data": {
      "text/plain": [
       "'/Users/aidasaglinskas/Desktop/BC-FacExpr-1.2-fMRI-mainExp/scripts_python'"
      ]
     },
     "execution_count": 1,
     "metadata": {},
     "output_type": "execute_result"
    }
   ],
   "source": [
    "pwd"
   ]
  },
  {
   "cell_type": "code",
   "execution_count": 2,
   "id": "fc602b8f-d1b9-4dc8-881b-d48a1d8ffa84",
   "metadata": {},
   "outputs": [],
   "source": [
    "#skvideo.setFFmpegPath(\"/Users/aidasaglinskas/Desktop/test/\")"
   ]
  },
  {
   "cell_type": "code",
   "execution_count": 3,
   "id": "68354615-dfae-4dfc-9125-fdb54fbe1c1f",
   "metadata": {},
   "outputs": [
    {
     "name": "stderr",
     "output_type": "stream",
     "text": [
      "<frozen importlib._bootstrap>:228: RuntimeWarning: scipy._lib.messagestream.MessageStream size changed, may indicate binary incompatibility. Expected 56 from C header, got 64 from PyObject\n"
     ]
    }
   ],
   "source": [
    "from matplotlib import pyplot as plt\n",
    "from PIL import Image, ImageEnhance,ImageStat\n",
    "import skvideo\n",
    "import skvideo.io\n",
    "import numpy as np\n",
    "import os\n",
    "from tqdm import tqdm"
   ]
  },
  {
   "cell_type": "code",
   "execution_count": 4,
   "id": "4e7cd838-5d63-4b64-8532-eae05be28e92",
   "metadata": {},
   "outputs": [],
   "source": [
    "def load_video(fn):\n",
    "    videodata = skvideo.io.vread(fn)\n",
    "    return videodata"
   ]
  },
  {
   "cell_type": "code",
   "execution_count": 5,
   "id": "0be5b33f-6719-43c1-8d7a-fe453f7e6686",
   "metadata": {},
   "outputs": [],
   "source": [
    "def safe_mkdir(dir_name):\n",
    "    if not os.path.exists(dir_name):\n",
    "        os.mkdir(dir_name)"
   ]
  },
  {
   "cell_type": "code",
   "execution_count": 6,
   "id": "045c7cb7-a35e-4739-bad7-b4657820d7da",
   "metadata": {},
   "outputs": [],
   "source": [
    "def brighten_video(videodata,factor=1):\n",
    "    return np.array([np.array(ImageEnhance.Brightness(Image.fromarray(videodata[frame,:,:,:])).enhance(factor)) for frame in range(videodata.shape[0])])"
   ]
  },
  {
   "cell_type": "code",
   "execution_count": 7,
   "id": "415ebe5d-d9a5-4e10-b584-b3499151b692",
   "metadata": {},
   "outputs": [],
   "source": [
    "def contrast_video(videodata,factor=1):\n",
    "    return np.array([np.array(ImageEnhance.Contrast(Image.fromarray(videodata[frame,:,:,:])).enhance(factor)) for frame in range(videodata.shape[0])])"
   ]
  },
  {
   "cell_type": "code",
   "execution_count": 8,
   "id": "b2dbd7fa-ca3a-4e83-822d-9d828a0867b2",
   "metadata": {},
   "outputs": [],
   "source": [
    "def save_video(videodata,ofn='outvideo.mp4'):\n",
    "    #skvideo.io.vwrite(ofn, videodata.astype(np.uint8),outputdict={'-codec': 'h264', '-filter:v' : 'fps=29.97'})\n",
    "    skvideo.io.vwrite(ofn, videodata.astype(np.uint8))"
   ]
  },
  {
   "cell_type": "code",
   "execution_count": 9,
   "id": "206c7cb4-9990-40b4-b9d0-b6ac97636efe",
   "metadata": {},
   "outputs": [],
   "source": [
    "def make_ref(ctargets):\n",
    "    ref = np.ones((10,10,3))\n",
    "    for i in range(3):\n",
    "        ref[:,:,i] = ref[:,:,i] * ctargets[i]\n",
    "    return ref.astype(np.uint8)"
   ]
  },
  {
   "cell_type": "code",
   "execution_count": 10,
   "id": "19f2bbea-f35f-48fa-b26b-f73407470373",
   "metadata": {},
   "outputs": [],
   "source": [
    "def get_face(frame,l=50):\n",
    "    return frame[256-l:256+l,256-l:256+l,:]"
   ]
  },
  {
   "cell_type": "code",
   "execution_count": 11,
   "id": "804615aa-6fc0-40ee-9bc1-2fb857b336d0",
   "metadata": {},
   "outputs": [],
   "source": [
    "def get_mean_rbg(frame):\n",
    "    return frame.mean(axis=0).mean(axis=0)"
   ]
  },
  {
   "cell_type": "code",
   "execution_count": 12,
   "id": "bd5f9e23-2ec6-453a-8001-01c73281667f",
   "metadata": {},
   "outputs": [],
   "source": [
    "def tint_frame_face(frame,ctargets):\n",
    "    \n",
    "    face_square = get_face(frame)\n",
    "    diff = get_mean_rbg(face_square)-ctargets\n",
    "    frame_copy = frame.astype(np.float64)\n",
    "    for i in range(3):\n",
    "        frame_copy[:,:,i] = frame_copy[:,:,i] - diff[i]\n",
    "        frame_copy[frame_copy<0]=0\n",
    "        frame_copy[frame_copy>255]=255\n",
    "        \n",
    "    frame_copy = frame_copy.astype(np.uint8)\n",
    "    return frame_copy"
   ]
  },
  {
   "cell_type": "code",
   "execution_count": 13,
   "id": "e3df7f7e-e192-4c33-b411-93710d2bef03",
   "metadata": {},
   "outputs": [],
   "source": [
    "def tint_video_face(videodata,ctargets):\n",
    "    nframes = videodata.shape[0]\n",
    "    tinted_video = np.array([tint_frame_face(videodata[i,:,:,:],ctargets) for i in range(nframes)])\n",
    "    return tinted_video"
   ]
  },
  {
   "cell_type": "code",
   "execution_count": 14,
   "id": "6abd79a7-859d-49e3-a455-3d69fda37a9a",
   "metadata": {},
   "outputs": [],
   "source": [
    "def tint_frame(frame,ctargets):\n",
    "    \n",
    "    #face_square = get_face(frame)\n",
    "    diff = get_mean_rbg(frame)-ctargets\n",
    "    frame_copy = frame.astype(np.float64)\n",
    "    for i in range(3):\n",
    "        frame_copy[:,:,i] = frame_copy[:,:,i] - diff[i]\n",
    "        frame_copy[frame_copy<0]=0\n",
    "        frame_copy[frame_copy>255]=255\n",
    "        \n",
    "    frame_copy = frame_copy.astype(np.uint8)\n",
    "    return frame_copy"
   ]
  },
  {
   "cell_type": "code",
   "execution_count": 15,
   "id": "5948fe6c-8579-41c4-b16c-01d92e7cea8a",
   "metadata": {},
   "outputs": [],
   "source": [
    "def tint_video(videodata,ctargets):\n",
    "    nframes = videodata.shape[0]\n",
    "    tinted_video = np.array([tint_frame(videodata[i,:,:,:],ctargets) for i in range(nframes)])\n",
    "    return tinted_video"
   ]
  },
  {
   "cell_type": "code",
   "execution_count": 16,
   "id": "0971b970-20ab-4572-8baa-af59b9090efe",
   "metadata": {},
   "outputs": [],
   "source": [
    "def get_contrast(frame):\n",
    "    return frame.mean(axis=-1).std().round(2)\n",
    "\n",
    "def get_brightness(frame):\n",
    "    return frame.mean().round(2)"
   ]
  },
  {
   "cell_type": "code",
   "execution_count": 17,
   "id": "a5026eb6-e2b9-4026-bce8-7fc6f9db5367",
   "metadata": {},
   "outputs": [],
   "source": [
    "from scipy.cluster.hierarchy import linkage,dendrogram\n",
    "\n",
    "def get_triu(inMat):\n",
    "    #inMat = rdm_bg\n",
    "\n",
    "    assert np.ndim(inMat)==2, 'not 2 dim, wtf'\n",
    "    assert inMat.shape[0]==inMat.shape[1], 'not a square'\n",
    "\n",
    "    n = inMat.shape[0]\n",
    "    triu_vec = inMat[np.triu_indices(n=n,k=1)]\n",
    "\n",
    "    #assert (squareform(triu_vec)==inMat).sum()/(n**2)>.9, 'unfaithful triu'\n",
    "    return triu_vec"
   ]
  },
  {
   "cell_type": "code",
   "execution_count": 18,
   "id": "8a16b111-fc35-46dc-9439-0db9d61a9a2d",
   "metadata": {},
   "outputs": [
    {
     "name": "stdout",
     "output_type": "stream",
     "text": [
      "70\n"
     ]
    },
    {
     "data": {
      "text/plain": [
       "['../stimuli/stimuli_working_dir/stimuli_cropped/id1d1.mp4',\n",
       " '../stimuli/stimuli_working_dir/stimuli_cropped/id1d2.mp4',\n",
       " '../stimuli/stimuli_working_dir/stimuli_cropped/id1f1.mp4',\n",
       " '../stimuli/stimuli_working_dir/stimuli_cropped/id1f2.mp4',\n",
       " '../stimuli/stimuli_working_dir/stimuli_cropped/id1h1.mp4']"
      ]
     },
     "execution_count": 18,
     "metadata": {},
     "output_type": "execute_result"
    }
   ],
   "source": [
    "#indir = './stimuli_cropped/'\n",
    "indir = '../stimuli/stimuli_working_dir/stimuli_cropped/'\n",
    "files = [os.path.join(indir,file) for file in os.listdir(indir) if file.endswith('.mp4')]\n",
    "files.sort()\n",
    "print(len(files))\n",
    "files[0:5]"
   ]
  },
  {
   "cell_type": "code",
   "execution_count": 19,
   "id": "35be0ffc-4c8e-4229-9f6e-4d2fd52adae2",
   "metadata": {},
   "outputs": [
    {
     "name": "stderr",
     "output_type": "stream",
     "text": [
      "100%|███████████████████████████████████████████| 70/70 [00:08<00:00,  8.47it/s]\n"
     ]
    }
   ],
   "source": [
    "all_contrast = []\n",
    "all_brightness = []\n",
    "all_rbg = []\n",
    "\n",
    "for f in tqdm(range(len(files))):\n",
    "    video_data = load_video(files[f])\n",
    "    n = video_data.shape[0]\n",
    "\n",
    "    all_contrast.append( get_contrast(video_data[0,:,:,:]) )\n",
    "    all_brightness.append( get_brightness(video_data[0,:,:,:]) )\n",
    "    all_rbg.append( get_mean_rbg(video_data[0,:,:,:]) )\n",
    "    \n",
    "all_contrast = np.array(all_contrast)\n",
    "all_brightness = np.array(all_brightness)\n",
    "all_rbg = np.array(all_rbg)"
   ]
  },
  {
   "cell_type": "code",
   "execution_count": 20,
   "id": "7db28658-7c1f-42bb-b9f2-2be21d0a1c78",
   "metadata": {},
   "outputs": [
    {
     "data": {
      "image/png": "[encoded data removed]",
      "text/plain": [
       "<Figure size 1080x360 with 3 Axes>"
      ]
     },
     "metadata": {
      "needs_background": "light"
     },
     "output_type": "display_data"
    }
   ],
   "source": [
    "plt.figure(figsize=(15,5))\n",
    "plt.subplot(1,3,1)\n",
    "plt.hist(all_contrast)\n",
    "plt.subplot(1,3,2)\n",
    "plt.hist(all_brightness)\n",
    "plt.subplot(1,3,3)\n",
    "plt.hist(all_rbg[:,0],color='r',alpha=.5)\n",
    "plt.hist(all_rbg[:,1],color='g',alpha=.5)\n",
    "plt.hist(all_rbg[:,2],color='b',alpha=.5)\n",
    "\n",
    "plt.tight_layout()"
   ]
  },
  {
   "cell_type": "code",
   "execution_count": 21,
   "id": "961147fa-6c6c-4594-ae82-d14379e6dd09",
   "metadata": {},
   "outputs": [
    {
     "data": {
      "text/plain": [
       "array([127,  92,  85])"
      ]
     },
     "execution_count": 21,
     "metadata": {},
     "output_type": "execute_result"
    }
   ],
   "source": [
    "all_rbg.mean(axis=0).astype(int)"
   ]
  },
  {
   "cell_type": "code",
   "execution_count": 22,
   "id": "0322d9eb-1c50-4499-8df5-aa65ddedd468",
   "metadata": {},
   "outputs": [
    {
     "data": {
      "text/plain": [
       "49"
      ]
     },
     "execution_count": 22,
     "metadata": {},
     "output_type": "execute_result"
    }
   ],
   "source": [
    "all_contrast.mean().astype(int)"
   ]
  },
  {
   "cell_type": "code",
   "execution_count": 23,
   "id": "93d80d73-4351-4d2d-8b83-8e9262cff17e",
   "metadata": {},
   "outputs": [
    {
     "data": {
      "text/plain": [
       "101"
      ]
     },
     "execution_count": 23,
     "metadata": {},
     "output_type": "execute_result"
    }
   ],
   "source": [
    "all_brightness.mean().astype(int)"
   ]
  },
  {
   "cell_type": "code",
   "execution_count": 24,
   "id": "d2d17b28-8b37-4077-bf92-6cee6c783610",
   "metadata": {},
   "outputs": [],
   "source": [
    "# contrast_target = 50\n",
    "# brightness_target = 100\n",
    "# ctargets = np.array([100,80,80])"
   ]
  },
  {
   "cell_type": "code",
   "execution_count": 25,
   "id": "902d7eb4-1c68-4ddb-9245-9e156bb390ef",
   "metadata": {},
   "outputs": [],
   "source": [
    "# contrast_target = 50\n",
    "# brightness_target = 100\n",
    "# ctargets = np.array([120,80,80])"
   ]
  },
  {
   "cell_type": "code",
   "execution_count": 26,
   "id": "aacfb369-181f-4b57-a85d-3cb4ab4e5325",
   "metadata": {},
   "outputs": [],
   "source": [
    "## GOOD VALUES\n",
    "contrast_target = 50\n",
    "brightness_target = 125\n",
    "ctargets = np.array([125,90,85])"
   ]
  },
  {
   "cell_type": "code",
   "execution_count": 27,
   "id": "6e19878e-5777-4679-9e96-4ffb9f1c39f4",
   "metadata": {},
   "outputs": [],
   "source": [
    "# ## GOOD VALUES\n",
    "# contrast_target = 50\n",
    "# brightness_target = 125\n",
    "# ctargets = np.array([100,100,100])"
   ]
  },
  {
   "cell_type": "code",
   "execution_count": 30,
   "id": "afe09e57-d242-483b-aeb6-527d8c094256",
   "metadata": {
    "tags": []
   },
   "outputs": [
    {
     "name": "stderr",
     "output_type": "stream",
     "text": [
      "100%|███████████████████████████████████████████| 70/70 [06:34<00:00,  5.63s/it]\n"
     ]
    }
   ],
   "source": [
    "run_norm = True\n",
    "do_plot = False\n",
    "\n",
    "ofdir = '../stimuli/stimuli_working_dir/stimuli_normed_cb_hue/'\n",
    "safe_mkdir(ofdir)\n",
    "\n",
    "if run_norm:\n",
    "    #for f in np.arange(0,70,10):\n",
    "    #for f in [0]:\n",
    "    for f in tqdm(range(len(files))):\n",
    "        \n",
    "        fn = files[f]\n",
    "        videodata = load_video(fn)\n",
    "        frame = videodata[0,:,:,:]\n",
    "        \n",
    "        videodata = tint_video(videodata,ctargets)\n",
    "        \n",
    "        for i in range(25):        \n",
    "            contrast = videodata[0,:,:,:].mean(axis=-1).std()\n",
    "            brightness = videodata[0,:,:,:].mean()\n",
    "            videodata = contrast_video(videodata,contrast_target/contrast)\n",
    "            videodata = brighten_video(videodata,brightness_target/brightness)\n",
    "            \n",
    "        \n",
    "        #videodata = tint_video(videodata,ctargets)\n",
    "\n",
    "                \n",
    "        save_video(videodata,fn.replace(indir,ofdir))\n",
    "\n",
    "        frame_copy = videodata[0,:,:,:]\n",
    "\n",
    "        contrast = videodata[0,:,:,:].mean(axis=-1).std()\n",
    "        brightness = videodata[0,:,:,:].mean()\n",
    "        \n",
    "        if do_plot:\n",
    "            ncols = 7\n",
    "            plt.figure(figsize=(5*ncols,ncols));i=0;\n",
    "            i+=1;plt.subplot(1,ncols,i);plt.imshow(frame);plt.xticks([]);plt.yticks([]);plt.title('Orig Frame');\n",
    "            i+=1;plt.subplot(1,ncols,i);plt.imshow(frame_copy);plt.xticks([]);plt.yticks([]);plt.title('new frame');\n",
    "\n",
    "            #i+=1;plt.subplot(1,ncols,i);plt.imshow(face_square);plt.xticks([]);plt.yticks([]);plt.title('Orig Face');\n",
    "            #i+=1;plt.subplot(1,ncols,i);plt.imshow(new_face);plt.xticks([]);plt.yticks([]);plt.title('New Face');\n",
    "\n",
    "\n",
    "            fontsize=40\n",
    "            i+=1;plt.subplot(1,ncols,i);\n",
    "            #plt.text(.5,1,f'C| {get_contrast(get_face(frame))}',fontsize=fontsize);plt.xlim(0,3);plt.ylim(0,3);plt.xticks([]);plt.yticks([]);\n",
    "            #plt.text(.5,2,f'B| {get_brightness(get_face(frame))}',fontsize=fontsize);plt.xlim(0,3);plt.ylim(0,3);plt.xticks([]);plt.yticks([]);\n",
    "            plt.text(.5,1,f'C| {get_contrast(frame)}',fontsize=fontsize);plt.xlim(0,3);plt.ylim(0,3);plt.xticks([]);plt.yticks([]);\n",
    "            plt.text(.5,2,f'B| {get_brightness(frame)}',fontsize=fontsize);plt.xlim(0,3);plt.ylim(0,3);plt.xticks([]);plt.yticks([]);\n",
    "\n",
    "            old_c = get_mean_rbg(frame).astype(np.uint8)\n",
    "            plt.text(.15,1.5,f'{old_c[0]}/{old_c[1]}/{old_c[0]}',fontsize=fontsize*.75);plt.xlim(0,3);plt.ylim(0,3);plt.xticks([]);plt.yticks([]);\n",
    "\n",
    "            plt.title('Original frame')\n",
    "\n",
    "\n",
    "            i+=1;plt.subplot(1,ncols,i);\n",
    "            #plt.text(.5,1,f'C| {get_contrast(get_face(videodata[0,:,:,:]))}',fontsize=fontsize);plt.xlim(0,3);plt.ylim(0,3);plt.xticks([]);plt.yticks([]);\n",
    "            #plt.text(.5,2,f'B| {get_brightness(get_face(videodata[0,:,:,:]))}',fontsize=fontsize);plt.xlim(0,3);plt.ylim(0,3);plt.xticks([]);plt.yticks([]);\n",
    "            plt.text(.5,1,f'C| {get_contrast(videodata[0,:,:,:])}',fontsize=fontsize);plt.xlim(0,3);plt.ylim(0,3);plt.xticks([]);plt.yticks([]);\n",
    "            plt.text(.5,2,f'B| {get_brightness(videodata[0,:,:,:])}',fontsize=fontsize);plt.xlim(0,3);plt.ylim(0,3);plt.xticks([]);plt.yticks([]);        \n",
    "            new_c = get_mean_rbg(videodata[0,:,:,:]).astype(np.uint8)\n",
    "            plt.text(.15,1.5,f'{new_c[0]}/{new_c[1]}/{new_c[2]}',fontsize=fontsize*.75);plt.xlim(0,3);plt.ylim(0,3);plt.xticks([]);plt.yticks([]);\n",
    "\n",
    "            plt.title('New frame')\n",
    "\n",
    "            i+=1;plt.subplot(1,ncols,i);\n",
    "            plt.text(.5,1,f'C| {contrast_target}',fontsize=fontsize);plt.xlim(0,3);plt.ylim(0,3);plt.xticks([]);plt.yticks([]);\n",
    "            plt.text(.5,2,f'B| {brightness_target}',fontsize=fontsize);plt.xlim(0,3);plt.ylim(0,3);plt.xticks([]);plt.yticks([]);\n",
    "            plt.text(.15,1.5,f'{ctargets[0]}/{ctargets[1]}/{ctargets[2]}',fontsize=fontsize*.75);plt.xlim(0,3);plt.ylim(0,3);plt.xticks([]);plt.yticks([]);\n",
    "            plt.title('Target values')\n",
    "\n",
    "            i+=1;plt.subplot(1,ncols,i);\n",
    "            delta_c = (abs(contrast_target-contrast)/contrast_target*100).round(2)\n",
    "            delta_b = (abs(brightness_target-brightness)/brightness_target*100).round(2)\n",
    "            \n",
    "            rgb = get_mean_rbg(videodata[0,:,:,:])\n",
    "            delta_t_r = (abs(ctargets[0]-rgb[0])/ctargets[0]*100).round(2)\n",
    "            delta_t_g = (abs(ctargets[1]-rgb[1])/ctargets[1]*100).round(2)\n",
    "            delta_t_b = (abs(ctargets[2]-rgb[2])/ctargets[2]*100).round(2)\n",
    "            \n",
    "            plt.text(.5,1,f'C| {delta_c}%',fontsize=fontsize);plt.xlim(0,3);plt.ylim(0,3);plt.xticks([]);plt.yticks([]);\n",
    "            plt.text(.5,2,f'B| {delta_b}%',fontsize=fontsize);plt.xlim(0,3);plt.ylim(0,3);plt.xticks([]);plt.yticks([]);\n",
    "            plt.text(.15,1.5,f'{delta_t_r}/{delta_t_g}/{delta_t_b}',fontsize=fontsize*.75);plt.xlim(0,3);plt.ylim(0,3);plt.xticks([]);plt.yticks([]);\n",
    "            plt.title('Delta')\n",
    "\n",
    "            plt.tight_layout()\n",
    "            plt.show()"
   ]
  },
  {
   "cell_type": "code",
   "execution_count": 31,
   "id": "b953a483-5896-4d1c-81a2-46bc466e8cc0",
   "metadata": {},
   "outputs": [
    {
     "name": "stdout",
     "output_type": "stream",
     "text": [
      "70\n"
     ]
    },
    {
     "data": {
      "text/plain": [
       "['../stimuli/stimuli_working_dir/stimuli_normed_cb_hue/id1d1.mp4',\n",
       " '../stimuli/stimuli_working_dir/stimuli_normed_cb_hue/id1d2.mp4',\n",
       " '../stimuli/stimuli_working_dir/stimuli_normed_cb_hue/id1f1.mp4',\n",
       " '../stimuli/stimuli_working_dir/stimuli_normed_cb_hue/id1f2.mp4',\n",
       " '../stimuli/stimuli_working_dir/stimuli_normed_cb_hue/id1h1.mp4']"
      ]
     },
     "execution_count": 31,
     "metadata": {},
     "output_type": "execute_result"
    }
   ],
   "source": [
    "#indir = ofdir\n",
    "indir = '../stimuli/stimuli_working_dir/stimuli_normed_cb/'\n",
    "indir = '../stimuli/stimuli_working_dir/stimuli_normed_hue_cb/'\n",
    "indir = '../stimuli/stimuli_working_dir/stimuli_normed_cb_hue/'\n",
    "files = [os.path.join(indir,file) for file in os.listdir(indir) if file.endswith('.mp4')]\n",
    "files.sort()\n",
    "n = len(files)\n",
    "print(n)\n",
    "files[0:5]"
   ]
  },
  {
   "cell_type": "code",
   "execution_count": 32,
   "id": "655b7720-d781-48fb-8c4c-a99608c484e7",
   "metadata": {},
   "outputs": [
    {
     "name": "stderr",
     "output_type": "stream",
     "text": [
      "100%|███████████████████████████████████████████| 70/70 [00:08<00:00,  8.38it/s]\n"
     ]
    }
   ],
   "source": [
    "all_contrast = []\n",
    "all_brightness = []\n",
    "all_rbg = []\n",
    "\n",
    "for f in tqdm(range(len(files))):\n",
    "    video_data = load_video(files[f])\n",
    "    n = video_data.shape[0]\n",
    "\n",
    "    all_contrast.append( get_contrast(video_data[0,:,:,:]) )\n",
    "    all_brightness.append( get_brightness(video_data[0,:,:,:]) )\n",
    "    all_rbg.append( get_mean_rbg(video_data[0,:,:,:]) )\n",
    "    \n",
    "all_contrast = np.array(all_contrast)\n",
    "all_brightness = np.array(all_brightness)\n",
    "all_rbg = np.array(all_rbg)"
   ]
  },
  {
   "cell_type": "code",
   "execution_count": 33,
   "id": "2f01801e-877a-4894-a705-8f8b6b45133b",
   "metadata": {},
   "outputs": [
    {
     "data": {
      "text/plain": [
       "Text(0.5, 1.0, 'Hue\\ncorr w/ ID r=0.36')"
      ]
     },
     "execution_count": 33,
     "metadata": {},
     "output_type": "execute_result"
    },
    {
     "data": {
      "image/png": "[encoded data removed]",
      "text/plain": [
       "<Figure size 1800x720 with 4 Axes>"
      ]
     },
     "metadata": {
      "needs_background": "light"
     },
     "output_type": "display_data"
    }
   ],
   "source": [
    "## ID SIMILARITY \n",
    "from scipy.spatial.distance import pdist,squareform\n",
    "from scipy.stats import kendalltau,pearsonr\n",
    "\n",
    "id_vec = np.hstack([np.repeat(i,10) for i in range(7)])\n",
    "id_sim = squareform(pdist(id_vec[:,np.newaxis]))\n",
    "id_sim[id_sim>0] = 1\n",
    "\n",
    "sim_contrast = squareform(pdist((all_contrast-contrast_target)[:,np.newaxis]))\n",
    "sim_brightness = squareform(pdist((all_brightness-brightness_target)[:,np.newaxis]))\n",
    "sim_hue = squareform(pdist(all_rbg-ctargets))\n",
    "\n",
    "# sim_contrast = squareform(pdist((all_contrast)[:,np.newaxis]))\n",
    "# sim_brightness = squareform(pdist((all_brightness)[:,np.newaxis]))\n",
    "# sim_hue = squareform(pdist(all_rbg))\n",
    "\n",
    "rsa_contrast = kendalltau(get_triu(id_sim),get_triu(sim_contrast))[0]\n",
    "rsa_brightness = kendalltau(get_triu(id_sim),get_triu(sim_brightness))[0]\n",
    "rsa_hue = kendalltau(get_triu(id_sim),get_triu(sim_hue))[0]\n",
    "\n",
    "plt.figure(figsize=(25,10))\n",
    "plt.subplot(1,4,1);plt.imshow(id_sim);\n",
    "plt.subplot(1,4,2);plt.imshow(sim_contrast);plt.title(f'Contrast\\ncorr w/ ID r={rsa_contrast:.2f}')\n",
    "plt.subplot(1,4,3);plt.imshow(sim_brightness);plt.title(f'Brightness\\ncorr w/ ID r={rsa_brightness:.2f}')\n",
    "plt.subplot(1,4,4);plt.imshow(sim_hue);plt.title(f'Hue\\ncorr w/ ID r={rsa_hue:.2f}')"
   ]
  },
  {
   "cell_type": "code",
   "execution_count": 34,
   "id": "2462816d-7501-4e0b-8704-8cb582a84b2b",
   "metadata": {},
   "outputs": [
    {
     "data": {
      "text/plain": [
       "Text(0.5, 1.0, 'Hue\\ncorr w/ ID r=0.45')"
      ]
     },
     "execution_count": 34,
     "metadata": {},
     "output_type": "execute_result"
    },
    {
     "data": {
      "image/png": "[encoded data removed]",
      "text/plain": [
       "<Figure size 1800x720 with 4 Axes>"
      ]
     },
     "metadata": {
      "needs_background": "light"
     },
     "output_type": "display_data"
    }
   ],
   "source": [
    "## ID SIMILARITY \n",
    "from scipy.spatial.distance import pdist,squareform\n",
    "from scipy.stats import kendalltau\n",
    "\n",
    "id_vec = np.hstack([np.repeat(i,10) for i in range(7)])\n",
    "id_sim = squareform(pdist(id_vec[:,np.newaxis]))\n",
    "id_sim[id_sim>0] = 1\n",
    "\n",
    "sim_contrast = squareform(pdist((all_contrast-contrast_target)[:,np.newaxis]))\n",
    "sim_brightness = squareform(pdist((all_brightness-brightness_target)[:,np.newaxis]))\n",
    "sim_hue = squareform(pdist(all_rbg-ctargets))\n",
    "\n",
    "\n",
    "id_sim = id_sim[0:40,:][:,0:40]\n",
    "sim_contrast = sim_contrast[0:40,:][:,0:40]\n",
    "sim_brightness = sim_brightness[0:40,:][:,0:40]\n",
    "sim_hue = sim_hue[0:40,:][:,0:40]\n",
    "\n",
    "\n",
    "rsa_contrast = kendalltau(get_triu(id_sim),get_triu(sim_contrast))[0]\n",
    "rsa_brightness = kendalltau(get_triu(id_sim),get_triu(sim_brightness))[0]\n",
    "rsa_hue = kendalltau(get_triu(id_sim),get_triu(sim_hue))[0]\n",
    "\n",
    "plt.figure(figsize=(25,10))\n",
    "plt.subplot(1,4,1);plt.imshow(id_sim);\n",
    "plt.subplot(1,4,2);plt.imshow(sim_contrast);plt.title(f'Contrast\\ncorr w/ ID r={rsa_contrast:.2f}')\n",
    "plt.subplot(1,4,3);plt.imshow(sim_brightness);plt.title(f'Brightness\\ncorr w/ ID r={rsa_brightness:.2f}')\n",
    "plt.subplot(1,4,4);plt.imshow(sim_hue);plt.title(f'Hue\\ncorr w/ ID r={rsa_hue:.2f}')"
   ]
  },
  {
   "cell_type": "code",
   "execution_count": 35,
   "id": "665112d0-39bd-4f3c-8758-c5dc521cbaad",
   "metadata": {},
   "outputs": [
    {
     "data": {
      "image/png": "[encoded data removed]",
      "text/plain": [
       "<Figure size 1080x360 with 3 Axes>"
      ]
     },
     "metadata": {
      "needs_background": "light"
     },
     "output_type": "display_data"
    }
   ],
   "source": [
    "plt.figure(figsize=(15,5))\n",
    "plt.subplot(1,3,1)\n",
    "plt.hist(all_contrast)\n",
    "plt.subplot(1,3,2)\n",
    "plt.hist(all_brightness)\n",
    "plt.subplot(1,3,3)\n",
    "plt.hist(all_rbg[:,0],color='r',alpha=.5)\n",
    "plt.hist(all_rbg[:,1],color='g',alpha=.5)\n",
    "plt.hist(all_rbg[:,2],color='b',alpha=.5)\n",
    "\n",
    "plt.tight_layout()"
   ]
  },
  {
   "cell_type": "code",
   "execution_count": 33,
   "id": "bcc69838-0f79-480a-97ca-1bbeff263b3a",
   "metadata": {},
   "outputs": [
    {
     "name": "stderr",
     "output_type": "stream",
     "text": [
      "100%|███████████████████████████████████████████| 70/70 [00:08<00:00,  8.28it/s]\n"
     ]
    }
   ],
   "source": [
    "frame_sim = np.corrcoef(np.array([load_video(file)[0,:,:,:].mean(axis=-1).flatten()[::10] for file in tqdm(files)]))"
   ]
  },
  {
   "cell_type": "code",
   "execution_count": 34,
   "id": "34877def-b8eb-49ee-9ec0-4676bb4f0c34",
   "metadata": {},
   "outputs": [
    {
     "data": {
      "text/plain": [
       "<matplotlib.image.AxesImage at 0x157f8f490>"
      ]
     },
     "execution_count": 34,
     "metadata": {},
     "output_type": "execute_result"
    },
    {
     "data": {
      "image/png": "[encoded data removed]",
      "text/plain": [
       "<Figure size 432x288 with 1 Axes>"
      ]
     },
     "metadata": {
      "needs_background": "light"
     },
     "output_type": "display_data"
    }
   ],
   "source": [
    "plt.imshow(frame_sim)"
   ]
  },
  {
   "cell_type": "code",
   "execution_count": null,
   "id": "2d519248-8e4c-4a23-873b-51743b4baf48",
   "metadata": {},
   "outputs": [],
   "source": []
  },
  {
   "cell_type": "code",
   "execution_count": 60,
   "id": "466b566d-78ea-499d-bfad-8d1d16f24b5b",
   "metadata": {},
   "outputs": [
    {
     "ename": "NameError",
     "evalue": "name 'frame_sim' is not defined",
     "output_type": "error",
     "traceback": [
      "\u001b[0;31m---------------------------------------------------------------------------\u001b[0m",
      "\u001b[0;31mNameError\u001b[0m                                 Traceback (most recent call last)",
      "Input \u001b[0;32mIn [60]\u001b[0m, in \u001b[0;36m<module>\u001b[0;34m\u001b[0m\n\u001b[0;32m----> 1\u001b[0m np\u001b[38;5;241m.\u001b[39mcorrcoef(get_triu(\u001b[43mframe_sim\u001b[49m),get_triu(\u001b[38;5;241m1\u001b[39m\u001b[38;5;241m-\u001b[39mrgb_dist))\n",
      "\u001b[0;31mNameError\u001b[0m: name 'frame_sim' is not defined"
     ]
    }
   ],
   "source": [
    "np.corrcoef(get_triu(frame_sim),get_triu(1-rgb_dist))"
   ]
  },
  {
   "cell_type": "code",
   "execution_count": null,
   "id": "f1311051-2103-4255-92a1-957f34957273",
   "metadata": {},
   "outputs": [],
   "source": []
  },
  {
   "cell_type": "code",
   "execution_count": 36,
   "id": "4b66bb31-d2b4-4760-827e-71c92701dead",
   "metadata": {},
   "outputs": [],
   "source": [
    "#########\n",
    "######### PADDING\n",
    "#########"
   ]
  },
  {
   "cell_type": "code",
   "execution_count": 44,
   "id": "ca9ad488-5133-4166-929e-e99e4c75fd8a",
   "metadata": {},
   "outputs": [],
   "source": [
    "def pad_frame(img_face,pad_amount=100):\n",
    "    arr = np.array([np.pad(img_face[:,:,0], (pad_amount, pad_amount), mode='constant'),\n",
    "    np.pad(img_face[:,:,1], (pad_amount, pad_amount), mode='constant'),\n",
    "    np.pad(img_face[:,:,2], (pad_amount, pad_amount), mode='constant'),])\n",
    "    arr = np.swapaxes(arr,0,1)\n",
    "    arr = np.swapaxes(arr,1,2)\n",
    "    return arr"
   ]
  },
  {
   "cell_type": "code",
   "execution_count": 45,
   "id": "0d50acf6-eb48-4720-8b0e-8c071714ec37",
   "metadata": {},
   "outputs": [],
   "source": [
    "def resize_video(video_data,vid_size_target=(512,512)):\n",
    "    from PIL import Image, ImageEnhance,ImageStat\n",
    "    import numpy as np\n",
    "    \n",
    "    #vid_size_target = np.array((512,512))\n",
    "    vid_size_target = np.array(vid_size_target)\n",
    "    vid_size = np.array((video_data.shape[1],video_data.shape[2]))\n",
    "    nframes = video_data.shape[0]\n",
    "    nchannels = video_data.shape[-1]\n",
    "    video_data_new = np.zeros((nframes,vid_size_target[0],vid_size_target[1],nchannels))\n",
    "    for f in range(nframes):\n",
    "        video_data_new[f,:,:,:] = np.array(Image.fromarray(video_data[f,:,:,:]).resize(vid_size_target,Image.ANTIALIAS))\n",
    "\n",
    "    return video_data_new"
   ]
  },
  {
   "cell_type": "code",
   "execution_count": 46,
   "id": "f5923506-9f50-4f83-98d8-1f569db3a83a",
   "metadata": {},
   "outputs": [],
   "source": [
    "def pad_video(video_data,pad_amount=250,vid_size_target=(512,512)):\n",
    "    video_data_padded = np.array([pad_frame(video_data[f,:,:,:],pad_amount=pad_amount) for f in range(video_data.shape[0])])\n",
    "    video_data_padded_resized = resize_video(video_data_padded,vid_size_target=vid_size_target)\n",
    "    return video_data_padded_resized"
   ]
  },
  {
   "cell_type": "code",
   "execution_count": 63,
   "id": "539f64c5-6df9-4ef5-a645-2d626652fca6",
   "metadata": {},
   "outputs": [
    {
     "name": "stderr",
     "output_type": "stream",
     "text": [
      "100%|███████████████████████████████████████████| 70/70 [07:21<00:00,  6.30s/it]\n"
     ]
    }
   ],
   "source": [
    "for infn in tqdm(files):\n",
    "    video_data = load_video(infn)\n",
    "    for pad in np.arange(0,251,50):\n",
    "        \n",
    "        ofdir = f'../stimuli/stimuli_working_dir/stimuli_cropped_normed_crop_{pad}/'\n",
    "        safe_mkdir(ofdir)\n",
    "        \n",
    "        #ofn = infn.replace(indir,ofdir).replace('.mp4',f'_c{pad}.mp4')\n",
    "        ofn = infn.replace(indir,ofdir)\n",
    "        video_data_padded = pad_video(video_data,pad_amount=pad,vid_size_target=(512,512))\n",
    "        save_video(video_data_padded,ofn)"
   ]
  },
  {
   "cell_type": "code",
   "execution_count": null,
   "id": "fecebcff-1cbc-4a9c-916f-30d44a352e63",
   "metadata": {},
   "outputs": [],
   "source": []
  },
  {
   "cell_type": "code",
   "execution_count": null,
   "id": "e800c08b-ba24-4ac4-a128-ab88b4c49689",
   "metadata": {},
   "outputs": [],
   "source": []
  },
  {
   "cell_type": "code",
   "execution_count": null,
   "id": "e31215ab-3e44-4d9b-a52d-4d6c22b787b2",
   "metadata": {},
   "outputs": [],
   "source": []
  },
  {
   "cell_type": "code",
   "execution_count": null,
   "id": "5f0470b7-4ba8-402f-b5f1-b6d0b44c8f53",
   "metadata": {},
   "outputs": [],
   "source": []
  },
  {
   "cell_type": "code",
   "execution_count": null,
   "id": "a067dcf8-b2c5-461f-9f99-718e480e0724",
   "metadata": {},
   "outputs": [],
   "source": []
  },
  {
   "cell_type": "code",
   "execution_count": null,
   "id": "27575e9f-10f2-41e4-bd3d-da206a235658",
   "metadata": {},
   "outputs": [],
   "source": [
    "ofdir = './stimuli_normed_cb_rand_crop'\n",
    "files = [os.path.join(ofdir,file) for file in os.listdir(ofdir) if file.endswith('.mp4')]\n",
    "files.sort()\n",
    "n = len(files)\n",
    "print(n)\n",
    "files[0:5]"
   ]
  },
  {
   "cell_type": "code",
   "execution_count": null,
   "id": "4e32b93c-6644-4834-a3de-1c3e0b05e3bb",
   "metadata": {},
   "outputs": [],
   "source": [
    "data = np.array([load_video(file)[0,:,:,:].mean(axis=-1).flatten()[::10] for file in tqdm(files)])"
   ]
  },
  {
   "cell_type": "code",
   "execution_count": null,
   "id": "2a1724f2-f2e5-4562-a90b-3b7c986a014e",
   "metadata": {},
   "outputs": [],
   "source": [
    "plt.imshow(np.corrcoef(data))"
   ]
  },
  {
   "cell_type": "code",
   "execution_count": null,
   "id": "36cec9ab-2c57-4d11-9eb7-b76dd31659b6",
   "metadata": {},
   "outputs": [],
   "source": []
  },
  {
   "cell_type": "code",
   "execution_count": null,
   "id": "c0de506b-6865-4f3d-8c9e-1930e1582128",
   "metadata": {},
   "outputs": [],
   "source": [
    "ofdir = './stimuli_normed_cb_rand_crop'\n",
    "files = [os.path.join(ofdir,file) for file in os.listdir(ofdir) if file.endswith('c0.mp4')]\n",
    "files.sort()\n",
    "n = len(files)\n",
    "print(n)\n",
    "files[0:5]"
   ]
  },
  {
   "cell_type": "code",
   "execution_count": null,
   "id": "795ca826-9e90-4a67-9eb6-3522b150916a",
   "metadata": {},
   "outputs": [],
   "source": [
    "data = np.array([load_video(file)[0,:,:,:].mean(axis=-1).flatten()[::10] for file in tqdm(files)])\n",
    "plt.imshow(np.corrcoef(data))"
   ]
  },
  {
   "cell_type": "code",
   "execution_count": null,
   "id": "28673b85-7779-4493-85b4-84453470981d",
   "metadata": {},
   "outputs": [],
   "source": [
    "Y = 1-get_triu(np.corrcoef(data))\n",
    "Z = linkage(Y,'ward')\n",
    "lbls = [file.split('/')[-1].replace('.mp4','')[2] for file in files]\n",
    "plt.figure(figsize=(25,5))\n",
    "dendrogram(Z,0,labels=lbls,orientation='top',leaf_font_size=12,color_threshold=.5,leaf_rotation=0);"
   ]
  },
  {
   "cell_type": "code",
   "execution_count": null,
   "id": "f6d626b5-01f6-4886-9e55-f63490223bbc",
   "metadata": {},
   "outputs": [],
   "source": [
    "np.arange(0,151,50)"
   ]
  },
  {
   "cell_type": "code",
   "execution_count": null,
   "id": "a912e73c-ebb9-4b1b-8f5e-0bf910c84a53",
   "metadata": {},
   "outputs": [],
   "source": [
    "import random\n",
    "data_r = np.array([load_video(file.replace('_c0.mp4',f'_c{random.choice(np.arange(0,151,50))}.mp4'))[0,:,:,:].mean(axis=-1).flatten()[::10] for file in tqdm(files)])\n",
    "plt.imshow(np.corrcoef(data_r))"
   ]
  },
  {
   "cell_type": "code",
   "execution_count": null,
   "id": "360d2b02-6010-47f1-83cf-3cc3832887c7",
   "metadata": {},
   "outputs": [],
   "source": [
    "Y = 1-get_triu(np.corrcoef(data_r))\n",
    "Z = linkage(Y,'ward')\n",
    "lbls = [file.split('/')[-1].replace('.mp4','')[2] for file in files]\n",
    "plt.figure(figsize=(25,5))\n",
    "dendrogram(Z,0,labels=lbls,orientation='top',leaf_font_size=12,color_threshold=.5,leaf_rotation=0);"
   ]
  },
  {
   "cell_type": "code",
   "execution_count": null,
   "id": "0766598c-198b-4d60-a091-2ade4436eb6f",
   "metadata": {},
   "outputs": [],
   "source": []
  },
  {
   "cell_type": "code",
   "execution_count": null,
   "id": "94a332df-c300-4385-a7fb-ac666b2a38a2",
   "metadata": {},
   "outputs": [],
   "source": [
    "np.corrcoef(get_triu(np.corrcoef(data_r)),get_triu(np.corrcoef(data)))[0,1]"
   ]
  },
  {
   "cell_type": "code",
   "execution_count": null,
   "id": "2b15f4a9-27d6-4c72-aa83-7d14c35f7b1b",
   "metadata": {},
   "outputs": [],
   "source": []
  },
  {
   "cell_type": "code",
   "execution_count": null,
   "id": "c27c073f-88f1-48d5-957b-f86679718080",
   "metadata": {},
   "outputs": [],
   "source": []
  },
  {
   "cell_type": "code",
   "execution_count": null,
   "id": "86c9fe40-a277-4be1-b4a2-8e79989251de",
   "metadata": {},
   "outputs": [],
   "source": [
    "np.corrcoef(get_triu(np.corrcoef(data_r)),get_triu(np.corrcoef(data)))[0,1]"
   ]
  },
  {
   "cell_type": "code",
   "execution_count": null,
   "id": "1242f698-3adf-47be-8570-797fc0106bf7",
   "metadata": {},
   "outputs": [],
   "source": []
  },
  {
   "cell_type": "code",
   "execution_count": null,
   "id": "4fccac1c-61c8-4bf7-8ad2-b7d97621892f",
   "metadata": {},
   "outputs": [],
   "source": []
  },
  {
   "cell_type": "code",
   "execution_count": null,
   "id": "7e761a33-5cdb-4570-bc15-80e8e6f4b588",
   "metadata": {},
   "outputs": [],
   "source": [
    "# def get_flows(videodata):\n",
    "    \n",
    "#     import cv2\n",
    "    \n",
    "#     nframes = videodata.shape[0]\n",
    "#     nframes = videodata.shape[0]\n",
    "#     flows = []\n",
    "#     idx_i = np.arange(0,nframes-1)\n",
    "#     idx_j = np.arange(1,nframes)\n",
    "#     for i in range(len(idx_i)):\n",
    "#             frame1 = videodata[idx_i[i],:,:,:].mean(axis=-1).astype(np.int8)\n",
    "#             frame2 = videodata[idx_j[j],:,:,:].mean(axis=-1).astype(np.int8)\n",
    "#             flow = cv2.calcOpticalFlowFarneback(frame1, frame2, None, pyr_scale = 0.5, levels = 5, winsize = 11, iterations = 5, poly_n = 5, poly_sigma = 1.1, flags = 0)\n",
    "#             flows.append(flow)\n",
    "            \n",
    "#     return np.array(flows)"
   ]
  },
  {
   "cell_type": "code",
   "execution_count": null,
   "id": "09983873-43c6-4a27-b60d-c1f7eead90ee",
   "metadata": {},
   "outputs": [],
   "source": [
    "# def get_flow_SS(flows):\n",
    "#     return ((flows-flows.mean(axis=0))**2).sum(axis=0).mean(axis=-1)"
   ]
  },
  {
   "cell_type": "code",
   "execution_count": null,
   "id": "921a1093-63ac-4b65-b810-f14b1d0da25e",
   "metadata": {},
   "outputs": [],
   "source": [
    "# def get_magnitude(flows):\n",
    "#     mags = np.array([cv2.cartToPolar(flows[i,:,:,0],flows[i,:,:,1])[0] for i in range(flows.shape[0])])\n",
    "#     return mags.mean(axis=0)"
   ]
  },
  {
   "cell_type": "code",
   "execution_count": null,
   "id": "25e19ff2-6835-4593-891a-7d2dab609b9b",
   "metadata": {},
   "outputs": [],
   "source": [
    "# files = [os.path.join(indir,file) for file in os.listdir(indir) if file.endswith('.mp4')]\n",
    "# file = files[0]\n",
    "# videodata = load_video(file)"
   ]
  },
  {
   "cell_type": "code",
   "execution_count": null,
   "id": "b430093c-e325-4cd5-b474-218be3b9b48c",
   "metadata": {},
   "outputs": [],
   "source": [
    "# #flows_SS = [get_magnitude(get_flows(load_video(file))) for file in tqdm(files)]\n",
    "# flows_SS = [get_flow_SS(get_flows(load_video(file))) for file in tqdm(files)]"
   ]
  },
  {
   "cell_type": "code",
   "execution_count": null,
   "id": "4383ff92-5d73-474c-b527-bfde4cf0023d",
   "metadata": {},
   "outputs": [],
   "source": [
    "# flows_SS[0].shape"
   ]
  },
  {
   "cell_type": "code",
   "execution_count": null,
   "id": "e2a49a9c-db77-45d7-a32f-8e8929588b35",
   "metadata": {},
   "outputs": [],
   "source": [
    "# flows_flat = np.array([np.array(flows_SS)[i,:,:].flatten() for i in range(np.array(flows_SS).shape[0])])\n",
    "# flows_flat.shape"
   ]
  },
  {
   "cell_type": "code",
   "execution_count": null,
   "id": "7583ef00-5760-403a-b655-bc8da073ffc2",
   "metadata": {},
   "outputs": [],
   "source": [
    "# plt.imshow(np.corrcoef(flows_flat))"
   ]
  },
  {
   "cell_type": "code",
   "execution_count": null,
   "id": "02cbbdf5-f912-4af8-87ec-3472363374d2",
   "metadata": {},
   "outputs": [],
   "source": [
    "# Y = 1-get_triu(np.corrcoef(flows_flat))\n",
    "# Z = linkage(Y,'ward')\n",
    "# lbls = [file.split('/')[-1].replace('.mp4','')[2:4] for file in files]\n",
    "# plt.figure(figsize=(25,5))\n",
    "# dendrogram(Z,0,labels=lbls,orientation='top',leaf_font_size=12,color_threshold=.5,leaf_rotation=0);"
   ]
  },
  {
   "cell_type": "code",
   "execution_count": null,
   "id": "392b8411-6ed6-45c3-863c-2c217936e611",
   "metadata": {},
   "outputs": [],
   "source": []
  },
  {
   "cell_type": "code",
   "execution_count": null,
   "id": "778fb1d6-08c2-4be6-8584-2a12d78a3f0c",
   "metadata": {},
   "outputs": [],
   "source": []
  },
  {
   "cell_type": "code",
   "execution_count": null,
   "id": "5da0eb5f-6e2c-4c3c-88aa-e62be16a36dd",
   "metadata": {},
   "outputs": [],
   "source": []
  },
  {
   "cell_type": "code",
   "execution_count": null,
   "id": "3c36031b-c622-4177-ad9c-afd3a5181870",
   "metadata": {},
   "outputs": [],
   "source": []
  },
  {
   "cell_type": "code",
   "execution_count": null,
   "id": "072e3417-173f-482a-94d4-f66102a6435d",
   "metadata": {},
   "outputs": [],
   "source": []
  },
  {
   "cell_type": "code",
   "execution_count": null,
   "id": "8ea2c49e-dc22-4fbd-8c9d-1e2b03343cf1",
   "metadata": {},
   "outputs": [],
   "source": []
  },
  {
   "cell_type": "code",
   "execution_count": null,
   "id": "93056e9c-70d9-4c25-8713-4625951c7f70",
   "metadata": {},
   "outputs": [],
   "source": []
  },
  {
   "cell_type": "code",
   "execution_count": null,
   "id": "0224dfa2-4589-4926-a1e0-2d212e4339e7",
   "metadata": {},
   "outputs": [],
   "source": []
  },
  {
   "cell_type": "code",
   "execution_count": null,
   "id": "82a6371c-fb39-4b92-b4c3-d4f037b987f0",
   "metadata": {},
   "outputs": [],
   "source": []
  },
  {
   "cell_type": "code",
   "execution_count": null,
   "id": "ff31236a-b334-4ea7-aeee-6c1f3f02afcc",
   "metadata": {},
   "outputs": [],
   "source": []
  },
  {
   "cell_type": "code",
   "execution_count": null,
   "id": "e02854dd-7d6a-4024-a2ac-e658742c3928",
   "metadata": {},
   "outputs": [],
   "source": []
  },
  {
   "cell_type": "code",
   "execution_count": null,
   "id": "73c9bb6c-03df-4823-a42c-74e0dc7c1001",
   "metadata": {},
   "outputs": [],
   "source": []
  }
 ],
 "metadata": {
  "kernelspec": {
   "display_name": "Python 3 (ipykernel)",
   "language": "python",
   "name": "python3"
  },
  "language_info": {
   "codemirror_mode": {
    "name": "ipython",
    "version": 3
   },
   "file_extension": ".py",
   "mimetype": "text/x-python",
   "name": "python",
   "nbconvert_exporter": "python",
   "pygments_lexer": "ipython3",
   "version": "3.9.7"
  }
 },
 "nbformat": 4,
 "nbformat_minor": 5
}
