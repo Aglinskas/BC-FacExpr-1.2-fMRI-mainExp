{
 "cells": [
  {
   "cell_type": "code",
   "execution_count": 1,
   "id": "20b89eb6-d8eb-49d3-8b2d-93242d8657b4",
   "metadata": {},
   "outputs": [
    {
     "data": {
      "text/plain": [
       "'/Users/aidasaglinskas/Desktop/BC-FacExpr-1.2-fMRI-mainExp'"
      ]
     },
     "execution_count": 1,
     "metadata": {},
     "output_type": "execute_result"
    }
   ],
   "source": [
    "pwd"
   ]
  },
  {
   "cell_type": "code",
   "execution_count": 2,
   "id": "3b2e54f6-4197-4c40-8033-4ea5f402fb7a",
   "metadata": {},
   "outputs": [
    {
     "name": "stderr",
     "output_type": "stream",
     "text": [
      "<frozen importlib._bootstrap>:228: RuntimeWarning: scipy._lib.messagestream.MessageStream size changed, may indicate binary incompatibility. Expected 56 from C header, got 64 from PyObject\n"
     ]
    }
   ],
   "source": [
    "from matplotlib import pyplot as plt\n",
    "from PIL import Image, ImageEnhance,ImageStat\n",
    "import skvideo\n",
    "import skvideo.io\n",
    "import numpy as np\n",
    "import os\n",
    "from tqdm import tqdm\n",
    "import alignfaces as afa"
   ]
  },
  {
   "cell_type": "code",
   "execution_count": 3,
   "id": "b6aabc6d-e279-4446-9dd6-82ea9e2aca06",
   "metadata": {},
   "outputs": [],
   "source": [
    "def load_video(fn):\n",
    "    #fn = 'ID4_h1_1.mp4'\n",
    "    videodata = skvideo.io.vread(fn)\n",
    "    return videodata"
   ]
  },
  {
   "cell_type": "code",
   "execution_count": 4,
   "id": "3b816d23-f34b-493e-8032-6e2c2a4bc533",
   "metadata": {},
   "outputs": [],
   "source": [
    "def save_video(videodata,ofn='outvideo.mp4'):\n",
    "    skvideo.io.vwrite(ofn, videodata.astype(np.uint8),outputdict={'-codec': 'h264', '-filter:v' : 'fps=29.97'})"
   ]
  },
  {
   "cell_type": "code",
   "execution_count": 5,
   "id": "de4ec027-5ba6-447e-87c2-5616f5008be1",
   "metadata": {},
   "outputs": [
    {
     "data": {
      "text/plain": [
       "['./stimuli/ID1_d1_1.mp4',\n",
       " './stimuli/ID1_d1_2.mp4',\n",
       " './stimuli/ID1_d1_3.mp4',\n",
       " './stimuli/ID1_d1_4.mp4',\n",
       " './stimuli/ID1_f_1.mp4']"
      ]
     },
     "execution_count": 5,
     "metadata": {},
     "output_type": "execute_result"
    }
   ],
   "source": [
    "files = [os.path.join('./stimuli/',file) for file in os.listdir('./stimuli/') if file.endswith('.mp4')]\n",
    "files.sort()\n",
    "files[0:5]"
   ]
  },
  {
   "cell_type": "code",
   "execution_count": 6,
   "id": "e4bfc313-54f3-4542-86e7-ab471aba3d71",
   "metadata": {},
   "outputs": [],
   "source": [
    "def split_into_frames(vid_fn):\n",
    "    videodata = load_video(vid_fn)\n",
    "    nframes = videodata.shape[0]\n",
    "    frame_filenames = []\n",
    "    for f in range(nframes):\n",
    "        frame = videodata[f,:,:,:]\n",
    "        frame_ofn = vid_fn.replace('.mp4','').replace('./stimuli/','./stimuli_pics/')+f'frame-{f}.png'\n",
    "        frame_filenames.append(frame_ofn)\n",
    "        Image.fromarray(frame).save(frame_ofn)\n",
    "    return frame_filenames,videodata"
   ]
  },
  {
   "cell_type": "code",
   "execution_count": 7,
   "id": "cbf23f46-688e-4517-afbf-ef836c479a19",
   "metadata": {},
   "outputs": [],
   "source": [
    "def crop_frame(image_fn):\n",
    "    import cv2\n",
    "    trained_data = cv2.CascadeClassifier('haarcascade_frontalface_default.xml')\n",
    "    #image_fn = './stimuli_pics/ID1_d1_1frame-0.png'\n",
    "    img = cv2.imread(image_fn)\n",
    "    img2 = cv2.imread(image_fn)\n",
    "    gray_img = cv2.cvtColor(img, cv2.COLOR_BGR2GRAY)\n",
    "    face_cordinates = trained_data.detectMultiScale(gray_img)\n",
    "    \n",
    "    for (x, y, w, h) in face_cordinates:\n",
    "        cv2.rectangle(img, (x, y), (x+w, y+h), (0, 0, 0), -2)\n",
    "        \n",
    "    img2[img!=0]=0\n",
    "    \n",
    "    return img2,img"
   ]
  },
  {
   "cell_type": "code",
   "execution_count": 8,
   "id": "ebcaff97-efab-4573-a43f-69dac7c62be4",
   "metadata": {},
   "outputs": [],
   "source": [
    "def save_cropped(frame_filenames,videodata,vid_ofn):\n",
    "    mask = np.array([crop_frame(frame_filename)[1] for frame_filename in frame_filenames])\n",
    "    vid_mask = ((mask==0).sum(-1)==3).sum(axis=0)>1    \n",
    "    videodata_cropped = videodata.copy()\n",
    "    nframes = videodata_cropped.shape[0]\n",
    "    for f in range(nframes):\n",
    "        for c in range(3):\n",
    "            videodata_cropped[f,:,:,c][~vid_mask]=0\n",
    "            \n",
    "    save_video(videodata_cropped,ofn=vid_ofn)"
   ]
  },
  {
   "cell_type": "code",
   "execution_count": 11,
   "id": "76f51dff-92fd-4b58-ac4d-6ee83f22d0cf",
   "metadata": {},
   "outputs": [
    {
     "name": "stderr",
     "output_type": "stream",
     "text": [
      "100%|██████████████████████████████████████████████████████████████████████████████████████████| 145/145 [31:02<00:00, 12.85s/it]\n"
     ]
    }
   ],
   "source": [
    "# CROP ALL VIDS\n",
    "for vid_fn in tqdm(files):\n",
    "    frame_filenames,videodata = split_into_frames(vid_fn)\n",
    "    save_cropped(frame_filenames,videodata,vid_fn.replace('./stimuli/','./stimuli_cropped/'))"
   ]
  },
  {
   "cell_type": "code",
   "execution_count": null,
   "id": "3a1acac9-233d-456a-9376-021a54b32022",
   "metadata": {},
   "outputs": [],
   "source": []
  },
  {
   "cell_type": "code",
   "execution_count": null,
   "id": "5413ef4f-5185-4206-bec8-ef8777644af7",
   "metadata": {},
   "outputs": [],
   "source": [
    "# Center of mass for the boxes of indidual frames\n",
    "# "
   ]
  },
  {
   "cell_type": "code",
   "execution_count": null,
   "id": "4b5e219a-eba5-4120-a3f3-561c7e099b37",
   "metadata": {},
   "outputs": [],
   "source": []
  },
  {
   "cell_type": "code",
   "execution_count": null,
   "id": "37a4bdf9-fc62-4457-a107-40fe7963c205",
   "metadata": {},
   "outputs": [],
   "source": []
  },
  {
   "cell_type": "code",
   "execution_count": null,
   "id": "5cad92ac-f742-4f83-91f8-e423c63ffcff",
   "metadata": {},
   "outputs": [],
   "source": []
  },
  {
   "cell_type": "code",
   "execution_count": null,
   "id": "945a7a2d-d78a-4c2a-b2a7-88c9b620f2a3",
   "metadata": {},
   "outputs": [],
   "source": []
  },
  {
   "cell_type": "code",
   "execution_count": null,
   "id": "8e6edc89-c7c3-403f-9485-8b0d8168fc0c",
   "metadata": {},
   "outputs": [],
   "source": [
    "# FIRST ATTEMP WITH MOVING BOX\n",
    "# cropped_vid = np.array([crop_frame(frame_filename)[0] for frame_filename in tqdm(frame_filenames)])\n",
    "#save_video(cropped_vid,ofn='croped_1_outvideo.mp4')"
   ]
  },
  {
   "cell_type": "code",
   "execution_count": null,
   "id": "38b8845a-677d-4918-8eb2-afbc239ca0c2",
   "metadata": {},
   "outputs": [],
   "source": []
  },
  {
   "cell_type": "code",
   "execution_count": null,
   "id": "f0d2ebd0-d450-4d19-8981-870571423c0c",
   "metadata": {},
   "outputs": [],
   "source": []
  },
  {
   "cell_type": "code",
   "execution_count": null,
   "id": "4fc45ab0-760e-48dd-9fee-45c2ed3007ae",
   "metadata": {},
   "outputs": [],
   "source": []
  },
  {
   "cell_type": "code",
   "execution_count": null,
   "id": "869c29de-2f1b-4311-b7b4-e567ad2c3ce6",
   "metadata": {},
   "outputs": [],
   "source": []
  },
  {
   "cell_type": "code",
   "execution_count": null,
   "id": "15c433cd-554e-4269-9ac0-deedb04801ad",
   "metadata": {},
   "outputs": [],
   "source": []
  },
  {
   "cell_type": "code",
   "execution_count": null,
   "id": "e61875a2-6060-4838-ab51-099dd308d4b9",
   "metadata": {},
   "outputs": [],
   "source": []
  },
  {
   "cell_type": "code",
   "execution_count": null,
   "id": "183e1e06-7f47-44a5-ae95-e61c27a4de38",
   "metadata": {},
   "outputs": [],
   "source": []
  },
  {
   "cell_type": "code",
   "execution_count": null,
   "id": "717e3a83-dc80-4486-b11c-f3f91258afe2",
   "metadata": {},
   "outputs": [],
   "source": []
  }
 ],
 "metadata": {
  "kernelspec": {
   "display_name": "Python 3 (ipykernel)",
   "language": "python",
   "name": "python3"
  },
  "language_info": {
   "codemirror_mode": {
    "name": "ipython",
    "version": 3
   },
   "file_extension": ".py",
   "mimetype": "text/x-python",
   "name": "python",
   "nbconvert_exporter": "python",
   "pygments_lexer": "ipython3",
   "version": "3.9.7"
  }
 },
 "nbformat": 4,
 "nbformat_minor": 5
}
