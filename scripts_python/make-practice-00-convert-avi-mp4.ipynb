{
 "cells": [
  {
   "cell_type": "code",
   "execution_count": 71,
   "id": "8dd98c5e-f000-49a0-9b80-f1f9bf748e86",
   "metadata": {},
   "outputs": [
    {
     "data": {
      "text/plain": [
       "'/Users/aidasaglinskas/Desktop/BC-FacExpr-1.2-fMRI-mainExp/scripts_python'"
      ]
     },
     "execution_count": 71,
     "metadata": {},
     "output_type": "execute_result"
    }
   ],
   "source": [
    "pwd"
   ]
  },
  {
   "cell_type": "code",
   "execution_count": 72,
   "id": "bdc9cafd-96a1-4c8d-b825-e190c48c9ff4",
   "metadata": {},
   "outputs": [],
   "source": [
    "from matplotlib import pyplot as plt\n",
    "from PIL import Image, ImageEnhance,ImageStat\n",
    "import skvideo\n",
    "import skvideo.io\n",
    "import numpy as np\n",
    "import os\n",
    "from tqdm import tqdm\n",
    "#import alignfaces as afa\n",
    "import cv2"
   ]
  },
  {
   "cell_type": "code",
   "execution_count": 73,
   "id": "928ff545-1a6f-42be-a881-5ff90edbe30d",
   "metadata": {},
   "outputs": [],
   "source": [
    "def load_video(fn):\n",
    "    #fn = 'ID4_h1_1.mp4'\n",
    "    videodata = skvideo.io.vread(fn)\n",
    "    return videodata"
   ]
  },
  {
   "cell_type": "code",
   "execution_count": 74,
   "id": "12d7dc53-db7f-40f8-8f46-122002a3ba74",
   "metadata": {},
   "outputs": [],
   "source": [
    "def save_video(videodata,ofn='outvideo.mp4'):\n",
    "    #skvideo.io.vwrite(ofn, videodata.astype(np.uint8),outputdict={'-pix_fmt' : 'yuv420p','-codec': 'h264', '-filter:v' : 'fps=20'})\n",
    "    #skvideo.io.vwrite(ofn, videodata.astype(np.uint8),outputdict={'-pix_fmt' : 'yuv420p','-codec': 'h264','-filter:v' : 'fps=20'})\n",
    "    skvideo.io.vwrite(ofn, videodata.astype(np.uint8),outputdict={'-pix_fmt' : 'yuv420p','-codec': 'h264','-filter:v' : 'fps=20'})\n",
    "    \n",
    "    "
   ]
  },
  {
   "cell_type": "code",
   "execution_count": 75,
   "id": "38382254-652b-4898-a500-d9b511c8906b",
   "metadata": {},
   "outputs": [
    {
     "ename": "FileNotFoundError",
     "evalue": "[Errno 2] No such file or directory: '/Volumes/Samsung_T5/disfa/Videos_LeftCamera'",
     "output_type": "error",
     "traceback": [
      "\u001b[0;31m---------------------------------------------------------------------------\u001b[0m",
      "\u001b[0;31mFileNotFoundError\u001b[0m                         Traceback (most recent call last)",
      "\u001b[0;32m/var/folders/7z/j0rrtn791w3082sjd4b6drfw0000gn/T/ipykernel_2944/4204228769.py\u001b[0m in \u001b[0;36m<module>\u001b[0;34m\u001b[0m\n\u001b[1;32m      2\u001b[0m \u001b[0mout_dir\u001b[0m \u001b[0;34m=\u001b[0m \u001b[0;34m'/Volumes/Samsung_T5/disfa/Videos_LeftCamera_mp4/'\u001b[0m\u001b[0;34m\u001b[0m\u001b[0;34m\u001b[0m\u001b[0m\n\u001b[1;32m      3\u001b[0m \u001b[0;34m\u001b[0m\u001b[0m\n\u001b[0;32m----> 4\u001b[0;31m \u001b[0mfiles\u001b[0m \u001b[0;34m=\u001b[0m \u001b[0;34m[\u001b[0m\u001b[0mf\u001b[0m \u001b[0;32mfor\u001b[0m \u001b[0mf\u001b[0m \u001b[0;32min\u001b[0m \u001b[0mos\u001b[0m\u001b[0;34m.\u001b[0m\u001b[0mlistdir\u001b[0m\u001b[0;34m(\u001b[0m\u001b[0mdisfa_dir\u001b[0m\u001b[0;34m)\u001b[0m \u001b[0;32mif\u001b[0m \u001b[0mall\u001b[0m\u001b[0;34m(\u001b[0m\u001b[0;34m(\u001b[0m\u001b[0;32mnot\u001b[0m \u001b[0mf\u001b[0m\u001b[0;34m.\u001b[0m\u001b[0mstartswith\u001b[0m\u001b[0;34m(\u001b[0m\u001b[0;34m'.'\u001b[0m\u001b[0;34m)\u001b[0m\u001b[0;34m,\u001b[0m\u001b[0mf\u001b[0m\u001b[0;34m.\u001b[0m\u001b[0mendswith\u001b[0m\u001b[0;34m(\u001b[0m\u001b[0;34m'.avi'\u001b[0m\u001b[0;34m)\u001b[0m\u001b[0;34m)\u001b[0m\u001b[0;34m)\u001b[0m\u001b[0;34m]\u001b[0m\u001b[0;34m\u001b[0m\u001b[0;34m\u001b[0m\u001b[0m\n\u001b[0m\u001b[1;32m      5\u001b[0m \u001b[0mfiles\u001b[0m\u001b[0;34m.\u001b[0m\u001b[0msort\u001b[0m\u001b[0;34m(\u001b[0m\u001b[0;34m)\u001b[0m\u001b[0;34m\u001b[0m\u001b[0;34m\u001b[0m\u001b[0m\n\u001b[1;32m      6\u001b[0m \u001b[0mn\u001b[0m \u001b[0;34m=\u001b[0m \u001b[0mlen\u001b[0m\u001b[0;34m(\u001b[0m\u001b[0mfiles\u001b[0m\u001b[0;34m)\u001b[0m\u001b[0;34m\u001b[0m\u001b[0;34m\u001b[0m\u001b[0m\n",
      "\u001b[0;31mFileNotFoundError\u001b[0m: [Errno 2] No such file or directory: '/Volumes/Samsung_T5/disfa/Videos_LeftCamera'"
     ]
    }
   ],
   "source": [
    "disfa_dir = '/Volumes/Samsung_T5/disfa/Videos_LeftCamera'\n",
    "out_dir = '/Volumes/Samsung_T5/disfa/Videos_LeftCamera_mp4/'\n",
    "\n",
    "files = [f for f in os.listdir(disfa_dir) if all((not f.startswith('.'),f.endswith('.avi')))]\n",
    "files.sort()\n",
    "n = len(files)\n",
    "print(n)\n",
    "files[0:5]"
   ]
  },
  {
   "cell_type": "code",
   "execution_count": 19,
   "id": "cdb821bb-883e-4ab5-bf9c-0525c914bdf0",
   "metadata": {},
   "outputs": [
    {
     "data": {
      "text/plain": [
       "'/Volumes/Samsung_T5/disfa/Videos_LeftCamera/LeftVideoSN001_comp.avi'"
      ]
     },
     "execution_count": 19,
     "metadata": {},
     "output_type": "execute_result"
    }
   ],
   "source": [
    "os.path.join(disfa_dir,files[i])"
   ]
  },
  {
   "cell_type": "code",
   "execution_count": 29,
   "id": "a823d20e-7c0f-4f3f-82a8-4309feeb7176",
   "metadata": {},
   "outputs": [],
   "source": [
    "i = 0\n",
    "\n",
    "infn = os.path.join(disfa_dir,files[i])\n",
    "ofn = os.path.join(out_dir,files[i].replace('.avi','.mov'))\n",
    "\n",
    "video_data = load_video(infn)\n",
    "save_video(video_data,ofn)\n",
    "video_data2 = load_video(ofn)"
   ]
  },
  {
   "cell_type": "code",
   "execution_count": 30,
   "id": "81dbdc7e-015a-4432-8ed5-2cbaa0dc6210",
   "metadata": {},
   "outputs": [
    {
     "name": "stdout",
     "output_type": "stream",
     "text": [
      "(4845, 768, 1024, 3)\n",
      "(4845, 768, 1024, 3)\n"
     ]
    }
   ],
   "source": [
    "print(video_data.shape)\n",
    "print(video_data2.shape)"
   ]
  },
  {
   "cell_type": "code",
   "execution_count": 41,
   "id": "3054883f-e26a-438a-9d89-32df0e1024c8",
   "metadata": {},
   "outputs": [
    {
     "name": "stdout",
     "output_type": "stream",
     "text": [
      "4.0375\n",
      "3.23\n"
     ]
    }
   ],
   "source": [
    "print(float(skvideo.io.ffprobe(infn)['video']['@duration'])/60)\n",
    "print(float(skvideo.io.ffprobe(ofn)['video']['@duration'])/60)"
   ]
  },
  {
   "cell_type": "code",
   "execution_count": 58,
   "id": "439ce238-69a8-43ba-afba-f234086c483b",
   "metadata": {},
   "outputs": [
    {
     "name": "stdout",
     "output_type": "stream",
     "text": [
      "2.002\n"
     ]
    }
   ],
   "source": [
    "infn = '/Users/aidasaglinskas/Desktop/BC-FacExpr-1.2-fMRI-mainExp/stimuli/stimuli_raw/id1d1.mp4'\n",
    "print(float(skvideo.io.ffprobe(infn)['video']['@duration']))\n"
   ]
  },
  {
   "cell_type": "code",
   "execution_count": null,
   "id": "ca7e481d-fa7e-4664-9fa3-094366f44c82",
   "metadata": {},
   "outputs": [],
   "source": []
  },
  {
   "cell_type": "code",
   "execution_count": 69,
   "id": "79b2a1f0-3d29-4ce8-bbf7-34a0e8834e65",
   "metadata": {},
   "outputs": [],
   "source": [
    "def save_video(videodata,ofn='outvideo.mp4'):\n",
    "    #skvideo.io.vwrite(ofn, videodata.astype(np.uint8),outputdict={'-pix_fmt' : 'yuv420p','-codec': 'h264', '-filter:v' : 'fps=20'})\n",
    "    #skvideo.io.vwrite(ofn, videodata.astype(np.uint8),outputdict={'-pix_fmt' : 'yuv420p','-codec': 'h264','-filter:v' : 'fps=20'})\n",
    "    #skvideo.io.vwrite(ofn, videodata.astype(np.uint8),outputdict={'-pix_fmt' : 'yuv420p','-codec': 'h264','-filter:v' : 'fps=20'})\n",
    "    #skvideo.io.vwrite(ofn, videodata.astype(np.uint8))\n",
    "    skvideo.io.vwrite(ofn, videodata.astype(np.uint8),outputdict={'-pix_fmt' : 'yuv420p','-codec': 'h264','-filter:v' : 'fps=600'})"
   ]
  },
  {
   "cell_type": "code",
   "execution_count": 70,
   "id": "794d206a-ef3c-4c58-9267-337fc00d1af4",
   "metadata": {},
   "outputs": [
    {
     "name": "stdout",
     "output_type": "stream",
     "text": [
      "(60, 720, 1280, 3)\n",
      "(1440, 720, 1280, 3)\n",
      "2.002\n",
      "2.4\n"
     ]
    }
   ],
   "source": [
    "infn = 'id1d1.mp4'\n",
    "ofn = 'id1d1.mov'\n",
    "\n",
    "video_data = load_video(infn)\n",
    "save_video(video_data,ofn)\n",
    "video_data2 = load_video(ofn)\n",
    "\n",
    "print(video_data.shape)\n",
    "print(video_data2.shape)\n",
    "\n",
    "print(float(skvideo.io.ffprobe(infn)['video']['@duration']))\n",
    "print(float(skvideo.io.ffprobe(ofn)['video']['@duration']))"
   ]
  },
  {
   "cell_type": "code",
   "execution_count": null,
   "id": "0aa8bddd-7df9-490a-9f33-01a0bf3adda7",
   "metadata": {},
   "outputs": [],
   "source": []
  },
  {
   "cell_type": "code",
   "execution_count": null,
   "id": "d0bbeb02-dc5c-4ac2-a72c-134f7a1d04eb",
   "metadata": {},
   "outputs": [],
   "source": []
  },
  {
   "cell_type": "code",
   "execution_count": null,
   "id": "c672e381-674f-477a-a3f7-7d8775c3fc32",
   "metadata": {},
   "outputs": [],
   "source": []
  },
  {
   "cell_type": "code",
   "execution_count": null,
   "id": "0dbbd0dd-7cd9-4825-a215-15ca859ac656",
   "metadata": {},
   "outputs": [],
   "source": []
  },
  {
   "cell_type": "code",
   "execution_count": 44,
   "id": "71fb27fd-7d01-463d-95d5-f04ec2110c55",
   "metadata": {},
   "outputs": [],
   "source": [
    "i = 0\n",
    "\n",
    "infn = os.path.join(disfa_dir,files[i])\n",
    "ofn = os.path.join(out_dir,files[i].replace('.avi','.mov'))\n",
    "\n",
    "video_data = load_video(infn)\n",
    "save_video(video_data,ofn)\n",
    "video_data2 = load_video(ofn)"
   ]
  },
  {
   "cell_type": "code",
   "execution_count": 45,
   "id": "6297055a-ac0c-4b3c-a8de-3fea50e02a5c",
   "metadata": {},
   "outputs": [
    {
     "name": "stdout",
     "output_type": "stream",
     "text": [
      "(4845, 768, 1024, 3)\n",
      "(3876, 768, 1024, 3)\n"
     ]
    }
   ],
   "source": [
    "print(video_data.shape)\n",
    "print(video_data2.shape)"
   ]
  },
  {
   "cell_type": "code",
   "execution_count": 46,
   "id": "61c8564c-ea82-4cb1-8d19-9134f3b2ee73",
   "metadata": {},
   "outputs": [
    {
     "name": "stdout",
     "output_type": "stream",
     "text": [
      "4.0375\n",
      "3.23\n"
     ]
    }
   ],
   "source": [
    "print(float(skvideo.io.ffprobe(infn)['video']['@duration'])/60)\n",
    "print(float(skvideo.io.ffprobe(ofn)['video']['@duration'])/60)"
   ]
  },
  {
   "cell_type": "code",
   "execution_count": null,
   "id": "46199e2d-7055-4c17-aa4c-2d8e79676508",
   "metadata": {},
   "outputs": [],
   "source": []
  },
  {
   "cell_type": "code",
   "execution_count": null,
   "id": "84ac7079-0a10-4776-af5a-26a52644791c",
   "metadata": {},
   "outputs": [],
   "source": []
  },
  {
   "cell_type": "code",
   "execution_count": 6,
   "id": "a8a23096-ed61-48a2-9c02-8a636dc0d2e0",
   "metadata": {},
   "outputs": [
    {
     "name": "stderr",
     "output_type": "stream",
     "text": [
      "100%|████████████████████████████████████████| 27/27 [1:01:33<00:00, 136.79s/it]\n"
     ]
    }
   ],
   "source": [
    "for i in tqdm(range(len(files))):\n",
    "    video_data = load_video(os.path.join(disfa_dir,files[i]))\n",
    "    save_video(video_data,ofn=os.path.join(out_dir,files[i].replace('.avi','.mp4')))"
   ]
  },
  {
   "cell_type": "code",
   "execution_count": null,
   "id": "fd9dcf5a-4663-4972-bb1c-087639412e10",
   "metadata": {},
   "outputs": [],
   "source": []
  },
  {
   "cell_type": "code",
   "execution_count": null,
   "id": "8a159c87-8ec1-4c6b-80b4-bd86bda360ec",
   "metadata": {},
   "outputs": [],
   "source": []
  },
  {
   "cell_type": "code",
   "execution_count": 7,
   "id": "1d3a2d8b-7b21-46d9-b90b-7ceb6dd39355",
   "metadata": {},
   "outputs": [
    {
     "name": "stdout",
     "output_type": "stream",
     "text": [
      "27\n"
     ]
    },
    {
     "data": {
      "text/plain": [
       "['RightVideoSN001_Comp.avi',\n",
       " 'RightVideoSN002_comp.avi',\n",
       " 'RightVideoSN003_comp.avi',\n",
       " 'RightVideoSN004_comp.avi',\n",
       " 'RightVideoSN005_comp.avi']"
      ]
     },
     "execution_count": 7,
     "metadata": {},
     "output_type": "execute_result"
    }
   ],
   "source": [
    "disfa_dir = '/Volumes/Samsung_T5/disfa/Video_RightCamera'\n",
    "out_dir = '/Volumes/Samsung_T5/disfa/Videos_RightCamera_mp4/'\n",
    "\n",
    "files = [f for f in os.listdir(disfa_dir) if all((not f.startswith('.'),f.endswith('.avi')))]\n",
    "files.sort()\n",
    "n = len(files)\n",
    "print(n)\n",
    "files[0:5]"
   ]
  },
  {
   "cell_type": "code",
   "execution_count": 8,
   "id": "99dba857-f64e-405f-831f-37d8122bb248",
   "metadata": {},
   "outputs": [
    {
     "name": "stderr",
     "output_type": "stream",
     "text": [
      "100%|████████████████████████████████████████| 27/27 [1:00:24<00:00, 134.23s/it]\n"
     ]
    }
   ],
   "source": [
    "for i in tqdm(range(len(files))):\n",
    "    video_data = load_video(os.path.join(disfa_dir,files[i]))\n",
    "    save_video(video_data,ofn=os.path.join(out_dir,files[i].replace('.avi','.mp4')))"
   ]
  },
  {
   "cell_type": "code",
   "execution_count": null,
   "id": "e4d57743-dcd1-4969-8329-78d6659a361c",
   "metadata": {},
   "outputs": [],
   "source": []
  }
 ],
 "metadata": {
  "kernelspec": {
   "display_name": "Python 3 (ipykernel)",
   "language": "python",
   "name": "python3"
  },
  "language_info": {
   "codemirror_mode": {
    "name": "ipython",
    "version": 3
   },
   "file_extension": ".py",
   "mimetype": "text/x-python",
   "name": "python",
   "nbconvert_exporter": "python",
   "pygments_lexer": "ipython3",
   "version": "3.9.7"
  }
 },
 "nbformat": 4,
 "nbformat_minor": 5
}
