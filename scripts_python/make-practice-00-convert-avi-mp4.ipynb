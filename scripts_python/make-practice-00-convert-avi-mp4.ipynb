{
 "cells": [
  {
   "cell_type": "code",
   "execution_count": 1,
   "id": "8dd98c5e-f000-49a0-9b80-f1f9bf748e86",
   "metadata": {},
   "outputs": [
    {
     "data": {
      "text/plain": [
       "'/Users/aidasaglinskas/Desktop/BC-FacExpr-1.2-fMRI-mainExp/scripts_python'"
      ]
     },
     "execution_count": 1,
     "metadata": {},
     "output_type": "execute_result"
    }
   ],
   "source": [
    "pwd"
   ]
  },
  {
   "cell_type": "code",
   "execution_count": 2,
   "id": "bdc9cafd-96a1-4c8d-b825-e190c48c9ff4",
   "metadata": {},
   "outputs": [
    {
     "name": "stderr",
     "output_type": "stream",
     "text": [
      "<frozen importlib._bootstrap>:228: RuntimeWarning: scipy._lib.messagestream.MessageStream size changed, may indicate binary incompatibility. Expected 56 from C header, got 64 from PyObject\n"
     ]
    }
   ],
   "source": [
    "from matplotlib import pyplot as plt\n",
    "from PIL import Image, ImageEnhance,ImageStat\n",
    "import skvideo\n",
    "import skvideo.io\n",
    "import numpy as np\n",
    "import os\n",
    "from tqdm import tqdm\n",
    "import alignfaces as afa\n",
    "import cv2"
   ]
  },
  {
   "cell_type": "code",
   "execution_count": 3,
   "id": "928ff545-1a6f-42be-a881-5ff90edbe30d",
   "metadata": {},
   "outputs": [],
   "source": [
    "def load_video(fn):\n",
    "    #fn = 'ID4_h1_1.mp4'\n",
    "    videodata = skvideo.io.vread(fn)\n",
    "    return videodata"
   ]
  },
  {
   "cell_type": "code",
   "execution_count": 4,
   "id": "12d7dc53-db7f-40f8-8f46-122002a3ba74",
   "metadata": {},
   "outputs": [],
   "source": [
    "def save_video(videodata,ofn='outvideo.mp4'):\n",
    "    skvideo.io.vwrite(ofn, videodata.astype(np.uint8),outputdict={'-pix_fmt' : 'yuv420p','-codec': 'h264', '-filter:v' : 'fps=20'})"
   ]
  },
  {
   "cell_type": "code",
   "execution_count": 5,
   "id": "38382254-652b-4898-a500-d9b511c8906b",
   "metadata": {},
   "outputs": [
    {
     "name": "stdout",
     "output_type": "stream",
     "text": [
      "27\n"
     ]
    },
    {
     "data": {
      "text/plain": [
       "['LeftVideoSN001_comp.avi',\n",
       " 'LeftVideoSN002_comp.avi',\n",
       " 'LeftVideoSN003_comp.avi',\n",
       " 'LeftVideoSN004_comp.avi',\n",
       " 'LeftVideoSN005_comp.avi']"
      ]
     },
     "execution_count": 5,
     "metadata": {},
     "output_type": "execute_result"
    }
   ],
   "source": [
    "disfa_dir = '/Volumes/Samsung_T5/disfa/Videos_LeftCamera'\n",
    "out_dir = '/Volumes/Samsung_T5/disfa/Videos_LeftCamera_mp4/'\n",
    "\n",
    "files = [f for f in os.listdir(disfa_dir) if all((not f.startswith('.'),f.endswith('.avi')))]\n",
    "files.sort()\n",
    "n = len(files)\n",
    "print(n)\n",
    "files[0:5]"
   ]
  },
  {
   "cell_type": "code",
   "execution_count": 6,
   "id": "a8a23096-ed61-48a2-9c02-8a636dc0d2e0",
   "metadata": {},
   "outputs": [
    {
     "name": "stderr",
     "output_type": "stream",
     "text": [
      "100%|████████████████████████████████████████| 27/27 [1:01:33<00:00, 136.79s/it]\n"
     ]
    }
   ],
   "source": [
    "for i in tqdm(range(len(files))):\n",
    "    video_data = load_video(os.path.join(disfa_dir,files[i]))\n",
    "    save_video(video_data,ofn=os.path.join(out_dir,files[i].replace('.avi','.mp4')))"
   ]
  },
  {
   "cell_type": "code",
   "execution_count": null,
   "id": "fd9dcf5a-4663-4972-bb1c-087639412e10",
   "metadata": {},
   "outputs": [],
   "source": []
  },
  {
   "cell_type": "code",
   "execution_count": null,
   "id": "8a159c87-8ec1-4c6b-80b4-bd86bda360ec",
   "metadata": {},
   "outputs": [],
   "source": []
  },
  {
   "cell_type": "code",
   "execution_count": 7,
   "id": "1d3a2d8b-7b21-46d9-b90b-7ceb6dd39355",
   "metadata": {},
   "outputs": [
    {
     "name": "stdout",
     "output_type": "stream",
     "text": [
      "27\n"
     ]
    },
    {
     "data": {
      "text/plain": [
       "['RightVideoSN001_Comp.avi',\n",
       " 'RightVideoSN002_comp.avi',\n",
       " 'RightVideoSN003_comp.avi',\n",
       " 'RightVideoSN004_comp.avi',\n",
       " 'RightVideoSN005_comp.avi']"
      ]
     },
     "execution_count": 7,
     "metadata": {},
     "output_type": "execute_result"
    }
   ],
   "source": [
    "disfa_dir = '/Volumes/Samsung_T5/disfa/Video_RightCamera'\n",
    "out_dir = '/Volumes/Samsung_T5/disfa/Videos_RightCamera_mp4/'\n",
    "\n",
    "files = [f for f in os.listdir(disfa_dir) if all((not f.startswith('.'),f.endswith('.avi')))]\n",
    "files.sort()\n",
    "n = len(files)\n",
    "print(n)\n",
    "files[0:5]"
   ]
  },
  {
   "cell_type": "code",
   "execution_count": 8,
   "id": "99dba857-f64e-405f-831f-37d8122bb248",
   "metadata": {},
   "outputs": [
    {
     "name": "stderr",
     "output_type": "stream",
     "text": [
      "100%|████████████████████████████████████████| 27/27 [1:00:24<00:00, 134.23s/it]\n"
     ]
    }
   ],
   "source": [
    "for i in tqdm(range(len(files))):\n",
    "    video_data = load_video(os.path.join(disfa_dir,files[i]))\n",
    "    save_video(video_data,ofn=os.path.join(out_dir,files[i].replace('.avi','.mp4')))"
   ]
  },
  {
   "cell_type": "code",
   "execution_count": null,
   "id": "e4d57743-dcd1-4969-8329-78d6659a361c",
   "metadata": {},
   "outputs": [],
   "source": []
  }
 ],
 "metadata": {
  "kernelspec": {
   "display_name": "Python 3 (ipykernel)",
   "language": "python",
   "name": "python3"
  },
  "language_info": {
   "codemirror_mode": {
    "name": "ipython",
    "version": 3
   },
   "file_extension": ".py",
   "mimetype": "text/x-python",
   "name": "python",
   "nbconvert_exporter": "python",
   "pygments_lexer": "ipython3",
   "version": "3.9.7"
  }
 },
 "nbformat": 4,
 "nbformat_minor": 5
}
