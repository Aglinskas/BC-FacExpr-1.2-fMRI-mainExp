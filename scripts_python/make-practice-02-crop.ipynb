{
 "cells": [
  {
   "cell_type": "code",
   "execution_count": 1,
   "id": "e3ef1bf6-cedc-457e-ab74-d288c4038419",
   "metadata": {},
   "outputs": [
    {
     "data": {
      "text/plain": [
       "'/Users/aidasaglinskas/Desktop/BC-FacExpr-1.2-fMRI-mainExp/scripts_python'"
      ]
     },
     "execution_count": 1,
     "metadata": {},
     "output_type": "execute_result"
    }
   ],
   "source": [
    "pwd"
   ]
  },
  {
   "cell_type": "code",
   "execution_count": 1,
   "id": "a26352be-43d8-4f73-9100-f7bebda0ba3d",
   "metadata": {},
   "outputs": [],
   "source": [
    "from matplotlib import pyplot as plt\n",
    "from PIL import Image, ImageEnhance,ImageStat\n",
    "import skvideo\n",
    "import skvideo.io\n",
    "import numpy as np\n",
    "import os\n",
    "from tqdm import tqdm\n",
    "import cv2"
   ]
  },
  {
   "cell_type": "code",
   "execution_count": 3,
   "id": "d233eaf4-fd9d-4f1c-a759-8e732629e50a",
   "metadata": {},
   "outputs": [],
   "source": [
    "def safe_mkdir(dir_name):\n",
    "    if not os.path.exists(dir_name):\n",
    "        os.mkdir(dir_name)"
   ]
  },
  {
   "cell_type": "code",
   "execution_count": 4,
   "id": "0963a89b-da22-4217-bdff-b493f14f4303",
   "metadata": {},
   "outputs": [],
   "source": [
    "def load_video(fn):\n",
    "    #fn = 'ID4_h1_1.mp4'\n",
    "    videodata = skvideo.io.vread(fn)\n",
    "    return videodata"
   ]
  },
  {
   "cell_type": "code",
   "execution_count": 5,
   "id": "15fa339d-f110-41d9-aee9-334c690c791b",
   "metadata": {},
   "outputs": [],
   "source": [
    "def save_video(videodata,ofn='outvideo.mp4'):\n",
    "    # 20FPS, opens in quicktime\n",
    "    skvideo.io.vwrite(ofn, videodata.astype(np.uint8),outputdict={'-pix_fmt' : 'yuv420p','-codec': 'h264', '-filter:v' : 'fps=20'})\n",
    "    #skvideo.io.vwrite(ofn, videodata.astype(np.uint8),outputdict={'-codec': 'h264', '-filter:v' : 'fps=20'})\n",
    "    #skvideo.io.vwrite(ofn, videodata.astype(np.uint8))"
   ]
  },
  {
   "cell_type": "code",
   "execution_count": 6,
   "id": "8a1e5c8e-7c93-463b-a527-f8961638f544",
   "metadata": {},
   "outputs": [],
   "source": [
    "def return_frame2(img,enlarge=0):\n",
    "    \n",
    "    trained_data = cv2.CascadeClassifier('haarcascade_frontalface_default.xml')\n",
    "    #img = cv2.imread(image_fn)\n",
    "    gray_img = cv2.cvtColor(img, cv2.COLOR_BGR2GRAY)\n",
    "    face_cordinates = trained_data.detectMultiScale(gray_img)\n",
    "    face_cordinates = face_cordinates + [-enlarge,-enlarge,enlarge*2,enlarge*2]\n",
    "    \n",
    "    return face_cordinates\n",
    "\n",
    "def crop_video_to_rect2(video_data,x,y,h,w):\n",
    "    return np.array([crop_frame_to_rect2(video_data[i,:,:,:],x, y, w, h) for i in range(video_data.shape[0])])\n",
    "\n",
    "def crop_frame_to_rect2(img,x,y,h,w):\n",
    "    return img[np.arange(y,y+h),:,:][:,np.arange(x,x+w),:]\n",
    "\n",
    "def resize_video(video_data,vid_size_target=(512,512)):\n",
    "    from PIL import Image, ImageEnhance,ImageStat\n",
    "    import numpy as np\n",
    "    \n",
    "    #vid_size_target = np.array((512,512))\n",
    "    vid_size_target = np.array(vid_size_target)\n",
    "    vid_size = np.array((video_data.shape[1],video_data.shape[2]))\n",
    "    nframes = video_data.shape[0]\n",
    "    nchannels = video_data.shape[-1]\n",
    "    video_data_new = np.zeros((nframes,vid_size_target[0],vid_size_target[1],nchannels))\n",
    "    for f in range(nframes):\n",
    "        video_data_new[f,:,:,:] = np.array(Image.fromarray(video_data[f,:,:,:]).resize(vid_size_target[-1::-1],Image.ANTIALIAS))\n",
    "        \n",
    "    return video_data_new"
   ]
  },
  {
   "cell_type": "code",
   "execution_count": 9,
   "id": "70f19030-4f04-4ca3-928d-243f86b7c570",
   "metadata": {},
   "outputs": [
    {
     "name": "stdout",
     "output_type": "stream",
     "text": [
      "34\n"
     ]
    },
    {
     "data": {
      "text/plain": [
       "['/Users/aidasaglinskas/Desktop/use_expressions_disfa/neutral/RightVideoSN003_comp_n1.mp4',\n",
       " '/Users/aidasaglinskas/Desktop/use_expressions_disfa/neutral/RightVideoSN003_comp_n2.mp4',\n",
       " '/Users/aidasaglinskas/Desktop/use_expressions_disfa/neutral/RightVideoSN003_comp_n3.mp4',\n",
       " '/Users/aidasaglinskas/Desktop/use_expressions_disfa/neutral/RightVideoSN005_comp_n1.mp4',\n",
       " '/Users/aidasaglinskas/Desktop/use_expressions_disfa/neutral/RightVideoSN005_comp_n2.mp4']"
      ]
     },
     "execution_count": 9,
     "metadata": {},
     "output_type": "execute_result"
    }
   ],
   "source": [
    "#indir = '/Volumes/Samsung_T5/disfa/Video_RightCamera_cut'\n",
    "indir = '/Volumes/Samsung_T5/disfa/Videos_LeftCamera_cut'\n",
    "#indir = '/Users/aidasaglinskas/Desktop/use_expressions_disfa/neutral/'\n",
    "files = [os.path.join(indir,file) for file in os.listdir(indir) if all((file.endswith('.mp4'),not file.startswith('.')))]\n",
    "print(len(files))\n",
    "files.sort()\n",
    "files[0:5]"
   ]
  },
  {
   "cell_type": "code",
   "execution_count": 10,
   "id": "7bece3d8-be0f-4f12-b052-6dce0de96a8a",
   "metadata": {},
   "outputs": [],
   "source": [
    "outdir = '/Volumes/Samsung_T5/disfa/Video_LeftCamera_cut_cropped/'\n",
    "#outdir = '/Users/aidasaglinskas/Desktop/use_expressions_disfa/neutral_cropped/'\n",
    "safe_mkdir(outdir)"
   ]
  },
  {
   "cell_type": "code",
   "execution_count": 11,
   "id": "b30abeb1-f72f-4b1a-bdc1-05145bc8e20b",
   "metadata": {},
   "outputs": [
    {
     "name": "stderr",
     "output_type": "stream",
     "text": [
      "  6%|██▌                                         | 2/34 [00:04<01:02,  1.96s/it]"
     ]
    },
    {
     "name": "stdout",
     "output_type": "stream",
     "text": [
      "passing on /Users/aidasaglinskas/Desktop/use_expressions_disfa/neutral/RightVideoSN003_comp_n2.mp4\n"
     ]
    },
    {
     "name": "stderr",
     "output_type": "stream",
     "text": [
      "  9%|███▉                                        | 3/34 [00:05<00:58,  1.88s/it]"
     ]
    },
    {
     "name": "stdout",
     "output_type": "stream",
     "text": [
      "passing on /Users/aidasaglinskas/Desktop/use_expressions_disfa/neutral/RightVideoSN003_comp_n3.mp4\n"
     ]
    },
    {
     "name": "stderr",
     "output_type": "stream",
     "text": [
      " 12%|█████▏                                      | 4/34 [00:07<00:53,  1.78s/it]"
     ]
    },
    {
     "name": "stdout",
     "output_type": "stream",
     "text": [
      "passing on /Users/aidasaglinskas/Desktop/use_expressions_disfa/neutral/RightVideoSN005_comp_n1.mp4\n"
     ]
    },
    {
     "name": "stderr",
     "output_type": "stream",
     "text": [
      " 15%|██████▍                                     | 5/34 [00:08<00:48,  1.67s/it]"
     ]
    },
    {
     "name": "stdout",
     "output_type": "stream",
     "text": [
      "passing on /Users/aidasaglinskas/Desktop/use_expressions_disfa/neutral/RightVideoSN005_comp_n2.mp4\n"
     ]
    },
    {
     "name": "stderr",
     "output_type": "stream",
     "text": [
      " 18%|███████▊                                    | 6/34 [00:10<00:44,  1.61s/it]"
     ]
    },
    {
     "name": "stdout",
     "output_type": "stream",
     "text": [
      "passing on /Users/aidasaglinskas/Desktop/use_expressions_disfa/neutral/RightVideoSN005_comp_n3.mp4\n"
     ]
    },
    {
     "name": "stderr",
     "output_type": "stream",
     "text": [
      " 24%|██████████▎                                 | 8/34 [00:14<00:44,  1.71s/it]"
     ]
    },
    {
     "name": "stdout",
     "output_type": "stream",
     "text": [
      "passing on /Users/aidasaglinskas/Desktop/use_expressions_disfa/neutral/RightVideoSN006_comp_n2.mp4\n"
     ]
    },
    {
     "name": "stderr",
     "output_type": "stream",
     "text": [
      " 26%|███████████▋                                | 9/34 [00:15<00:41,  1.67s/it]"
     ]
    },
    {
     "name": "stdout",
     "output_type": "stream",
     "text": [
      "passing on /Users/aidasaglinskas/Desktop/use_expressions_disfa/neutral/RightVideoSN006_comp_n3.mp4\n"
     ]
    },
    {
     "name": "stderr",
     "output_type": "stream",
     "text": [
      " 29%|████████████▋                              | 10/34 [00:17<00:39,  1.63s/it]"
     ]
    },
    {
     "name": "stdout",
     "output_type": "stream",
     "text": [
      "passing on /Users/aidasaglinskas/Desktop/use_expressions_disfa/neutral/RightVideoSN007_comp_n1.mp4\n"
     ]
    },
    {
     "name": "stderr",
     "output_type": "stream",
     "text": [
      " 32%|█████████████▉                             | 11/34 [00:18<00:36,  1.60s/it]"
     ]
    },
    {
     "name": "stdout",
     "output_type": "stream",
     "text": [
      "passing on /Users/aidasaglinskas/Desktop/use_expressions_disfa/neutral/RightVideoSN007_comp_n2.mp4\n"
     ]
    },
    {
     "name": "stderr",
     "output_type": "stream",
     "text": [
      " 35%|███████████████▏                           | 12/34 [00:20<00:34,  1.57s/it]"
     ]
    },
    {
     "name": "stdout",
     "output_type": "stream",
     "text": [
      "passing on /Users/aidasaglinskas/Desktop/use_expressions_disfa/neutral/RightVideoSN007_comp_n3.mp4\n"
     ]
    },
    {
     "name": "stderr",
     "output_type": "stream",
     "text": [
      " 38%|████████████████▍                          | 13/34 [00:21<00:33,  1.58s/it]"
     ]
    },
    {
     "name": "stdout",
     "output_type": "stream",
     "text": [
      "passing on /Users/aidasaglinskas/Desktop/use_expressions_disfa/neutral/RightVideoSN010_comp_n1.mp4\n"
     ]
    },
    {
     "name": "stderr",
     "output_type": "stream",
     "text": [
      " 41%|█████████████████▋                         | 14/34 [00:23<00:31,  1.59s/it]"
     ]
    },
    {
     "name": "stdout",
     "output_type": "stream",
     "text": [
      "passing on /Users/aidasaglinskas/Desktop/use_expressions_disfa/neutral/RightVideoSN010_comp_n2.mp4\n"
     ]
    },
    {
     "name": "stderr",
     "output_type": "stream",
     "text": [
      " 44%|██████████████████▉                        | 15/34 [00:25<00:30,  1.58s/it]"
     ]
    },
    {
     "name": "stdout",
     "output_type": "stream",
     "text": [
      "passing on /Users/aidasaglinskas/Desktop/use_expressions_disfa/neutral/RightVideoSN010_comp_n3.mp4\n"
     ]
    },
    {
     "name": "stderr",
     "output_type": "stream",
     "text": [
      " 50%|█████████████████████▌                     | 17/34 [00:28<00:29,  1.72s/it]"
     ]
    },
    {
     "name": "stdout",
     "output_type": "stream",
     "text": [
      "passing on /Users/aidasaglinskas/Desktop/use_expressions_disfa/neutral/RightVideoSN013_comp_n2.mp4\n"
     ]
    },
    {
     "name": "stderr",
     "output_type": "stream",
     "text": [
      " 53%|██████████████████████▊                    | 18/34 [00:30<00:26,  1.66s/it]"
     ]
    },
    {
     "name": "stdout",
     "output_type": "stream",
     "text": [
      "passing on /Users/aidasaglinskas/Desktop/use_expressions_disfa/neutral/RightVideoSN013_comp_n3.mp4\n"
     ]
    },
    {
     "name": "stderr",
     "output_type": "stream",
     "text": [
      " 56%|████████████████████████                   | 19/34 [00:32<00:25,  1.70s/it]"
     ]
    },
    {
     "name": "stdout",
     "output_type": "stream",
     "text": [
      "passing on /Users/aidasaglinskas/Desktop/use_expressions_disfa/neutral/RightVideoSN018_comp_n1.mp4\n"
     ]
    },
    {
     "name": "stderr",
     "output_type": "stream",
     "text": [
      " 59%|█████████████████████████▎                 | 20/34 [00:33<00:24,  1.72s/it]"
     ]
    },
    {
     "name": "stdout",
     "output_type": "stream",
     "text": [
      "passing on /Users/aidasaglinskas/Desktop/use_expressions_disfa/neutral/RightVideoSN018_comp_n2.mp4\n"
     ]
    },
    {
     "name": "stderr",
     "output_type": "stream",
     "text": [
      " 62%|██████████████████████████▌                | 21/34 [00:35<00:22,  1.75s/it]"
     ]
    },
    {
     "name": "stdout",
     "output_type": "stream",
     "text": [
      "passing on /Users/aidasaglinskas/Desktop/use_expressions_disfa/neutral/RightVideoSN018_comp_n3.mp4\n"
     ]
    },
    {
     "name": "stderr",
     "output_type": "stream",
     "text": [
      " 68%|█████████████████████████████              | 23/34 [00:39<00:18,  1.69s/it]"
     ]
    },
    {
     "name": "stdout",
     "output_type": "stream",
     "text": [
      "passing on /Users/aidasaglinskas/Desktop/use_expressions_disfa/neutral/RightVideoSN021_comp_n2.mp4\n"
     ]
    },
    {
     "name": "stderr",
     "output_type": "stream",
     "text": [
      " 71%|██████████████████████████████▎            | 24/34 [00:40<00:16,  1.63s/it]"
     ]
    },
    {
     "name": "stdout",
     "output_type": "stream",
     "text": [
      "passing on /Users/aidasaglinskas/Desktop/use_expressions_disfa/neutral/RightVideoSN021_comp_n3.mp4\n"
     ]
    },
    {
     "name": "stderr",
     "output_type": "stream",
     "text": [
      " 74%|███████████████████████████████▌           | 25/34 [00:42<00:14,  1.62s/it]"
     ]
    },
    {
     "name": "stdout",
     "output_type": "stream",
     "text": [
      "passing on /Users/aidasaglinskas/Desktop/use_expressions_disfa/neutral/RightVideoSN024_comp_n1.mp4\n"
     ]
    },
    {
     "name": "stderr",
     "output_type": "stream",
     "text": [
      " 76%|████████████████████████████████▉          | 26/34 [00:43<00:12,  1.60s/it]"
     ]
    },
    {
     "name": "stdout",
     "output_type": "stream",
     "text": [
      "passing on /Users/aidasaglinskas/Desktop/use_expressions_disfa/neutral/RightVideoSN024_comp_n2.mp4\n"
     ]
    },
    {
     "name": "stderr",
     "output_type": "stream",
     "text": [
      " 79%|██████████████████████████████████▏        | 27/34 [00:45<00:11,  1.60s/it]"
     ]
    },
    {
     "name": "stdout",
     "output_type": "stream",
     "text": [
      "passing on /Users/aidasaglinskas/Desktop/use_expressions_disfa/neutral/RightVideoSN024_comp_n3.mp4\n"
     ]
    },
    {
     "name": "stderr",
     "output_type": "stream",
     "text": [
      " 82%|███████████████████████████████████▍       | 28/34 [00:46<00:09,  1.55s/it]"
     ]
    },
    {
     "name": "stdout",
     "output_type": "stream",
     "text": [
      "passing on /Users/aidasaglinskas/Desktop/use_expressions_disfa/neutral/RightVideoSN029_comp_n1.mp4\n"
     ]
    },
    {
     "name": "stderr",
     "output_type": "stream",
     "text": [
      " 85%|████████████████████████████████████▋      | 29/34 [00:48<00:07,  1.51s/it]"
     ]
    },
    {
     "name": "stdout",
     "output_type": "stream",
     "text": [
      "passing on /Users/aidasaglinskas/Desktop/use_expressions_disfa/neutral/RightVideoSN030_comp_n1.mp4\n"
     ]
    },
    {
     "name": "stderr",
     "output_type": "stream",
     "text": [
      " 88%|█████████████████████████████████████▉     | 30/34 [00:49<00:05,  1.47s/it]"
     ]
    },
    {
     "name": "stdout",
     "output_type": "stream",
     "text": [
      "passing on /Users/aidasaglinskas/Desktop/use_expressions_disfa/neutral/RightVideoSN030_comp_n2.mp4\n"
     ]
    },
    {
     "name": "stderr",
     "output_type": "stream",
     "text": [
      " 91%|███████████████████████████████████████▏   | 31/34 [00:51<00:04,  1.47s/it]"
     ]
    },
    {
     "name": "stdout",
     "output_type": "stream",
     "text": [
      "passing on /Users/aidasaglinskas/Desktop/use_expressions_disfa/neutral/RightVideoSN030_comp_n3.mp4\n"
     ]
    },
    {
     "name": "stderr",
     "output_type": "stream",
     "text": [
      " 94%|████████████████████████████████████████▍  | 32/34 [00:52<00:03,  1.52s/it]"
     ]
    },
    {
     "name": "stdout",
     "output_type": "stream",
     "text": [
      "passing on /Users/aidasaglinskas/Desktop/use_expressions_disfa/neutral/RightVideoSN031_comp_n1.mp4\n"
     ]
    },
    {
     "name": "stderr",
     "output_type": "stream",
     "text": [
      " 97%|█████████████████████████████████████████▋ | 33/34 [00:54<00:01,  1.53s/it]"
     ]
    },
    {
     "name": "stdout",
     "output_type": "stream",
     "text": [
      "passing on /Users/aidasaglinskas/Desktop/use_expressions_disfa/neutral/RightVideoSN031_comp_n2.mp4\n"
     ]
    },
    {
     "name": "stderr",
     "output_type": "stream",
     "text": [
      "100%|███████████████████████████████████████████| 34/34 [00:55<00:00,  1.64s/it]"
     ]
    },
    {
     "name": "stdout",
     "output_type": "stream",
     "text": [
      "passing on /Users/aidasaglinskas/Desktop/use_expressions_disfa/neutral/RightVideoSN031_comp_n3.mp4\n"
     ]
    },
    {
     "name": "stderr",
     "output_type": "stream",
     "text": [
      "\n"
     ]
    }
   ],
   "source": [
    "for vid_fn in tqdm(files): \n",
    "    ofn = os.path.join(outdir,vid_fn.split('/')[-1])\n",
    "    if not os.path.exists(ofn):\n",
    "        try:\n",
    "            video_data = load_video(vid_fn)\n",
    "\n",
    "            frame_rects = np.array([return_frame2(video_data[i,:,:,:],enlarge=0)[0] for i in range(video_data.shape[0])])\n",
    "            mean_frame = frame_rects.mean(axis=0).astype(int)\n",
    "            x, y, w, h = mean_frame\n",
    "            video_data_cropped = crop_video_to_rect2(video_data,x,y,h,w)\n",
    "            video_data_cropped = resize_video(video_data_cropped,vid_size_target=(512,512))\n",
    "\n",
    "            save_video(video_data_cropped,ofn)\n",
    "        except:\n",
    "            print(f'passing on {vid_fn}')"
   ]
  },
  {
   "cell_type": "code",
   "execution_count": null,
   "id": "20ddf48f-a2ab-436e-85aa-472140a58228",
   "metadata": {},
   "outputs": [],
   "source": []
  }
 ],
 "metadata": {
  "kernelspec": {
   "display_name": "Python 3 (ipykernel)",
   "language": "python",
   "name": "python3"
  },
  "language_info": {
   "codemirror_mode": {
    "name": "ipython",
    "version": 3
   },
   "file_extension": ".py",
   "mimetype": "text/x-python",
   "name": "python",
   "nbconvert_exporter": "python",
   "pygments_lexer": "ipython3",
   "version": "3.9.7"
  }
 },
 "nbformat": 4,
 "nbformat_minor": 5
}
