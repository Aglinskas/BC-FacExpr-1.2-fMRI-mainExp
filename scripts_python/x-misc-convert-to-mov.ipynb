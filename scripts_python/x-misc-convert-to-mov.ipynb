{
 "cells": [
  {
   "cell_type": "code",
   "execution_count": 3,
   "id": "84b3cb11-8986-47d7-abb6-47e4388f3228",
   "metadata": {},
   "outputs": [
    {
     "data": {
      "text/plain": [
       "'/Users/aidasaglinskas/Desktop/BC-FacExpr-1.2-fMRI-mainExp/scripts_python'"
      ]
     },
     "execution_count": 3,
     "metadata": {},
     "output_type": "execute_result"
    }
   ],
   "source": [
    "pwd"
   ]
  },
  {
   "cell_type": "code",
   "execution_count": 4,
   "id": "246e757a-00f6-4eed-a624-3f0959cd731d",
   "metadata": {},
   "outputs": [],
   "source": [
    "from matplotlib import pyplot as plt\n",
    "from PIL import Image, ImageEnhance,ImageStat\n",
    "import skvideo\n",
    "import skvideo.io\n",
    "import numpy as np\n",
    "import os\n",
    "from tqdm import tqdm\n",
    "import cv2"
   ]
  },
  {
   "cell_type": "code",
   "execution_count": 5,
   "id": "266c90e1-9eec-4a3d-8e72-3bfd4379bef0",
   "metadata": {},
   "outputs": [],
   "source": [
    "def load_video(fn):\n",
    "    #fn = 'ID4_h1_1.mp4'\n",
    "    videodata = skvideo.io.vread(fn)\n",
    "    return videodata"
   ]
  },
  {
   "cell_type": "code",
   "execution_count": 50,
   "id": "228a97e9-e720-4589-ac69-76a71f4f030c",
   "metadata": {},
   "outputs": [],
   "source": [
    "def save_video(videodata,ofn='outvideo.mp4'):\n",
    "    # 20FPS, opens in quicktime\n",
    "    #skvideo.io.vwrite(ofn, videodata.astype(np.uint8),outputdict={'-pix_fmt' : 'yuv420p','-codec': 'h264', '-filter:v' : 'fps=20'})\n",
    "    #skvideo.io.vwrite(ofn, videodata.astype(np.uint8),outputdict={'-codec': 'h264', '-filter:v' : 'fps=20'})\n",
    "    skvideo.io.vwrite(ofn, videodata.astype(np.uint8),outputdict={'-pix_fmt' : 'yuv420p','-codec': 'h264','-filter:v' : 'fps=20'})\n",
    "    "
   ]
  },
  {
   "cell_type": "code",
   "execution_count": 51,
   "id": "75b6f5fa-8dbd-49d1-aa4f-853b45242992",
   "metadata": {},
   "outputs": [],
   "source": []
  },
  {
   "cell_type": "code",
   "execution_count": 52,
   "id": "77589755-1d84-4de3-8167-1ff2d5937e01",
   "metadata": {},
   "outputs": [],
   "source": []
  },
  {
   "cell_type": "code",
   "execution_count": 61,
   "id": "7810a71b-6756-42d7-b8bb-2ff2b0358330",
   "metadata": {},
   "outputs": [
    {
     "name": "stderr",
     "output_type": "stream",
     "text": [
      "100%|█████████████████████████████████████████████| 6/6 [02:53<00:00, 28.84s/it]\n"
     ]
    }
   ],
   "source": [
    "stimdir = '../stimuli/stimuli_experiment/'\n",
    "folders = [f for f in os.listdir(stimdir) if not f.startswith('.')]\n",
    "folders.sort()\n",
    "\n",
    "for f in tqdm(range(len(folders))):\n",
    "    files = [f for f in os.listdir(os.path.join(stimdir,folders[f])) if f.endswith('.mp4')]\n",
    "    files.sort()\n",
    "    for v in range(len(files)):\n",
    "        fn = os.path.join(stimdir,folders[f],files[v])\n",
    "        video_data = load_video(fn)\n",
    "        save_video(video_data,fn.replace('.mp4','.mov'))"
   ]
  },
  {
   "cell_type": "code",
   "execution_count": null,
   "id": "deaa6c39-2ca9-4de4-97ce-15a86dbf0489",
   "metadata": {},
   "outputs": [],
   "source": []
  },
  {
   "cell_type": "code",
   "execution_count": null,
   "id": "880c6672-e3b7-46bf-9ff6-b37336d84cd9",
   "metadata": {},
   "outputs": [],
   "source": []
  },
  {
   "cell_type": "code",
   "execution_count": 64,
   "id": "21f8f2cc-fec3-40bb-9340-1071e0ccd013",
   "metadata": {},
   "outputs": [
    {
     "name": "stderr",
     "output_type": "stream",
     "text": [
      "100%|█████████████████████████████████████████████| 5/5 [00:22<00:00,  4.41s/it]\n"
     ]
    }
   ],
   "source": [
    "stimdir = '../stimuli/stimuli_practice2/'\n",
    "folders = [f for f in os.listdir(stimdir) if not f.startswith('.')]\n",
    "folders.sort()\n",
    "\n",
    "for f in tqdm(range(len(folders))):\n",
    "    files = [f for f in os.listdir(os.path.join(stimdir,folders[f])) if f.endswith('.mp4')]\n",
    "    files.sort()\n",
    "    for v in range(len(files)):\n",
    "        fn = os.path.join(stimdir,folders[f],files[v])\n",
    "        video_data = load_video(fn)\n",
    "        save_video(video_data,fn.replace('.mp4','.mov'))"
   ]
  },
  {
   "cell_type": "code",
   "execution_count": null,
   "id": "2c529a3c-0a86-4b21-a773-e561183aa5ef",
   "metadata": {},
   "outputs": [],
   "source": []
  },
  {
   "cell_type": "code",
   "execution_count": null,
   "id": "1cfe107a-991e-4dd3-8d10-db1fc40a4b1e",
   "metadata": {},
   "outputs": [],
   "source": []
  },
  {
   "cell_type": "code",
   "execution_count": null,
   "id": "cf444e58-3213-4f60-a2b5-384acf3c78f9",
   "metadata": {},
   "outputs": [],
   "source": []
  }
 ],
 "metadata": {
  "kernelspec": {
   "display_name": "Python 3 (ipykernel)",
   "language": "python",
   "name": "python3"
  },
  "language_info": {
   "codemirror_mode": {
    "name": "ipython",
    "version": 3
   },
   "file_extension": ".py",
   "mimetype": "text/x-python",
   "name": "python",
   "nbconvert_exporter": "python",
   "pygments_lexer": "ipython3",
   "version": "3.9.7"
  }
 },
 "nbformat": 4,
 "nbformat_minor": 5
}
