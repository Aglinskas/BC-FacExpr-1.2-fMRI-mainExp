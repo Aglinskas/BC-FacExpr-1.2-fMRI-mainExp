{
 "cells": [
  {
   "cell_type": "code",
   "execution_count": 1,
   "id": "873adb7e-eb00-494d-8df7-22740c2d196f",
   "metadata": {},
   "outputs": [
    {
     "data": {
      "text/plain": [
       "'/Users/aidasaglinskas/Desktop/BC-FacExpr-1.2-fMRI-mainExp'"
      ]
     },
     "execution_count": 1,
     "metadata": {},
     "output_type": "execute_result"
    }
   ],
   "source": [
    "pwd"
   ]
  },
  {
   "cell_type": "code",
   "execution_count": 2,
   "id": "68354615-dfae-4dfc-9125-fdb54fbe1c1f",
   "metadata": {},
   "outputs": [
    {
     "name": "stderr",
     "output_type": "stream",
     "text": [
      "<frozen importlib._bootstrap>:228: RuntimeWarning: scipy._lib.messagestream.MessageStream size changed, may indicate binary incompatibility. Expected 56 from C header, got 64 from PyObject\n"
     ]
    }
   ],
   "source": [
    "from matplotlib import pyplot as plt\n",
    "from PIL import Image, ImageEnhance,ImageStat\n",
    "import skvideo\n",
    "import skvideo.io\n",
    "import numpy as np\n",
    "import os\n",
    "from tqdm import tqdm"
   ]
  },
  {
   "cell_type": "code",
   "execution_count": 3,
   "id": "4e7cd838-5d63-4b64-8532-eae05be28e92",
   "metadata": {},
   "outputs": [],
   "source": [
    "def load_video(fn):\n",
    "    videodata = skvideo.io.vread(fn)\n",
    "    return videodata"
   ]
  },
  {
   "cell_type": "code",
   "execution_count": 4,
   "id": "ed2e126f-094f-4656-8067-b48348cd455f",
   "metadata": {},
   "outputs": [
    {
     "data": {
      "text/plain": [
       "['./stimuli_cropped/id1d1.mp4',\n",
       " './stimuli_cropped/id1d2.mp4',\n",
       " './stimuli_cropped/id1f1.mp4',\n",
       " './stimuli_cropped/id1f2.mp4',\n",
       " './stimuli_cropped/id1h1.mp4']"
      ]
     },
     "execution_count": 4,
     "metadata": {},
     "output_type": "execute_result"
    }
   ],
   "source": [
    "files = [os.path.join('./stimuli_cropped/',file) for file in os.listdir('./stimuli_cropped/') if file.endswith('.mp4')]\n",
    "files.sort()\n",
    "files[0:5]"
   ]
  },
  {
   "cell_type": "code",
   "execution_count": 5,
   "id": "216a67ff-4b98-4326-b703-70fd16c85000",
   "metadata": {},
   "outputs": [
    {
     "data": {
      "text/plain": [
       "70"
      ]
     },
     "execution_count": 5,
     "metadata": {},
     "output_type": "execute_result"
    }
   ],
   "source": [
    "len(files)"
   ]
  },
  {
   "cell_type": "code",
   "execution_count": 6,
   "id": "b321e85b-76e4-43c6-9566-4c88ec870c70",
   "metadata": {},
   "outputs": [
    {
     "name": "stderr",
     "output_type": "stream",
     "text": [
      "100%|███████████████████████████████████████████| 70/70 [00:12<00:00,  5.68it/s]\n"
     ]
    }
   ],
   "source": [
    "hist_brightness = []\n",
    "hist_contrast = []\n",
    "hist_r = []\n",
    "hist_g = []\n",
    "hist_b = []\n",
    "for file in tqdm(files):\n",
    "    vid = load_video(file)\n",
    "    hist_brightness.append(  vid[0,:,:,:].mean()  )\n",
    "    hist_contrast.append(  vid[0,:,:,:].mean(axis=-1).std() )\n",
    "    \n",
    "    hist_r.append( vid[:,:,:,0].mean() )\n",
    "    hist_g.append( vid[:,:,:,1].mean() )\n",
    "    hist_b.append( vid[:,:,:,2].mean() )"
   ]
  },
  {
   "cell_type": "code",
   "execution_count": 7,
   "id": "1336d6ae-a013-49b5-b976-d7912d5d4dd7",
   "metadata": {},
   "outputs": [
    {
     "data": {
      "image/png": "[encoded data removed]",
      "text/plain": [
       "<Figure size 1080x360 with 3 Axes>"
      ]
     },
     "metadata": {
      "needs_background": "light"
     },
     "output_type": "display_data"
    }
   ],
   "source": [
    "plt.figure(figsize=(15,5))\n",
    "plt.subplot(1,3,1)\n",
    "plt.hist(hist_brightness);\n",
    "plt.title('brightness');\n",
    "plt.subplot(1,3,2)\n",
    "plt.hist(hist_contrast);\n",
    "plt.title('contrast');\n",
    "plt.subplot(1,3,3)\n",
    "plt.hist(hist_r,color='r',alpha=.5);\n",
    "plt.hist(hist_g,color='g',alpha=.5);\n",
    "plt.hist(hist_b,color='b',alpha=.5);\n",
    "plt.title('rgb hist');"
   ]
  },
  {
   "cell_type": "code",
   "execution_count": 8,
   "id": "c3905397-3ac7-4463-89c6-b71d950d6794",
   "metadata": {},
   "outputs": [
    {
     "data": {
      "text/plain": [
       "76.97"
      ]
     },
     "execution_count": 8,
     "metadata": {},
     "output_type": "execute_result"
    }
   ],
   "source": [
    "brightness_target = np.array(hist_brightness).mean()\n",
    "brightness_target.round(3)"
   ]
  },
  {
   "cell_type": "code",
   "execution_count": 9,
   "id": "03bcc541-1622-4a53-b831-16cf4cd831a7",
   "metadata": {},
   "outputs": [
    {
     "data": {
      "text/plain": [
       "49.997"
      ]
     },
     "execution_count": 9,
     "metadata": {},
     "output_type": "execute_result"
    }
   ],
   "source": [
    "contrast_target = np.array(hist_contrast).mean()\n",
    "contrast_target.round(3)"
   ]
  },
  {
   "cell_type": "code",
   "execution_count": 10,
   "id": "987bc638-ca77-41fd-abaa-3bf0fda9f0ea",
   "metadata": {},
   "outputs": [
    {
     "data": {
      "text/plain": [
       "(84.384, 70.815, 76.017)"
      ]
     },
     "execution_count": 10,
     "metadata": {},
     "output_type": "execute_result"
    }
   ],
   "source": [
    "target_r = np.array(hist_r).mean().round(3)\n",
    "target_g = np.array(hist_g).mean().round(3)\n",
    "target_b = np.array(hist_b).mean().round(3)\n",
    "(target_r,target_g,target_b)"
   ]
  },
  {
   "cell_type": "code",
   "execution_count": 51,
   "id": "f31ca0fd-ea49-4a9d-8c9a-a64b2d5ffbe3",
   "metadata": {},
   "outputs": [
    {
     "name": "stderr",
     "output_type": "stream",
     "text": [
      "100%|███████████████████████████████████████████| 70/70 [00:08<00:00,  7.92it/s]\n"
     ]
    }
   ],
   "source": [
    "l = 50\n",
    "face_squares = np.array([load_video(files[61])[0,:,:,:][256-l:256+l,256-l:256+l,:] for i in tqdm(range(len(files))) ])"
   ]
  },
  {
   "cell_type": "code",
   "execution_count": 60,
   "id": "e99fe7e4-e430-4e65-a169-b61c46be3816",
   "metadata": {},
   "outputs": [
    {
     "data": {
      "text/plain": [
       "array([153.5199,  69.0759,  47.7125])"
      ]
     },
     "execution_count": 60,
     "metadata": {},
     "output_type": "execute_result"
    }
   ],
   "source": [
    "ctargets = face_squares.mean(axis=0).mean(axis=0).mean(axis=0)\n",
    "ctargets"
   ]
  },
  {
   "cell_type": "code",
   "execution_count": 61,
   "id": "045c7cb7-a35e-4739-bad7-b4657820d7da",
   "metadata": {},
   "outputs": [],
   "source": [
    "# def brighten_video(videodata,factor=1):\n",
    "#     return np.array([np.array(ImageEnhance.Brightness(Image.fromarray(videodata[frame,:,:,:])).enhance(factor)) for frame in range(videodata.shape[0])])"
   ]
  },
  {
   "cell_type": "code",
   "execution_count": 62,
   "id": "415ebe5d-d9a5-4e10-b584-b3499151b692",
   "metadata": {},
   "outputs": [],
   "source": [
    "# def contrast_video(videodata,factor=1):\n",
    "#     return np.array([np.array(ImageEnhance.Contrast(Image.fromarray(videodata[frame,:,:,:])).enhance(factor)) for frame in range(videodata.shape[0])])"
   ]
  },
  {
   "cell_type": "code",
   "execution_count": 13,
   "id": "b2dbd7fa-ca3a-4e83-822d-9d828a0867b2",
   "metadata": {},
   "outputs": [],
   "source": [
    "def save_video(videodata,ofn='outvideo.mp4'):\n",
    "    skvideo.io.vwrite(ofn, videodata.astype(np.uint8),outputdict={'-codec': 'h264', '-filter:v' : 'fps=29.97'})"
   ]
  },
  {
   "cell_type": "code",
   "execution_count": 109,
   "id": "58e53a3a-513d-4acc-88c5-cc01665177a3",
   "metadata": {},
   "outputs": [],
   "source": [
    "def tint_video(videodata,ctargets,bw=False): \n",
    "    #ctargets = (target_r,target_g,target_b)\n",
    "    videodata_copy = videodata.copy()\n",
    "    videodata_copy = videodata_copy.astype(np.float16) # otherwise 255 overflows and you get patches\n",
    "    for frame in range(videodata.shape[0]):\n",
    "        for channel in range(3):\n",
    "            if bw==False:\n",
    "                c_diff = ctargets[channel]-videodata_copy[frame,:,:,channel].mean()\n",
    "                videodata_copy[frame,:,:,channel] = videodata_copy[frame,:,:,channel]+c_diff\n",
    "                videodata_copy[videodata_copy>255]=255\n",
    "                videodata_copy[videodata_copy<0]=0\n",
    "                \n",
    "            else:\n",
    "                bw_frame = np.array(Image.fromarray(videodata_copy[frame,:,:,:]).convert('L'))\n",
    "                videodata_copy[frame,:,:,channel] = bw_frame\n",
    "                \n",
    "    videodata_copy = videodata_copy.astype(np.uint8)\n",
    "    return videodata_copy"
   ]
  },
  {
   "cell_type": "code",
   "execution_count": null,
   "id": "db09e484-47b7-40a5-9c36-595311a166e2",
   "metadata": {},
   "outputs": [],
   "source": []
  },
  {
   "cell_type": "code",
   "execution_count": 67,
   "id": "c5cc5577-4827-412d-9334-be43f91b0d5f",
   "metadata": {},
   "outputs": [],
   "source": [
    "def tint_video_face_square(videodata,face_square,ctargets,bw=False): \n",
    "    \n",
    "    videodata_copy = videodata.copy()\n",
    "    videodata_copy = videodata_copy.astype(np.float16) # otherwise 255 overflows and you get patches\n",
    "    for frame in range(videodata.shape[0]):\n",
    "        for channel in range(3):\n",
    "            if bw==False:\n",
    "                #c_diff = ctargets[channel]-videodata_copy[frame,:,:,channel].mean()\n",
    "                c_diff = ctargets[channel] - face_squares[0].mean(axis=0).mean(axis=0)[channel]\n",
    "                \n",
    "                videodata_copy[frame,:,:,channel] = videodata_copy[frame,:,:,channel]+c_diff\n",
    "                \n",
    "                videodata_copy[videodata_copy>255]=255 # Overflow hax\n",
    "                videodata_copy[videodata_copy<0]=0 # Underflow hax\n",
    "                \n",
    "            else:\n",
    "                bw_frame = np.array(Image.fromarray(videodata_copy[frame,:,:,:]).convert('L'))\n",
    "                videodata_copy[frame,:,:,channel] = bw_frame\n",
    "                \n",
    "    videodata_copy = videodata_copy.astype(np.uint8)\n",
    "    return videodata_copy"
   ]
  },
  {
   "cell_type": "code",
   "execution_count": null,
   "id": "50ca9717-1348-46be-bea5-554cc5b87ec9",
   "metadata": {},
   "outputs": [],
   "source": []
  },
  {
   "cell_type": "code",
   "execution_count": 73,
   "id": "e36ba842-e620-45ea-a22e-5d320cd9b16e",
   "metadata": {},
   "outputs": [
    {
     "data": {
      "text/plain": [
       "array([ 1, 11, 21, 31, 41, 51, 61])"
      ]
     },
     "execution_count": 73,
     "metadata": {},
     "output_type": "execute_result"
    }
   ],
   "source": []
  },
  {
   "cell_type": "code",
   "execution_count": null,
   "id": "d09a207f-31bd-40cd-aa15-3a474e137310",
   "metadata": {},
   "outputs": [
    {
     "name": "stderr",
     "output_type": "stream",
     "text": [
      "  0%|                                                     | 0/7 [00:00<?, ?it/s]"
     ]
    }
   ],
   "source": [
    "# NORMALIZE TO TARGET VALUES\n",
    "#for f in tqdm(range(len(files))):\n",
    "for f in tqdm(  np.arange(1,71,10)  ):\n",
    "    fn = files[f]\n",
    "    videodata = load_video(fn)\n",
    "    plt.figure(figsize=(10,5))\n",
    "    plt.subplot(1,2,1)\n",
    "    plt.imshow(videodata[0,:,:,:]);plt.xticks([]);plt.yticks([]);\n",
    "    \n",
    "    videodata = tint_video_face_square(videodata,face_squares[f],ctargets)\n",
    "    \n",
    "    plt.subplot(1,2,2)\n",
    "    plt.imshow(videodata[0,:,:,:]);plt.xticks([]);plt.yticks([]);\n",
    "    plt.tight_layout()\n",
    "    plt.show()\n",
    "    \n",
    "    save_video(videodata,ofn=fn.replace('./stimuli_cropped/','./stimuli_cropped_normed_cb_tint/'))"
   ]
  },
  {
   "cell_type": "code",
   "execution_count": null,
   "id": "130131aa-0598-4c26-aad7-9b3a1f80a5ad",
   "metadata": {},
   "outputs": [],
   "source": []
  },
  {
   "cell_type": "code",
   "execution_count": null,
   "id": "54a79c14-9cea-491f-9d0e-84995c21993f",
   "metadata": {},
   "outputs": [],
   "source": []
  },
  {
   "cell_type": "code",
   "execution_count": null,
   "id": "97dbe405-c839-4d52-a764-60b438f50d81",
   "metadata": {},
   "outputs": [],
   "source": []
  },
  {
   "cell_type": "code",
   "execution_count": 118,
   "id": "640467e1-5685-476b-9757-197d6ecc20d3",
   "metadata": {},
   "outputs": [
    {
     "name": "stderr",
     "output_type": "stream",
     "text": [
      "100%|███████████████████████████████████████████| 10/10 [00:01<00:00,  6.65it/s]\n"
     ]
    },
    {
     "data": {
      "image/png": "[encoded data removed]",
      "text/plain": [
       "<Figure size 1080x360 with 3 Axes>"
      ]
     },
     "metadata": {
      "needs_background": "light"
     },
     "output_type": "display_data"
    }
   ],
   "source": [
    "files = [os.path.join('./stimuli_cropped_normed/',file) for file in os.listdir('./stimuli_cropped_normed/') if file.endswith('.mp4')]\n",
    "files.sort()\n",
    "files[0:5]\n",
    "\n",
    "hist_brightness = []\n",
    "hist_contrast = []\n",
    "\n",
    "hist_r = []\n",
    "hist_g = []\n",
    "hist_b = []\n",
    "\n",
    "\n",
    "for file in tqdm(files):\n",
    "    vid = load_video(file)\n",
    "    hist_brightness.append(  vid[0,:,:,:].mean()  )\n",
    "    hist_contrast.append(  vid[0,:,:,:].mean(axis=-1).std() )\n",
    "            \n",
    "    hist_r.append( vid[0,:,:,0].mean() )\n",
    "    hist_g.append( vid[0,:,:,1].mean() )\n",
    "    hist_b.append( vid[0,:,:,2].mean() )\n",
    "\n",
    "    \n",
    "plt.figure(figsize=(15,5))\n",
    "plt.subplot(1,3,1)\n",
    "plt.hist(hist_brightness);\n",
    "plt.title('brightness');\n",
    "plt.subplot(1,3,2)\n",
    "plt.hist(hist_contrast);\n",
    "plt.title('contrast');\n",
    "plt.subplot(1,3,3)\n",
    "plt.hist(hist_r,color='r',alpha=.5);\n",
    "plt.hist(hist_g,color='g',alpha=.5);\n",
    "plt.hist(hist_b,color='b',alpha=.5);\n",
    "plt.title('rgb hist');"
   ]
  },
  {
   "cell_type": "code",
   "execution_count": 123,
   "id": "4860fd8b-4795-47ee-a572-3d821c5f36be",
   "metadata": {},
   "outputs": [
    {
     "data": {
      "text/plain": [
       "125.516"
      ]
     },
     "execution_count": 123,
     "metadata": {},
     "output_type": "execute_result"
    }
   ],
   "source": [
    "np.array(hist_brightness).mean().round(3)"
   ]
  },
  {
   "cell_type": "code",
   "execution_count": 125,
   "id": "9001f463-972e-4f6e-8c90-b377b1fe8d97",
   "metadata": {},
   "outputs": [
    {
     "data": {
      "text/plain": [
       "28.657"
      ]
     },
     "execution_count": 125,
     "metadata": {},
     "output_type": "execute_result"
    }
   ],
   "source": [
    "np.array(hist_contrast).mean().round(3)"
   ]
  },
  {
   "cell_type": "code",
   "execution_count": 121,
   "id": "c454d279-44b4-4098-bf16-3f22e98ab0a5",
   "metadata": {},
   "outputs": [
    {
     "data": {
      "text/plain": [
       "[124.844, 131.399, 120.307]"
      ]
     },
     "execution_count": 121,
     "metadata": {},
     "output_type": "execute_result"
    }
   ],
   "source": [
    "[np.array(i).mean().round(3) for i in [hist_r,hist_g,hist_b]]"
   ]
  },
  {
   "cell_type": "code",
   "execution_count": null,
   "id": "7021f7a1-b113-4e9f-b287-04908e08deff",
   "metadata": {},
   "outputs": [],
   "source": []
  }
 ],
 "metadata": {
  "kernelspec": {
   "display_name": "Python 3 (ipykernel)",
   "language": "python",
   "name": "python3"
  },
  "language_info": {
   "codemirror_mode": {
    "name": "ipython",
    "version": 3
   },
   "file_extension": ".py",
   "mimetype": "text/x-python",
   "name": "python",
   "nbconvert_exporter": "python",
   "pygments_lexer": "ipython3",
   "version": "3.9.7"
  }
 },
 "nbformat": 4,
 "nbformat_minor": 5
}
